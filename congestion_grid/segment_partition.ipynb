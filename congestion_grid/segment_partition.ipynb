{
 "cells": [
  {
   "cell_type": "code",
   "execution_count": 405,
   "metadata": {},
   "outputs": [],
   "source": [
    "import configparser\n",
    "from pathlib import Path\n",
    "import pandas as pd\n",
    "import pandas.io.sql as pandasql\n",
    "from psycopg2 import connect\n",
    "import numpy\n",
    "from psycopg2.extras import execute_values\n",
    "import matplotlib as mpl\n",
    "import numpy as np\n",
    "import matplotlib.pyplot as plt\n",
    "import matplotlib.ticker as ticker\n",
    "from setuptools import setup, find_packages\n",
    "from itertools import islice \n",
    "import matplotlib.patches as patches\n",
    "CONFIG = configparser.ConfigParser()\n",
    "CONFIG.read(str(Path.home().joinpath('db.cfg')))\n",
    "from itertools import combinations, chain\n",
    "dbset = CONFIG['DBSETTINGS']\n",
    "con = connect(**dbset)"
   ]
  },
  {
   "cell_type": "code",
   "execution_count": 160,
   "metadata": {},
   "outputs": [],
   "source": [
    "merged = pd.read_sql('''select * from congestion.merged_segments_v2 where length >200\n",
    "''',con)"
   ]
  },
  {
   "cell_type": "markdown",
   "metadata": {},
   "source": [
    "## Greedy forward partitioning"
   ]
  },
  {
   "cell_type": "code",
   "execution_count": 161,
   "metadata": {},
   "outputs": [],
   "source": [
    "def handle_subsection(subsection, prev_i, max_segment_length=250.):\n",
    "    # Scans through each subsection of `lengths`, grouping together\n",
    "    # segments up to `max_segment_length`.\n",
    "    subsec_segments = [{'idx': [prev_i, ], 'length': subsection[0]}]\n",
    "\n",
    "    if len(subsection) > 1:\n",
    "        for i, item in enumerate(subsection[1:]):\n",
    "            if subsec_segments[-1]['length'] + item < max_segment_length or (i== 0 and subsec_segments[0]['length'] < 100):\n",
    "                subsec_segments[-1]['idx'].append(i + prev_i + 1)\n",
    "                subsec_segments[-1]['length'] += item\n",
    "            elif subsec_segments[-1]['length'] + item > max_segment_length:\n",
    "                subsec_segments.append({'idx': [i + prev_i + 1, ], 'length': item})\n",
    "    return subsec_segments"
   ]
  },
  {
   "cell_type": "code",
   "execution_count": null,
   "metadata": {},
   "outputs": [],
   "source": [
    "# forward partition\n",
    "max_multi_length = 250.\n",
    "min_segment_length = 100.\n",
    "for index, row in merged.iterrows():\n",
    "    segment_id = merged['segment_id'].iloc[index].astype(float)\n",
    "    lengths = merged['length_set'].iloc[index]\n",
    "    link_dir = merged['link_set'].iloc[index]    \n",
    "    segments = []\n",
    "    segments.extend(handle_subsection(lengths, 0))\n",
    "    segments = sorted(segments, key=lambda x: x['idx'][0])\n",
    "    too_small = [i for i in range(len(segments)) if segments[i]['length'] < 100]\n",
    "    n_deleted = 0\n",
    "\n",
    "    for ir in too_small:\n",
    "        i = ir - n_deleted\n",
    "        if i == 0:\n",
    "            segments[1]['idx'] = segments[i]['idx'] + segments[1]['idx']\n",
    "            segments[1]['length'] += segments[i]['length']\n",
    "        elif i == len(segments) - 1:\n",
    "            segments[-2]['idx'] += segments[i]['idx']\n",
    "            segments[-2]['length'] += segments[i]['length']\n",
    "        else:\n",
    "            if segments[i - 1]['length'] >= segments[i + 1]['length']:\n",
    "                segments[i + 1]['idx'] = segments[i]['idx'] + segments[i + 1]['idx']\n",
    "                segments[i + 1]['length'] += segments[i]['length']\n",
    "            else:\n",
    "                segments[i - 1]['idx'] += segments[i]['idx']\n",
    "                segments[i - 1]['length'] += segments[i]['length']\n",
    "        del segments[i]\n",
    "        n_deleted += 1\n",
    "    rows = []\n",
    "    for i in range(len(segments)):\n",
    "        id = i\n",
    "        new_length = segments[i]['length']\n",
    "        link_set = []\n",
    "        for i in segments[i]['idx']:\n",
    "            link_set.append(link_dir[i])\n",
    "        row = (segment_id, id, link_set, new_length)\n",
    "        rows.append(row) \n",
    "    sql = '''insert into congestion.test_pythonmerge_probs(segment_id, id, link_set, length) VALUES %s'''    \n",
    "    with con:\n",
    "        with con.cursor() as cur:\n",
    "            execute_values(cur, sql, rows)"
   ]
  },
  {
   "cell_type": "markdown",
   "metadata": {},
   "source": [
    "## Best Group"
   ]
  },
  {
   "cell_type": "code",
   "execution_count": 496,
   "metadata": {},
   "outputs": [],
   "source": [
    "small_groups = pd.read_sql('''with sets as (\n",
    "                                select * from congestion.merged_segments_v2 inner join \n",
    "                                (select distinct segment_id from congestion.partition_result)long\n",
    "                                using (segment_id))\n",
    "\n",
    "                                select * from sets\n",
    "                                where array_length(length_set, 1) <9 and array_length(length_set,1)>2\n",
    "                                ''',con)"
   ]
  },
  {
   "cell_type": "code",
   "execution_count": 497,
   "metadata": {},
   "outputs": [],
   "source": [
    "rows = []\n",
    "for index, row in small_groups.iterrows():\n",
    "    row = []\n",
    "    length_set = small_groups['length_set'].iloc[index]\n",
    "    link_dir = small_groups['link_set'].iloc[index] \n",
    "    segment_id = small_groups['segment_id'].iloc[index].astype(float)\n",
    "    length = small_groups['length'].iloc[index].astype(float)\n",
    "    \n",
    "    # Get number of dividing groups based on length and number of links\n",
    "    num_link, groups = get_num_groups(length_set, length)\n",
    "    \n",
    "    # Return divided group set\n",
    "    return_groups, group_set = return_results(length_set, groups)\n",
    "    # Make selection based on summed length\n",
    "    selection = evaluate_results(return_groups)\n",
    "    \n",
    "    # Retrieve selected partitioned array\n",
    "    result_link, result_length = find_link(group_set, selection)\n",
    "    \n",
    "    # Prepare rows for sql inserting\n",
    "    for i in range(len(result_link)):\n",
    "        new_link_set = result_link[i]\n",
    "        new_length = sum(result_length[i]) \n",
    "        new_length_set = result_length[i]\n",
    "        row = (segment_id, i, new_link_set, new_length_set, new_length)\n",
    "        rows.append(row)\n",
    "\n",
    "sql = '''insert into congestion.partition_all_possibility(segment_id, id, link_set, length_set, length) VALUES %s'''    \n",
    "with con:\n",
    "    with con.cursor() as cur:\n",
    "        execute_values(cur, sql, rows)     "
   ]
  },
  {
   "cell_type": "code",
   "execution_count": 475,
   "metadata": {},
   "outputs": [],
   "source": [
    "def get_num_groups(length_set, length):\n",
    "    num_link = len(length_set)\n",
    "    long_link = 0\n",
    "    for i in length_set:\n",
    "        if i >200:\n",
    "            long_link = long_link + 1\n",
    "    groups = 1+ int(length/200) + long_link\n",
    "    return num_link, groups"
   ]
  },
  {
   "cell_type": "code",
   "execution_count": 476,
   "metadata": {},
   "outputs": [],
   "source": [
    "def split_list(data, n):\n",
    "    for splits in combinations(range(1, len(data)), n-1):\n",
    "        result = []\n",
    "        prev = None\n",
    "        for split in chain(splits, [None]):\n",
    "            result.append(data[prev:split])\n",
    "            prev = split\n",
    "        yield result"
   ]
  },
  {
   "cell_type": "code",
   "execution_count": 493,
   "metadata": {},
   "outputs": [],
   "source": [
    "def return_results(length_set, groups):\n",
    "    possibility = []\n",
    "    for i in range(1, groups+1):\n",
    "        split_result = split_list(length_set, i)\n",
    "        for a in split_result:  \n",
    "            possibility.append(a)           \n",
    "    group_result = []\n",
    "    group_set = []\n",
    "    for groups in possibility:\n",
    "        result = []\n",
    "        sets = []\n",
    "        for set in groups:\n",
    "            sum_length = sum(set)\n",
    "            result.append(sum_length)\n",
    "            sets.append(set)\n",
    "        group_result.append(result) \n",
    "        group_set.append(sets)\n",
    "    return group_result, group_set"
   ]
  },
  {
   "cell_type": "code",
   "execution_count": 478,
   "metadata": {},
   "outputs": [],
   "source": [
    "def evaluate_results(return_groups):\n",
    "    set_result = []\n",
    "    for set in return_groups:\n",
    "        sum_diff = 0\n",
    "        for i in range(len(set)):\n",
    "            diff = abs(200-set[i])\n",
    "            sum_diff = sum_diff + diff\n",
    "        set_result.append(sum_diff)  \n",
    "    selection = set_result.index(min(set_result))\n",
    "    return selection"
   ]
  },
  {
   "cell_type": "code",
   "execution_count": 479,
   "metadata": {},
   "outputs": [],
   "source": [
    "def find_link(group_set, selection):\n",
    "    length_to_split = []\n",
    "    for i in group_set[selection]:\n",
    "         length_to_split.append(len(i))\n",
    "\n",
    "    Input = iter(link_dir) \n",
    "    split_link = [list(islice(Input, elem)) \n",
    "              for elem in length_to_split] \n",
    "    return split_link, group_set[selection]"
   ]
  },
  {
   "cell_type": "code",
   "execution_count": null,
   "metadata": {},
   "outputs": [],
   "source": [
    "# potential function for using the same partitioning for groups that are the \"same\" (e.g. same link length just different directions)\n",
    "def check_repeated_groups(start_vid, end_vid, length_set):\n",
    "    "
   ]
  },
  {
   "cell_type": "code",
   "execution_count": null,
   "metadata": {},
   "outputs": [],
   "source": []
  },
  {
   "cell_type": "markdown",
   "metadata": {},
   "source": [
    "## Simulated annealing"
   ]
  },
  {
   "cell_type": "code",
   "execution_count": null,
   "metadata": {},
   "outputs": [],
   "source": []
  },
  {
   "cell_type": "code",
   "execution_count": null,
   "metadata": {},
   "outputs": [],
   "source": []
  },
  {
   "cell_type": "markdown",
   "metadata": {},
   "source": [
    "## Validating"
   ]
  },
  {
   "cell_type": "code",
   "execution_count": 164,
   "metadata": {},
   "outputs": [
    {
     "data": {
      "text/plain": [
       "Text(0, 0.5, 'Number of segments')"
      ]
     },
     "execution_count": 164,
     "metadata": {},
     "output_type": "execute_result"
    },
    {
     "data": {
      "image/png": "[encoded data removed]",
      "text/plain": [
       "<Figure size 1080x216 with 1 Axes>"
      ]
     },
     "metadata": {
      "needs_background": "light"
     },
     "output_type": "display_data"
    }
   ],
   "source": [
    "class colour:\n",
    "    \"\"\"\n",
    "    Class defining the global colour variables for all functions.\n",
    "    \n",
    "    \"\"\"\n",
    "    purple = '#660159'\n",
    "    grey = '#7f7e7e'\n",
    "    light_grey = '#777777'\n",
    "    cmap = 'YlOrRd'\n",
    "duration_freq = pd.read_sql('''select segment_id, length from (\n",
    "select segment_id from congestion.merged_segments_v2\n",
    "except\n",
    "select distinct segment_id from congestion.partition_result)a\n",
    "inner join congestion.merged_segments_v2 using (segment_id)\n",
    "union all\n",
    "select segment_id, length from congestion.partition_result''',con)\n",
    "plt.figure(figsize=(15,3))\n",
    "plt.hist(duration_freq.length, bins=50, color = colour.purple)\n",
    "axes = plt.gca()\n",
    "axes.set_facecolor('xkcd:white')\n",
    "axes.grid(color='k', linestyle='-', linewidth=0.25)\n",
    "\n",
    "plt.xlabel('Segment length (m)')\n",
    "plt.ylabel('Number of segments')"
   ]
  },
  {
   "cell_type": "markdown",
   "metadata": {},
   "source": [
    "## Best group partitioning"
   ]
  },
  {
   "cell_type": "code",
   "execution_count": 519,
   "metadata": {},
   "outputs": [
    {
     "data": {
      "image/png": "[encoded data removed]",
      "text/plain": [
       "<Figure size 432x288 with 1 Axes>"
      ]
     },
     "metadata": {
      "needs_background": "light"
     },
     "output_type": "display_data"
    }
   ],
   "source": [
    "from matplotlib import pyplot\n",
    "duration_freq1 = pd.read_sql('''select partition_result.* from congestion.partition_result inner join  \n",
    "                                (select distinct segment_id from congestion.partition_all_possibility)a \n",
    "                                using (segment_id)''',con)\n",
    "duration_freq = pd.read_sql('''select * from congestion.partition_all_possibility''',con)\n",
    "pyplot.hist(duration_freq.length, 100, alpha=0.5, label='Best group')\n",
    "pyplot.hist(duration_freq1.length, 100, alpha=0.5, label='Greedy partition')\n",
    "pyplot.xlim(0, 600)\n",
    "pyplot.legend(loc='upper right')\n",
    "pyplot.show()"
   ]
  }
 ],
 "metadata": {
  "kernelspec": {
   "display_name": "Python 3",
   "language": "python",
   "name": "python3"
  },
  "language_info": {
   "codemirror_mode": {
    "name": "ipython",
    "version": 3
   },
   "file_extension": ".py",
   "mimetype": "text/x-python",
   "name": "python",
   "nbconvert_exporter": "python",
   "pygments_lexer": "ipython3",
   "version": "3.5.2"
  }
 },
 "nbformat": 4,
 "nbformat_minor": 4
}
