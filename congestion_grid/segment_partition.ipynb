{
 "cells": [
  {
   "cell_type": "code",
   "execution_count": 90,
   "metadata": {},
   "outputs": [],
   "source": [
    "import configparser\n",
    "from pathlib import Path\n",
    "import pandas as pd\n",
    "import pandas.io.sql as pandasql\n",
    "from psycopg2 import connect\n",
    "import numpy\n",
    "from psycopg2.extras import execute_values\n",
    "import matplotlib as mpl\n",
    "import numpy as np\n",
    "import matplotlib.pyplot as plt\n",
    "import matplotlib.ticker as ticker\n",
    "from setuptools import setup, find_packages\n",
    "import matplotlib.patches as patches\n",
    "CONFIG = configparser.ConfigParser()\n",
    "CONFIG.read(str(Path.home().joinpath('db.cfg')))\n",
    "dbset = CONFIG['DBSETTINGS']\n",
    "con = connect(**dbset)"
   ]
  },
  {
   "cell_type": "code",
   "execution_count": 81,
   "metadata": {},
   "outputs": [],
   "source": [
    "routed = pd.read_sql('''select * from congestion.agg_test''',con)"
   ]
  },
  {
   "cell_type": "code",
   "execution_count": 109,
   "metadata": {},
   "outputs": [],
   "source": [
    "problem_routed = pd.read_sql('''with problem as (select segment_id, link_dir from (\n",
    "select segment_id, id, unnest(link_set) as link_dir from congestion.test_pythonmerge)a\n",
    "group by segment_id, link_dir\n",
    "having count(link_dir) >1)\n",
    "select distinct agg_test.* from congestion.agg_test\n",
    "join problem using (segment_id)\n",
    "order by segment_id \n",
    "''', con)"
   ]
  },
  {
   "cell_type": "code",
   "execution_count": null,
   "metadata": {},
   "outputs": [],
   "source": [
    "if the length of a segment is one link then append\n",
    "have to modify a little bit saying if the first one is shorter than whatever then we will append anyways"
   ]
  },
  {
   "cell_type": "code",
   "execution_count": 52,
   "metadata": {},
   "outputs": [],
   "source": [
    "def handle_subsection(subsection, prev_i, max_segment_length=250.):\n",
    "    # Scans through each subsection of `lengths`, grouping together\n",
    "    # segments up to `max_segment_length`.\n",
    "    subsec_segments = [{'idx': [prev_i, ], 'length': subsection[0]}]\n",
    "\n",
    "    if len(subsection) > 1:\n",
    "        for i, item in enumerate(subsection[1:]):\n",
    "            if subsec_segments[-1]['length'] + item < max_segment_length or (i== 0 and subsec_segments[0]['length'] < 100):\n",
    "                subsec_segments[-1]['idx'].append(i + prev_i + 1)\n",
    "                subsec_segments[-1]['length'] += item\n",
    "            elif subsec_segments[-1]['length'] + item > max_segment_length:\n",
    "                subsec_segments.append({'idx': [i + prev_i + 1, ], 'length': item})\n",
    "\n",
    "    return subsec_segments"
   ]
  },
  {
   "cell_type": "code",
   "execution_count": 111,
   "metadata": {},
   "outputs": [],
   "source": [
    "# forward partition\n",
    "max_multi_length = 250.\n",
    "min_segment_length = 100.\n",
    "for index, row in problem_routed.iterrows():\n",
    "    segment_id = problem_routed['segment_id'].iloc[index].astype(float)\n",
    "    lengths = problem_routed['length_set'].iloc[index]\n",
    "    link_dir = problem_routed['link_set'].iloc[index]    \n",
    "    segments = []\n",
    "    segments.extend(handle_subsection(lengths, 0))\n",
    "    segments = sorted(segments, key=lambda x: x['idx'][0])\n",
    "    too_small = [i for i in range(len(segments)) if segments[i]['length'] < 100]\n",
    "    n_deleted = 0\n",
    "\n",
    "    for ir in too_small:\n",
    "        i = ir - n_deleted\n",
    "        if i == 0:\n",
    "            segments[1]['idx'] = segments[i]['idx'] + segments[1]['idx']\n",
    "            segments[1]['length'] += segments[i]['length']\n",
    "        elif i == len(segments) - 1:\n",
    "            segments[-2]['idx'] += segments[i]['idx']\n",
    "            segments[-2]['length'] += segments[i]['length']\n",
    "        else:\n",
    "            if segments[i - 1]['length'] >= segments[i + 1]['length']:\n",
    "                segments[i + 1]['idx'] = segments[i]['idx'] + segments[i + 1]['idx']\n",
    "                segments[i + 1]['length'] += segments[i]['length']\n",
    "            else:\n",
    "                segments[i - 1]['idx'] += segments[i]['idx']\n",
    "                segments[i - 1]['length'] += segments[i]['length']\n",
    "        del segments[i]\n",
    "        n_deleted += 1\n",
    "    rows = []\n",
    "    for i in range(len(segments)):\n",
    "        id = i\n",
    "        new_length = segments[i]['length']\n",
    "        link_set = []\n",
    "        for i in segments[i]['idx']:\n",
    "            link_set.append(link_dir[i])\n",
    "        row = (segment_id, id, link_set, new_length)\n",
    "        rows.append(row) \n",
    "    sql = '''insert into congestion.test_pythonmerge_probs(segment_id, id, link_set, length) VALUES %s'''    \n",
    "    with con:\n",
    "        with con.cursor() as cur:\n",
    "            execute_values(cur, sql, rows)     "
   ]
  },
  {
   "cell_type": "code",
   "execution_count": 89,
   "metadata": {},
   "outputs": [
    {
     "ename": "NameError",
     "evalue": "name 'execute_values' is not defined",
     "output_type": "error",
     "traceback": [
      "\u001b[0;31m---------------------------------------------------------------------------\u001b[0m",
      "\u001b[0;31mNameError\u001b[0m                                 Traceback (most recent call last)",
      "\u001b[0;32m<ipython-input-89-e84e1d059e27>\u001b[0m in \u001b[0;36m<module>\u001b[0;34m\u001b[0m\n\u001b[1;32m     56\u001b[0m     \u001b[0;32mwith\u001b[0m \u001b[0mcon\u001b[0m\u001b[0;34m:\u001b[0m\u001b[0;34m\u001b[0m\u001b[0m\n\u001b[1;32m     57\u001b[0m         \u001b[0;32mwith\u001b[0m \u001b[0mcon\u001b[0m\u001b[0;34m.\u001b[0m\u001b[0mcursor\u001b[0m\u001b[0;34m(\u001b[0m\u001b[0;34m)\u001b[0m \u001b[0;32mas\u001b[0m \u001b[0mcur\u001b[0m\u001b[0;34m:\u001b[0m\u001b[0;34m\u001b[0m\u001b[0m\n\u001b[0;32m---> 58\u001b[0;31m             \u001b[0mexecute_values\u001b[0m\u001b[0;34m(\u001b[0m\u001b[0mcur\u001b[0m\u001b[0;34m,\u001b[0m \u001b[0msql\u001b[0m\u001b[0;34m,\u001b[0m \u001b[0mrows\u001b[0m\u001b[0;34m)\u001b[0m\u001b[0;34m\u001b[0m\u001b[0m\n\u001b[0m",
      "\u001b[0;31mNameError\u001b[0m: name 'execute_values' is not defined"
     ]
    }
   ],
   "source": [
    "# original partition\n",
    "max_multi_length = 300.\n",
    "min_segment_length = 150.\n",
    "for index, row in routed.iterrows():\n",
    "    segment_id = routed['segment_id'].iloc[index].astype(float)\n",
    "    lengths = routed['length_set'].iloc[index]\n",
    "    link_dir = routed['link_set'].iloc[index]    \n",
    "    segments = []\n",
    "\n",
    "    prev_i = 0\n",
    "    for i, item in enumerate(lengths):\n",
    "        if item > max_multi_length:\n",
    "            # Extract all lengths larger than `max_multi_length`.  These will be single-link segments.\n",
    "            segments.append({'idx': [i, ], 'length': item})\n",
    "            # Handle the subsections between large links using the functiona bove.\n",
    "            if i != 0:\n",
    "                segments.extend(handle_subsection(lengths[prev_i:i], prev_i, max_segment_length=max_multi_length))\n",
    "                prev_i = i + 1\n",
    "    # Handle subsection after last large link.\n",
    "    segments.extend(handle_subsection(lengths[prev_i:], prev_i))\n",
    "    # Sort according to first index in each subsection.\n",
    "    segments = sorted(segments, key=lambda x: x['idx'][0])\n",
    "    too_small = [i for i in range(len(segments)) if segments[i]['length'] < min_segment_length]\n",
    "    \n",
    "    # Handle deleting subsections that are too small.\n",
    "    n_deleted = 0\n",
    "    for ir in too_small:\n",
    "        i = ir - n_deleted\n",
    "        if i == 0:\n",
    "            segments[1]['idx'] = segments[i]['idx'] + segments[1]['idx']\n",
    "            segments[1]['length'] += segments[i]['length']\n",
    "        elif i == len(segments) - 1:\n",
    "            segments[-2]['idx'] += segments[i]['idx']\n",
    "            segments[-2]['length'] += segments[i]['length']\n",
    "        else:\n",
    "            if segments[i - 1]['length'] >= segments[i + 1]['length']:\n",
    "                segments[i + 1]['idx'] = segments[i]['idx'] + segments[i + 1]['idx']\n",
    "                segments[i + 1]['length'] += segments[i]['length']\n",
    "            else:\n",
    "                segments[i - 1]['idx'] += segments[i]['idx']\n",
    "                segments[i - 1]['length'] += segments[i]['length']\n",
    "        del segments[i]\n",
    "        n_deleted += 1\n",
    "\n",
    "    rows = []\n",
    "    for i in range(len(segments)):\n",
    "        id = i\n",
    "        new_length = segments[i]['length']\n",
    "        link_set = []\n",
    "        for i in segments[i]['idx']:\n",
    "            link_set.append(link_dir[i])\n",
    "        #insert to postgres\n",
    "        row = (segment_id, id, link_set, new_length)\n",
    "        rows.append(row)\n",
    "\n",
    "    sql = '''insert into congestion.test_pythonmerge(segment_id, id, link_set, length) VALUES %s'''    \n",
    "    with con:\n",
    "        with con.cursor() as cur:\n",
    "            execute_values(cur, sql, rows)     "
   ]
  },
  {
   "cell_type": "code",
   "execution_count": 272,
   "metadata": {},
   "outputs": [
    {
     "data": {
      "text/plain": [
       "[{'idx': [0], 'length': 326.430064591479},\n",
       " {'idx': [0, 1, 2], 'length': 457.39379958515735}]"
      ]
     },
     "execution_count": 272,
     "metadata": {},
     "output_type": "execute_result"
    }
   ],
   "source": [
    "segment_id = routed['segment_id'].iloc[8].astype(float)\n",
    "lengths = routed['length_set'].iloc[8]\n",
    "link_dir = routed['link_set'].iloc[8]    \n",
    "max_multi_length = 300.\n",
    "min_segment_length = 150.\n",
    "segments = []\n",
    "\n",
    "prev_i = 0\n",
    "for i, item in enumerate(lengths):\n",
    "    if item > max_multi_length:\n",
    "        # Extract all lengths larger than `max_multi_length`.  These will be single-link segments.\n",
    "        segments.append({'idx': [i, ], 'length': item})\n",
    "        # Handle the subsections between large links using the function above.\n",
    "        if i !=0:\n",
    "            segments.extend(handle_subsection(lengths[prev_i:i], prev_i, max_segment_length=max_multi_length))\n",
    "            prev_i = i + 1\n",
    "        \n",
    "# Handle subsection after last large link.\n",
    "segments.extend(handle_subsection(lengths[prev_i:], prev_i))\n",
    "# Sort according to first index in each subsection.\n",
    "segments = sorted(segments, key=lambda x: x['idx'][0])\n",
    "too_small = [i for i in range(len(segments)) if segments[i]['length'] < min_segment_length]\n",
    "\n",
    "# Handle deleting subsections that are too small.\n",
    "n_deleted = 0\n",
    "for ir in too_small:\n",
    "    i = ir - n_deleted\n",
    "    if i == 0:\n",
    "        segments[1]['idx'] = segments[i]['idx'] + segments[1]['idx']\n",
    "        segments[1]['length'] += segments[i]['length']\n",
    "    elif i == len(segments) - 1:\n",
    "        segments[-2]['idx'] += segments[i]['idx']\n",
    "        segments[-2]['length'] += segments[i]['length']\n",
    "    else:\n",
    "        if segments[i - 1]['length'] >= segments[i + 1]['length']:\n",
    "            segments[i + 1]['idx'] = segments[i]['idx'] + segments[i + 1]['idx']\n",
    "            segments[i + 1]['length'] += segments[i]['length']\n",
    "        else:\n",
    "            segments[i - 1]['idx'] += segments[i]['idx']\n",
    "            segments[i - 1]['length'] += segments[i]['length']\n",
    "    del segments[i]\n",
    "    n_deleted += 1\n",
    "segments"
   ]
  },
  {
   "cell_type": "code",
   "execution_count": 261,
   "metadata": {},
   "outputs": [
    {
     "name": "stdout",
     "output_type": "stream",
     "text": [
      "[107.091569964673, 108.072452093197, 137.035763134809, 197.162840750807, 153.795167067708, 161.310260719003, 229.838310195763, 76.245594341943, 71.3356179722374, 61.0890210600806, 100.165588797939, 91.0405410211722, 29.606433621624, 175.671410471163, 40.6122896299811, 19.3716214874113, 17.5173989308239, 40.5810681035119]\n",
      "215.16402205787\n",
      "[0, 1]\n"
     ]
    }
   ],
   "source": [
    "segment_id = routed['segment_id'].iloc[1].astype(float)\n",
    "lengths = routed['length_set'].iloc[1]\n",
    "link_dir = routed['link_set'].iloc[1]    \n",
    "max_multi_length = 200.\n",
    "ideal_length = 200\n",
    "min_segment_length = 100.\n",
    "segments = []  \n",
    "print(lengths)\n",
    "num_seg = (len(lengths))+1\n",
    "current_length = 0\n",
    "link = 0\n",
    "link_inx = []\n",
    "def add_segments(current_length, link):\n",
    "    while current_length <= max_multi_length and link < num_seg:\n",
    "        current_length = current_length + lengths[link]\n",
    "        link_inx.append(link)\n",
    "        link= link + 1\n",
    "    return current_length, link_inx\n",
    "\n",
    "leng, set = add_segments(current_length, link)\n",
    "print(leng)\n",
    "print(set)\n",
    "\n",
    "def handle_subsection(subsection, prev_i, max_segment_length=300.):\n",
    "    # Scans through each subsection of `lengths`, grouping together\n",
    "    # segments up to `max_segment_length`.\n",
    "    subsec_segments = [{'idx': [prev_i, ], 'length': subsection[0]}]\n",
    "\n",
    "    if len(subsection) > 1:\n",
    "        for i, item in enumerate(subsection[1:]):\n",
    "            if subsec_segments[-1]['length'] + item > max_segment_length:\n",
    "                subsec_segments.append({'idx': [i + prev_i + 1, ], 'length': item})\n",
    "            else:\n",
    "                subsec_segments[-1]['idx'].append(i + prev_i + 1)\n",
    "                subsec_segments[-1]['length'] += item\n",
    "\n",
    "    return subsec_segments"
   ]
  },
  {
   "cell_type": "code",
   "execution_count": 4,
   "metadata": {},
   "outputs": [
    {
     "data": {
      "text/plain": [
       "24310"
      ]
     },
     "execution_count": 4,
     "metadata": {},
     "output_type": "execute_result"
    }
   ],
   "source": [
    "seg_list=[107.091569964673, 108.072452093197, 137.035763134809, 197.162840750807, 153.795167067708, 161.310260719003, 229.838310195763, 76.245594341943, 71.3356179722374, 61.0890210600806, 100.165588797939, 91.0405410211722, 29.606433621624, 175.671410471163, 40.6122896299811, 19.3716214874113, 17.5173989308239, 40.5810681035119]\n",
    "def split_list(data, n):\n",
    "    from itertools import combinations, chain\n",
    "    for splits in combinations(range(1, len(data)), n-1):\n",
    "        result = []\n",
    "        prev = None\n",
    "        for split in chain(splits, [None]):\n",
    "            result.append(data[prev:split])\n",
    "            prev = split\n",
    "        yield result\n",
    "        \n",
    "possibility=list(split_list(seg_list,9))\n",
    "len(possibility)"
   ]
  },
  {
   "cell_type": "code",
   "execution_count": 197,
   "metadata": {},
   "outputs": [
    {
     "data": {
      "text/plain": [
       "Text(0, 0.5, 'Frequency')"
      ]
     },
     "execution_count": 197,
     "metadata": {},
     "output_type": "execute_result"
    },
    {
     "data": {
      "image/png": "[encoded data removed]",
      "text/plain": [
       "<Figure size 1080x216 with 1 Axes>"
      ]
     },
     "metadata": {
      "needs_background": "light"
     },
     "output_type": "display_data"
    }
   ],
   "source": [
    "class colour:\n",
    "    \"\"\"\n",
    "    Class defining the global colour variables for all functions.\n",
    "    \n",
    "    \"\"\"\n",
    "    purple = '#660159'\n",
    "    grey = '#7f7e7e'\n",
    "    light_grey = '#777777'\n",
    "    cmap = 'YlOrRd'\n",
    "duration_freq = pd.read_sql('''select length from congestion.pythonmerge_results''',con)\n",
    "plt.figure(figsize=(15,3))\n",
    "plt.hist(duration_freq.length, bins=50, color = colour.purple)\n",
    "axes = plt.gca()\n",
    "axes.set_facecolor('xkcd:white')\n",
    "axes.grid(color='k', linestyle='-', linewidth=0.25)\n",
    "#plt.xlim((0,200))\n",
    "plt.xlabel('Length (m)')\n",
    "plt.ylabel('Frequency')"
   ]
  },
  {
   "cell_type": "code",
   "execution_count": 309,
   "metadata": {},
   "outputs": [
    {
     "data": {
      "text/plain": [
       "Text(0, 0.5, 'Frequency')"
      ]
     },
     "execution_count": 309,
     "metadata": {},
     "output_type": "execute_result"
    },
    {
     "data": {
      "image/png": "[encoded data removed]",
      "text/plain": [
       "<Figure size 1080x216 with 1 Axes>"
      ]
     },
     "metadata": {
      "needs_background": "light"
     },
     "output_type": "display_data"
    }
   ],
   "source": [
    "class colour:\n",
    "    \"\"\"\n",
    "    Class defining the global colour variables for all functions.\n",
    "    \n",
    "    \"\"\"\n",
    "    purple = '#660159'\n",
    "    grey = '#7f7e7e'\n",
    "    light_grey = '#777777'\n",
    "    cmap = 'YlOrRd'\n",
    "duration_freq = pd.read_sql('''SELECT segment_id, length, count(link_dir) as num_link FROM congestion.segment_link_allint\n",
    "inner join congestion.segments_test_allint using (segment_id)\n",
    "group by segment_id, length\t''',con)\n",
    "plt.figure(figsize=(15,3))\n",
    "plt.hist(duration_freq.num_link, bins=50, color = colour.purple)\n",
    "axes = plt.gca()\n",
    "axes.set_facecolor('xkcd:white')\n",
    "axes.grid(color='k', linestyle='-', linewidth=0.25)\n",
    "#plt.xlim((0,200))\n",
    "plt.xlabel('Number of links')\n",
    "plt.ylabel('Frequency')"
   ]
  },
  {
   "cell_type": "markdown",
   "metadata": {},
   "source": [
    "2931 rows with link_dir more than 3\n",
    "1652 rows more than 10 possbilities \n",
    "1296 more than 50 possibilities\n",
    "1113 more than 100 possibilities "
   ]
  },
  {
   "cell_type": "code",
   "execution_count": 14,
   "metadata": {},
   "outputs": [],
   "source": [
    "class colour:\n",
    "    \"\"\"\n",
    "    Class defining the global colour variables for all functions.\n",
    "    \n",
    "    \"\"\"\n",
    "    purple = '#660159'\n",
    "    grey = '#7f7e7e'\n",
    "    light_grey = '#777777'\n",
    "    cmap = 'YlOrRd'\n",
    "duration_freq = pd.read_sql('''with temp as (\t\t\t\t\t\t\t\t\t\t\t\t\t\t\t\t\t\t\t\t\t\t\t\t\t \n",
    "SELECT segment_id, round(length::int/200.0,0)-1 as y, count(link_dir)-1 as x FROM congestion.segment_link_allint\n",
    "inner join congestion.segments_test_allint using (segment_id)\t\n",
    "group by segment_id, length\t\t\t\t\t\t\t\t\t\t\t\t\t\t\t\t\t\t\t\t\t\t\t\t\t \n",
    "order by x desc)\n",
    ", pos as (select (factorial(x)/(factorial(y)*(factorial(x-y))))::bigint as possibilities from temp where x >2)\n",
    "select count(possibilities) filter (where possibilities <10) as \"less than 10\",\n",
    "\tcount(possibilities) filter (where possibilities >= 10 and possibilities <100) as \"less than 100\",\n",
    "\tcount(possibilities) filter (where possibilities >= 100 and possibilities <1000) as \"1k\",\n",
    "\tcount(possibilities) filter (where possibilities >= 1000 and possibilities <10000) as \"10k\",\n",
    "\tcount(possibilities) filter (where possibilities >= 10000 and possibilities <100000) as \"100k\",\n",
    "\tcount(possibilities) filter (where possibilities >= 100000 and possibilities <1000000) as \"1mil\",\n",
    "\tcount(possibilities) filter (where possibilities >= 1000000 and possibilities <10000000) as \"10mil\",\n",
    "\tcount(possibilities) filter (where possibilities >= 10000000 and possibilities <100000000) as \"100mil\",\n",
    "\tcount(possibilities) filter (where possibilities >= 100000000 and possibilities <1000000000) as \"1billion\",\n",
    "\tcount(possibilities) filter (where possibilities >= 1000000000 and possibilities <10000000000) as \"10billion\",\n",
    "\tcount(possibilities) filter (where possibilities >= 10000000000 and possibilities <100000000000) as \"100billion\",\n",
    "\tcount(possibilities) filter (where possibilities >= 100000000000 and possibilities <1000000000000) as \"trillion\",\n",
    "\tcount(possibilities) filter (where possibilities >= 1000000000000) as \"more than a trillion\"\t\t\t\t\t\t\t\t\t\t  \n",
    "from pos''',con)\n"
   ]
  },
  {
   "cell_type": "code",
   "execution_count": 16,
   "metadata": {},
   "outputs": [
    {
     "data": {
      "text/html": [
       "<div>\n",
       "<style scoped>\n",
       "    .dataframe tbody tr th:only-of-type {\n",
       "        vertical-align: middle;\n",
       "    }\n",
       "\n",
       "    .dataframe tbody tr th {\n",
       "        vertical-align: top;\n",
       "    }\n",
       "\n",
       "    .dataframe thead th {\n",
       "        text-align: right;\n",
       "    }\n",
       "</style>\n",
       "<table border=\"1\" class=\"dataframe\">\n",
       "  <thead>\n",
       "    <tr style=\"text-align: right;\">\n",
       "      <th></th>\n",
       "      <th>less than 10</th>\n",
       "      <th>less than 100</th>\n",
       "      <th>1k</th>\n",
       "      <th>10k</th>\n",
       "      <th>100k</th>\n",
       "      <th>1mil</th>\n",
       "      <th>10mil</th>\n",
       "      <th>100mil</th>\n",
       "      <th>1billion</th>\n",
       "      <th>10billion</th>\n",
       "      <th>100billion</th>\n",
       "      <th>trillion</th>\n",
       "      <th>more than a trillion</th>\n",
       "    </tr>\n",
       "  </thead>\n",
       "  <tbody>\n",
       "    <tr>\n",
       "      <th>0</th>\n",
       "      <td>1167</td>\n",
       "      <td>633</td>\n",
       "      <td>407</td>\n",
       "      <td>240</td>\n",
       "      <td>153</td>\n",
       "      <td>102</td>\n",
       "      <td>55</td>\n",
       "      <td>48</td>\n",
       "      <td>37</td>\n",
       "      <td>28</td>\n",
       "      <td>16</td>\n",
       "      <td>14</td>\n",
       "      <td>13</td>\n",
       "    </tr>\n",
       "  </tbody>\n",
       "</table>\n",
       "</div>"
      ],
      "text/plain": [
       "   less than 10  less than 100   1k  10k  100k  1mil  10mil  100mil  1billion  \\\n",
       "0          1167            633  407  240   153   102     55      48        37   \n",
       "\n",
       "   10billion  100billion  trillion  more than a trillion  \n",
       "0         28          16        14                    13  "
      ]
     },
     "execution_count": 16,
     "metadata": {},
     "output_type": "execute_result"
    }
   ],
   "source": [
    "duration_freq"
   ]
  },
  {
   "cell_type": "code",
   "execution_count": 18,
   "metadata": {},
   "outputs": [
    {
     "data": {
      "text/plain": [
       "<matplotlib.axes._subplots.AxesSubplot at 0x7ff3461d0da0>"
      ]
     },
     "execution_count": 18,
     "metadata": {},
     "output_type": "execute_result"
    },
    {
     "data": {
      "image/png": "[encoded data removed]",
      "text/plain": [
       "<Figure size 432x288 with 1 Axes>"
      ]
     },
     "metadata": {
      "needs_background": "light"
     },
     "output_type": "display_data"
    }
   ],
   "source": [
    "duration_freq.plot(kind='bar')"
   ]
  }
 ],
 "metadata": {
  "kernelspec": {
   "display_name": "Python 3",
   "language": "python",
   "name": "python3"
  },
  "language_info": {
   "codemirror_mode": {
    "name": "ipython",
    "version": 3
   },
   "file_extension": ".py",
   "mimetype": "text/x-python",
   "name": "python",
   "nbconvert_exporter": "python",
   "pygments_lexer": "ipython3",
   "version": "3.5.2"
  }
 },
 "nbformat": 4,
 "nbformat_minor": 4
}
