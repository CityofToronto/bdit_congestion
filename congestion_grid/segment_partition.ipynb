{
 "cells": [
  {
   "cell_type": "code",
   "execution_count": 193,
   "metadata": {},
   "outputs": [],
   "source": [
    "import configparser\n",
    "from pathlib import Path\n",
    "import pandas as pd\n",
    "import pandas.io.sql as pandasql\n",
    "from psycopg2 import connect\n",
    "import numpy\n",
    "import matplotlib as mpl\n",
    "import numpy as np\n",
    "import matplotlib.pyplot as plt\n",
    "import matplotlib.ticker as ticker\n",
    "from setuptools import setup, find_packages\n",
    "import matplotlib.patches as patches\n",
    "CONFIG = configparser.ConfigParser()\n",
    "CONFIG.read(str(Path.home().joinpath('db.cfg')))\n",
    "dbset = CONFIG['DBSETTINGS']\n",
    "con = connect(**dbset)"
   ]
  },
  {
   "cell_type": "code",
   "execution_count": 190,
   "metadata": {},
   "outputs": [],
   "source": [
    "routed = pd.read_sql('''select * from congestion.agg_test''',con)"
   ]
  },
  {
   "cell_type": "code",
   "execution_count": 186,
   "metadata": {},
   "outputs": [],
   "source": [
    "def handle_subsection(subsection, prev_i, max_segment_length=300.):\n",
    "    # Scans through each subsection of `lengths`, grouping together\n",
    "    # segments up to `max_segment_length`.\n",
    "    subsec_segments = [{'idx': [prev_i, ], 'length': subsection[0]}]\n",
    "\n",
    "    if len(subsection) > 1:\n",
    "        for i, item in enumerate(subsection[1:]):\n",
    "            if subsec_segments[-1]['length'] + item > max_segment_length:\n",
    "                subsec_segments.append({'idx': [i + prev_i + 1, ], 'length': item})\n",
    "            else:\n",
    "                subsec_segments[-1]['idx'].append(i + prev_i + 1)\n",
    "                subsec_segments[-1]['length'] += item\n",
    "\n",
    "    return subsec_segments"
   ]
  },
  {
   "cell_type": "code",
   "execution_count": 191,
   "metadata": {},
   "outputs": [],
   "source": [
    "max_multi_length = 300.\n",
    "min_segment_length = 150.\n",
    "for index, row in routed.iterrows():\n",
    "    segment_id = routed['segment_id'].iloc[index].astype(float)\n",
    "    lengths = routed['length_set'].iloc[index]\n",
    "    link_dir = routed['link_set'].iloc[index]    \n",
    "    segments = []\n",
    "\n",
    "    prev_i = 0\n",
    "    for i, item in enumerate(lengths):\n",
    "        if item > max_multi_length:\n",
    "            # Extract all lengths larger than `max_multi_length`.  These will be single-link segments.\n",
    "            segments.append({'idx': [i, ], 'length': item})\n",
    "            # Handle the subsections between large links using the functiona bove.\n",
    "            if prev_i !=0:\n",
    "                segments.extend(handle_subsection(lengths[prev_i:i], prev_i, max_segment_length=max_multi_length))\n",
    "                prev_i = i + 1\n",
    "    # Handle subsection after last large link.\n",
    "    segments.extend(handle_subsection(lengths[prev_i:], prev_i))\n",
    "    # Sort according to first index in each subsection.\n",
    "    segments = sorted(segments, key=lambda x: x['idx'][0])\n",
    "    too_small = [i for i in range(len(segments)) if segments[i]['length'] < min_segment_length]\n",
    "    \n",
    "    # Handle deleting subsections that are too small.\n",
    "    n_deleted = 0\n",
    "    for ir in too_small:\n",
    "        i = ir - n_deleted\n",
    "        if i == 0:\n",
    "            segments[1]['idx'] = segments[i]['idx'] + segments[1]['idx']\n",
    "            segments[1]['length'] += segments[i]['length']\n",
    "        elif i == len(segments) - 1:\n",
    "            segments[-2]['idx'] += segments[i]['idx']\n",
    "            segments[-2]['length'] += segments[i]['length']\n",
    "        else:\n",
    "            if segments[i - 1]['length'] >= segments[i + 1]['length']:\n",
    "                segments[i + 1]['idx'] = segments[i]['idx'] + segments[i + 1]['idx']\n",
    "                segments[i + 1]['length'] += segments[i]['length']\n",
    "            else:\n",
    "                segments[i - 1]['idx'] += segments[i]['idx']\n",
    "                segments[i - 1]['length'] += segments[i]['length']\n",
    "        del segments[i]\n",
    "        n_deleted += 1\n",
    "\n",
    "    rows = []\n",
    "    for i in range(len(segments)):\n",
    "        id = i\n",
    "        new_length = segments[i]['length']\n",
    "        link_set = []\n",
    "        for i in segments[i]['idx']:\n",
    "            link_set.append(link_dir[i])\n",
    "        #insert to postgres\n",
    "        row = (segment_id, id, link_set, new_length)\n",
    "        rows.append(row)\n",
    "\n",
    "    sql = '''insert into congestion.test_pythonmerge(segment_id, id, link_set, length) VALUES %s'''    \n",
    "    with con:\n",
    "        with con.cursor() as cur:\n",
    "            execute_values(cur, sql, rows)     "
   ]
  },
  {
   "cell_type": "code",
   "execution_count": 187,
   "metadata": {},
   "outputs": [
    {
     "data": {
      "text/plain": [
       "[{'idx': [0], 'length': 326.430064591479},\n",
       " {'idx': [0, 1, 2], 'length': 457.39379958515735}]"
      ]
     },
     "execution_count": 187,
     "metadata": {},
     "output_type": "execute_result"
    }
   ],
   "source": [
    "segment_id = routed['segment_id'].iloc[8].astype(float)\n",
    "lengths = routed['length_set'].iloc[8]\n",
    "link_dir = routed['link_set'].iloc[8]    \n",
    "max_multi_length = 300.\n",
    "min_segment_length = 150.\n",
    "segments = []\n",
    "\n",
    "prev_i = 0\n",
    "for i, item in enumerate(lengths):\n",
    "    if item > max_multi_length:\n",
    "        # Extract all lengths larger than `max_multi_length`.  These will be single-link segments.\n",
    "        segments.append({'idx': [i, ], 'length': item})\n",
    "        # Handle the subsections between large links using the function above.\n",
    "        if prev_i !=0:\n",
    "            segments.extend(handle_subsection(lengths[prev_i:i], prev_i, max_segment_length=max_multi_length))\n",
    "            prev_i = i + 1\n",
    "        \n",
    "# Handle subsection after last large link.\n",
    "segments.extend(handle_subsection(lengths[prev_i:], prev_i))\n",
    "# Sort according to first index in each subsection.\n",
    "segments = sorted(segments, key=lambda x: x['idx'][0])\n",
    "too_small = [i for i in range(len(segments)) if segments[i]['length'] < min_segment_length]\n",
    "\n",
    "# Handle deleting subsections that are too small.\n",
    "n_deleted = 0\n",
    "for ir in too_small:\n",
    "    i = ir - n_deleted\n",
    "    if i == 0:\n",
    "        segments[1]['idx'] = segments[i]['idx'] + segments[1]['idx']\n",
    "        segments[1]['length'] += segments[i]['length']\n",
    "    elif i == len(segments) - 1:\n",
    "        segments[-2]['idx'] += segments[i]['idx']\n",
    "        segments[-2]['length'] += segments[i]['length']\n",
    "    else:\n",
    "        if segments[i - 1]['length'] >= segments[i + 1]['length']:\n",
    "            segments[i + 1]['idx'] = segments[i]['idx'] + segments[i + 1]['idx']\n",
    "            segments[i + 1]['length'] += segments[i]['length']\n",
    "        else:\n",
    "            segments[i - 1]['idx'] += segments[i]['idx']\n",
    "            segments[i - 1]['length'] += segments[i]['length']\n",
    "    del segments[i]\n",
    "    n_deleted += 1\n",
    "segments"
   ]
  },
  {
   "cell_type": "code",
   "execution_count": 169,
   "metadata": {},
   "outputs": [
    {
     "name": "stdout",
     "output_type": "stream",
     "text": [
      "<class 'numpy.float64'>\n",
      "<class 'numpy.float64'>\n",
      "<class 'numpy.float64'>\n",
      "<class 'numpy.float64'>\n",
      "<class 'numpy.float64'>\n",
      "[(7.0, 0, ['1213990864F', '1213990865F']), (7.0, 1, ['993160758F']), (7.0, 2, ['783070658F', '799812691F']), (7.0, 3, ['1192713549F', '1192713550F', '892031169F']), (7.0, 4, ['892031170F', '822376672F', '799812693F'])]\n"
     ]
    }
   ],
   "source": [
    "\n",
    "rows = []\n",
    "for i in range(len(segments)):\n",
    "    id = i\n",
    "    link_set = []\n",
    "    for i in segments[i]['idx']:\n",
    "        link_set.append(link_dir[i])\n",
    "    #insert to postgres\n",
    "    row = (segment_id, id, link_set)\n",
    "    rows.append(row)\n",
    "    \n",
    "print(rows)\n"
   ]
  },
  {
   "cell_type": "code",
   "execution_count": 164,
   "metadata": {},
   "outputs": [
    {
     "name": "stdout",
     "output_type": "stream",
     "text": [
      "<class 'numpy.float64'>\n",
      "<class 'numpy.float64'>\n",
      "<class 'numpy.float64'>\n",
      "<class 'numpy.float64'>\n",
      "[(7.0, 0, ['1213990864F', '1213990865F', '993160758F']), (7.0, 1, ['783070658F', '799812691F']), (7.0, 2, ['1192713549F', '1192713550F', '892031169F']), (7.0, 3, ['892031170F', '822376672F', '799812693F'])]\n"
     ]
    }
   ],
   "source": [
    "rows = []\n",
    "for i in range(len(segments)):\n",
    "    id = i\n",
    "    print(type(segment_id))\n",
    "    link_set = []\n",
    "    for i in segments[i]['idx']:\n",
    "        link_set.append(link_dir[i])\n",
    "    #insert to postgres\n",
    "    row = (segment_id, id, link_set)\n",
    "    rows.append(row)\n",
    "    \n",
    "print(rows)\n",
    "sql = '''insert into congestion.test_pythonmerge(segment_id, id, link_set) VALUES %s'''    \n",
    "with con:\n",
    "    with con.cursor() as cur:\n",
    "        execute_values(cur, sql, rows) "
   ]
  },
  {
   "cell_type": "code",
   "execution_count": 197,
   "metadata": {},
   "outputs": [
    {
     "data": {
      "text/plain": [
       "Text(0, 0.5, 'Frequency')"
      ]
     },
     "execution_count": 197,
     "metadata": {},
     "output_type": "execute_result"
    },
    {
     "data": {
      "image/png": "[encoded data removed]",
      "text/plain": [
       "<Figure size 1080x216 with 1 Axes>"
      ]
     },
     "metadata": {
      "needs_background": "light"
     },
     "output_type": "display_data"
    }
   ],
   "source": [
    "class colour:\n",
    "    \"\"\"\n",
    "    Class defining the global colour variables for all functions.\n",
    "    \n",
    "    \"\"\"\n",
    "    purple = '#660159'\n",
    "    grey = '#7f7e7e'\n",
    "    light_grey = '#777777'\n",
    "    cmap = 'YlOrRd'\n",
    "duration_freq = pd.read_sql('''select length from congestion.pythonmerge_results''',con)\n",
    "plt.figure(figsize=(15,3))\n",
    "plt.hist(duration_freq.length, bins=50, color = colour.purple)\n",
    "axes = plt.gca()\n",
    "axes.set_facecolor('xkcd:white')\n",
    "axes.grid(color='k', linestyle='-', linewidth=0.25)\n",
    "#plt.xlim((0,200))\n",
    "plt.xlabel('Length (m)')\n",
    "plt.ylabel('Frequency')"
   ]
  }
 ],
 "metadata": {
  "kernelspec": {
   "display_name": "Python 3",
   "language": "python",
   "name": "python3"
  },
  "language_info": {
   "codemirror_mode": {
    "name": "ipython",
    "version": 3
   },
   "file_extension": ".py",
   "mimetype": "text/x-python",
   "name": "python",
   "nbconvert_exporter": "python",
   "pygments_lexer": "ipython3",
   "version": "3.5.2"
  }
 },
 "nbformat": 4,
 "nbformat_minor": 4
}
