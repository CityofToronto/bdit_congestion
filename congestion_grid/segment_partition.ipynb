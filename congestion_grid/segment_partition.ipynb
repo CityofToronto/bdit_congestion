{
 "cells": [
  {
   "cell_type": "code",
   "execution_count": 405,
   "metadata": {},
   "outputs": [],
   "source": [
    "import configparser\n",
    "from pathlib import Path\n",
    "import pandas as pd\n",
    "import pandas.io.sql as pandasql\n",
    "from psycopg2 import connect\n",
    "import numpy\n",
    "from psycopg2.extras import execute_values\n",
    "import matplotlib as mpl\n",
    "import numpy as np\n",
    "import matplotlib.pyplot as plt\n",
    "import matplotlib.ticker as ticker\n",
    "from setuptools import setup, find_packages\n",
    "from itertools import islice \n",
    "import matplotlib.patches as patches\n",
    "CONFIG = configparser.ConfigParser()\n",
    "CONFIG.read(str(Path.home().joinpath('db.cfg')))\n",
    "from itertools import combinations, chain\n",
    "dbset = CONFIG['DBSETTINGS']\n",
    "con = connect(**dbset)"
   ]
  },
  {
   "cell_type": "code",
   "execution_count": 160,
   "metadata": {},
   "outputs": [],
   "source": [
    "merged = pd.read_sql('''select * from congestion.merged_segments_v2 where length >200\n",
    "''',con)"
   ]
  },
  {
   "cell_type": "markdown",
   "metadata": {},
   "source": [
    "## Greedy forward partitioning"
   ]
  },
  {
   "cell_type": "code",
   "execution_count": 161,
   "metadata": {},
   "outputs": [],
   "source": [
    "def handle_subsection(subsection, prev_i, max_segment_length=250.):\n",
    "    # Scans through each subsection of `lengths`, grouping together\n",
    "    # segments up to `max_segment_length`.\n",
    "    subsec_segments = [{'idx': [prev_i, ], 'length': subsection[0]}]\n",
    "\n",
    "    if len(subsection) > 1:\n",
    "        for i, item in enumerate(subsection[1:]):\n",
    "            if subsec_segments[-1]['length'] + item < max_segment_length or (i== 0 and subsec_segments[0]['length'] < 100):\n",
    "                subsec_segments[-1]['idx'].append(i + prev_i + 1)\n",
    "                subsec_segments[-1]['length'] += item\n",
    "            elif subsec_segments[-1]['length'] + item > max_segment_length:\n",
    "                subsec_segments.append({'idx': [i + prev_i + 1, ], 'length': item})\n",
    "    return subsec_segments"
   ]
  },
  {
   "cell_type": "code",
   "execution_count": 162,
   "metadata": {},
   "outputs": [],
   "source": [
    "# forward partition\n",
    "max_multi_length = 250.\n",
    "min_segment_length = 100.\n",
    "for index, row in merged.iterrows():\n",
    "    segment_id = merged['segment_id'].iloc[index].astype(float)\n",
    "    lengths = merged['length_set'].iloc[index]\n",
    "    link_dir = merged['link_set'].iloc[index]    \n",
    "    segments = []\n",
    "    segments.extend(handle_subsection(lengths, 0))\n",
    "    segments = sorted(segments, key=lambda x: x['idx'][0])\n",
    "    too_small = [i for i in range(len(segments)) if segments[i]['length'] < 100]\n",
    "    n_deleted = 0\n",
    "\n",
    "    for ir in too_small:\n",
    "        i = ir - n_deleted\n",
    "        if i == 0:\n",
    "            segments[1]['idx'] = segments[i]['idx'] + segments[1]['idx']\n",
    "            segments[1]['length'] += segments[i]['length']\n",
    "        elif i == len(segments) - 1:\n",
    "            segments[-2]['idx'] += segments[i]['idx']\n",
    "            segments[-2]['length'] += segments[i]['length']\n",
    "        else:\n",
    "            if segments[i - 1]['length'] >= segments[i + 1]['length']:\n",
    "                segments[i + 1]['idx'] = segments[i]['idx'] + segments[i + 1]['idx']\n",
    "                segments[i + 1]['length'] += segments[i]['length']\n",
    "            else:\n",
    "                segments[i - 1]['idx'] += segments[i]['idx']\n",
    "                segments[i - 1]['length'] += segments[i]['length']\n",
    "        del segments[i]\n",
    "        n_deleted += 1\n",
    "    rows = []\n",
    "    for i in range(len(segments)):\n",
    "        id = i\n",
    "        new_length = segments[i]['length']\n",
    "        link_set = []\n",
    "        length_set =[]\n",
    "        for i in segments[i]['idx']:\n",
    "            link_set.append(link_dir[i])\n",
    "            length_set.append(lengths[i])\n",
    "        row = (segment_id, id, link_set, length_set, new_length)\n",
    "        rows.append(row) \n",
    "       \n",
    "    sql = '''insert into congestion.partition_result(segment_id, id, link_set, length_set, length) VALUES %s'''    \n",
    "    with con:\n",
    "        with con.cursor() as cur:\n",
    "            execute_values(cur, sql, rows)     "
   ]
  },
  {
   "cell_type": "markdown",
   "metadata": {},
   "source": [
    "## Best Group"
   ]
  },
  {
   "cell_type": "code",
   "execution_count": 447,
   "metadata": {},
   "outputs": [],
   "source": [
    "small_groups = pd.read_sql('''with sets as (\n",
    "                                select * from congestion.merged_segments_v2 inner join \n",
    "                                (select distinct segment_id from congestion.partition_result)long\n",
    "                                using (segment_id))\n",
    "\n",
    "                                select * from sets\n",
    "                                where array_length(length_set, 1) >3 and array_length(length_set, 1) <9\n",
    "                                limit 10''',con)"
   ]
  },
  {
   "cell_type": "code",
   "execution_count": 448,
   "metadata": {},
   "outputs": [
    {
     "data": {
      "text/html": [
       "<div>\n",
       "<style scoped>\n",
       "    .dataframe tbody tr th:only-of-type {\n",
       "        vertical-align: middle;\n",
       "    }\n",
       "\n",
       "    .dataframe tbody tr th {\n",
       "        vertical-align: top;\n",
       "    }\n",
       "\n",
       "    .dataframe thead th {\n",
       "        text-align: right;\n",
       "    }\n",
       "</style>\n",
       "<table border=\"1\" class=\"dataframe\">\n",
       "  <thead>\n",
       "    <tr style=\"text-align: right;\">\n",
       "      <th></th>\n",
       "      <th>segment_id</th>\n",
       "      <th>start_vid</th>\n",
       "      <th>end_vid</th>\n",
       "      <th>link_set</th>\n",
       "      <th>length_set</th>\n",
       "      <th>length</th>\n",
       "    </tr>\n",
       "  </thead>\n",
       "  <tbody>\n",
       "    <tr>\n",
       "      <th>0</th>\n",
       "      <td>77</td>\n",
       "      <td>30432977</td>\n",
       "      <td>30423715</td>\n",
       "      <td>[295666451, 1337885661, 1337885621, 295666941,...</td>\n",
       "      <td>[104.537627564599, 76.5044318877424, 43.555974...</td>\n",
       "      <td>509</td>\n",
       "    </tr>\n",
       "    <tr>\n",
       "      <th>1</th>\n",
       "      <td>78</td>\n",
       "      <td>30423715</td>\n",
       "      <td>30432977</td>\n",
       "      <td>[1337885480, 1337885490, 1337885510, 295666940...</td>\n",
       "      <td>[58.0733945268798, 71.6699574331037, 96.659820...</td>\n",
       "      <td>509</td>\n",
       "    </tr>\n",
       "    <tr>\n",
       "      <th>2</th>\n",
       "      <td>105</td>\n",
       "      <td>30416433</td>\n",
       "      <td>30416457</td>\n",
       "      <td>[7545940210, 7545940220, 7545726180, 296105760...</td>\n",
       "      <td>[44.1590775430057, 33.4576644383159, 15.679718...</td>\n",
       "      <td>307</td>\n",
       "    </tr>\n",
       "    <tr>\n",
       "      <th>3</th>\n",
       "      <td>145</td>\n",
       "      <td>30456444</td>\n",
       "      <td>30456617</td>\n",
       "      <td>[295004770, 329757560, 329757570, 7994176630, ...</td>\n",
       "      <td>[103.30372722547, 91.9238671994588, 153.870704...</td>\n",
       "      <td>686</td>\n",
       "    </tr>\n",
       "    <tr>\n",
       "      <th>4</th>\n",
       "      <td>235</td>\n",
       "      <td>30468658</td>\n",
       "      <td>30469017</td>\n",
       "      <td>[9544724710, 9544724720, 7922650810, 947876822...</td>\n",
       "      <td>[66.9448778002842, 33.2828459367174, 207.71711...</td>\n",
       "      <td>415</td>\n",
       "    </tr>\n",
       "    <tr>\n",
       "      <th>5</th>\n",
       "      <td>249</td>\n",
       "      <td>30363077</td>\n",
       "      <td>30363068</td>\n",
       "      <td>[295880831, 12056282471, 12056282461, 94563171...</td>\n",
       "      <td>[202.673606689019, 61.2678697270612, 178.04288...</td>\n",
       "      <td>580</td>\n",
       "    </tr>\n",
       "    <tr>\n",
       "      <th>6</th>\n",
       "      <td>305</td>\n",
       "      <td>30416457</td>\n",
       "      <td>30416756</td>\n",
       "      <td>[12061667480, 12061667490, 12061667501, 936302...</td>\n",
       "      <td>[22.4697434776411, 26.3953180007832, 36.447457...</td>\n",
       "      <td>513</td>\n",
       "    </tr>\n",
       "    <tr>\n",
       "      <th>7</th>\n",
       "      <td>437</td>\n",
       "      <td>30373184</td>\n",
       "      <td>30373128</td>\n",
       "      <td>[7926412350, 7926412360, 9934040040, 993404005...</td>\n",
       "      <td>[58.5729392011701, 29.28646633565, 45.02580237...</td>\n",
       "      <td>598</td>\n",
       "    </tr>\n",
       "    <tr>\n",
       "      <th>8</th>\n",
       "      <td>457</td>\n",
       "      <td>30352192</td>\n",
       "      <td>30352231</td>\n",
       "      <td>[7999312180, 9436821920, 9936180760, 993618077...</td>\n",
       "      <td>[81.9460638916435, 33.4160760712455, 31.866306...</td>\n",
       "      <td>514</td>\n",
       "    </tr>\n",
       "    <tr>\n",
       "      <th>9</th>\n",
       "      <td>572</td>\n",
       "      <td>30416029</td>\n",
       "      <td>30416042</td>\n",
       "      <td>[9415612270, 9415612280, 10566969830, 11475431...</td>\n",
       "      <td>[44.3871841268962, 147.809840416471, 102.82556...</td>\n",
       "      <td>388</td>\n",
       "    </tr>\n",
       "  </tbody>\n",
       "</table>\n",
       "</div>"
      ],
      "text/plain": [
       "   segment_id  start_vid   end_vid  \\\n",
       "0          77   30432977  30423715   \n",
       "1          78   30423715  30432977   \n",
       "2         105   30416433  30416457   \n",
       "3         145   30456444  30456617   \n",
       "4         235   30468658  30469017   \n",
       "5         249   30363077  30363068   \n",
       "6         305   30416457  30416756   \n",
       "7         437   30373184  30373128   \n",
       "8         457   30352192  30352231   \n",
       "9         572   30416029  30416042   \n",
       "\n",
       "                                            link_set  \\\n",
       "0  [295666451, 1337885661, 1337885621, 295666941,...   \n",
       "1  [1337885480, 1337885490, 1337885510, 295666940...   \n",
       "2  [7545940210, 7545940220, 7545726180, 296105760...   \n",
       "3  [295004770, 329757560, 329757570, 7994176630, ...   \n",
       "4  [9544724710, 9544724720, 7922650810, 947876822...   \n",
       "5  [295880831, 12056282471, 12056282461, 94563171...   \n",
       "6  [12061667480, 12061667490, 12061667501, 936302...   \n",
       "7  [7926412350, 7926412360, 9934040040, 993404005...   \n",
       "8  [7999312180, 9436821920, 9936180760, 993618077...   \n",
       "9  [9415612270, 9415612280, 10566969830, 11475431...   \n",
       "\n",
       "                                          length_set  length  \n",
       "0  [104.537627564599, 76.5044318877424, 43.555974...     509  \n",
       "1  [58.0733945268798, 71.6699574331037, 96.659820...     509  \n",
       "2  [44.1590775430057, 33.4576644383159, 15.679718...     307  \n",
       "3  [103.30372722547, 91.9238671994588, 153.870704...     686  \n",
       "4  [66.9448778002842, 33.2828459367174, 207.71711...     415  \n",
       "5  [202.673606689019, 61.2678697270612, 178.04288...     580  \n",
       "6  [22.4697434776411, 26.3953180007832, 36.447457...     513  \n",
       "7  [58.5729392011701, 29.28646633565, 45.02580237...     598  \n",
       "8  [81.9460638916435, 33.4160760712455, 31.866306...     514  \n",
       "9  [44.3871841268962, 147.809840416471, 102.82556...     388  "
      ]
     },
     "execution_count": 448,
     "metadata": {},
     "output_type": "execute_result"
    }
   ],
   "source": [
    "small_groups"
   ]
  },
  {
   "cell_type": "code",
   "execution_count": 460,
   "metadata": {},
   "outputs": [
    {
     "name": "stdout",
     "output_type": "stream",
     "text": [
      "0\n",
      "[104.537627564599, 76.5044318877424, 43.5559747260566, 56.4313581642465, 96.6598206171163, 71.6699574331037, 58.0733945268798]\n",
      "2\n",
      "[[104.537627564599, 402.89493735514526], [181.0420594523414, 326.3905054674029], [224.598034178398, 282.83453074134627], [281.0293923426445, 226.4031725770998], [377.68921295976077, 129.7433519599835], [449.3591703928645, 58.0733945268798]]\n",
      "[[[104.537627564599], [76.5044318877424, 43.5559747260566, 56.4313581642465, 96.6598206171163, 71.6699574331037, 58.0733945268798]], [[104.537627564599, 76.5044318877424], [43.5559747260566, 56.4313581642465, 96.6598206171163, 71.6699574331037, 58.0733945268798]], [[104.537627564599, 76.5044318877424, 43.5559747260566], [56.4313581642465, 96.6598206171163, 71.6699574331037, 58.0733945268798]], [[104.537627564599, 76.5044318877424, 43.5559747260566, 56.4313581642465], [96.6598206171163, 71.6699574331037, 58.0733945268798]], [[104.537627564599, 76.5044318877424, 43.5559747260566, 56.4313581642465, 96.6598206171163], [71.6699574331037, 58.0733945268798]], [[104.537627564599, 76.5044318877424, 43.5559747260566, 56.4313581642465, 96.6598206171163, 71.6699574331037], [58.0733945268798]]]\n",
      "1\n",
      "[58.0733945268798, 71.6699574331037, 96.6598206171162, 56.4313581642465, 43.5559747260566, 76.5044318877424, 104.537627564599]\n",
      "2\n",
      "[[58.0733945268798, 449.35917039286437], [129.7433519599835, 377.6892129597607], [226.4031725770997, 281.0293923426445], [282.8345307413462, 224.598034178398], [326.3905054674028, 181.0420594523414], [402.8949373551452, 104.537627564599]]\n",
      "[[[58.0733945268798], [71.6699574331037, 96.6598206171162, 56.4313581642465, 43.5559747260566, 76.5044318877424, 104.537627564599]], [[58.0733945268798, 71.6699574331037], [96.6598206171162, 56.4313581642465, 43.5559747260566, 76.5044318877424, 104.537627564599]], [[58.0733945268798, 71.6699574331037, 96.6598206171162], [56.4313581642465, 43.5559747260566, 76.5044318877424, 104.537627564599]], [[58.0733945268798, 71.6699574331037, 96.6598206171162, 56.4313581642465], [43.5559747260566, 76.5044318877424, 104.537627564599]], [[58.0733945268798, 71.6699574331037, 96.6598206171162, 56.4313581642465, 43.5559747260566], [76.5044318877424, 104.537627564599]], [[58.0733945268798, 71.6699574331037, 96.6598206171162, 56.4313581642465, 43.5559747260566, 76.5044318877424], [104.537627564599]]]\n",
      "2\n",
      "[44.1590775430057, 33.4576644383159, 15.6797184107626, 17.5075382407102, 13.3257400340777, 52.7029279636601, 76.3566335096692, 53.5912663211696]\n",
      "1\n",
      "[]\n",
      "[]\n"
     ]
    },
    {
     "ename": "ValueError",
     "evalue": "min() arg is an empty sequence",
     "output_type": "error",
     "traceback": [
      "\u001b[0;31m---------------------------------------------------------------------------\u001b[0m",
      "\u001b[0;31mValueError\u001b[0m                                Traceback (most recent call last)",
      "\u001b[0;32m<ipython-input-460-b2cf073276fd>\u001b[0m in \u001b[0;36m<module>\u001b[0;34m\u001b[0m\n\u001b[1;32m     16\u001b[0m     \u001b[0mprint\u001b[0m\u001b[0;34m(\u001b[0m\u001b[0mgroup_set\u001b[0m\u001b[0;34m)\u001b[0m\u001b[0;34m\u001b[0m\u001b[0m\n\u001b[1;32m     17\u001b[0m     \u001b[0;31m# Make selection based on summed length\u001b[0m\u001b[0;34m\u001b[0m\u001b[0;34m\u001b[0m\u001b[0m\n\u001b[0;32m---> 18\u001b[0;31m     \u001b[0mselection\u001b[0m \u001b[0;34m=\u001b[0m \u001b[0mevaluate_results\u001b[0m\u001b[0;34m(\u001b[0m\u001b[0mreturn_groups\u001b[0m\u001b[0;34m)\u001b[0m\u001b[0;34m\u001b[0m\u001b[0m\n\u001b[0m\u001b[1;32m     19\u001b[0m \u001b[0;34m\u001b[0m\u001b[0m\n\u001b[1;32m     20\u001b[0m     \u001b[0;31m# Retrieve selected partitioned array\u001b[0m\u001b[0;34m\u001b[0m\u001b[0;34m\u001b[0m\u001b[0m\n",
      "\u001b[0;32m<ipython-input-393-63f3c1cc6144>\u001b[0m in \u001b[0;36mevaluate_results\u001b[0;34m(return_groups)\u001b[0m\n\u001b[1;32m      7\u001b[0m             \u001b[0msum_diff\u001b[0m \u001b[0;34m=\u001b[0m \u001b[0msum_diff\u001b[0m \u001b[0;34m+\u001b[0m \u001b[0mdiff\u001b[0m\u001b[0;34m\u001b[0m\u001b[0m\n\u001b[1;32m      8\u001b[0m         \u001b[0mset_result\u001b[0m\u001b[0;34m.\u001b[0m\u001b[0mappend\u001b[0m\u001b[0;34m(\u001b[0m\u001b[0msum_diff\u001b[0m\u001b[0;34m)\u001b[0m\u001b[0;34m\u001b[0m\u001b[0m\n\u001b[0;32m----> 9\u001b[0;31m     \u001b[0mselection\u001b[0m \u001b[0;34m=\u001b[0m \u001b[0mset_result\u001b[0m\u001b[0;34m.\u001b[0m\u001b[0mindex\u001b[0m\u001b[0;34m(\u001b[0m\u001b[0mmin\u001b[0m\u001b[0;34m(\u001b[0m\u001b[0mset_result\u001b[0m\u001b[0;34m)\u001b[0m\u001b[0;34m)\u001b[0m\u001b[0;34m\u001b[0m\u001b[0m\n\u001b[0m\u001b[1;32m     10\u001b[0m     \u001b[0;32mreturn\u001b[0m \u001b[0mselection\u001b[0m\u001b[0;34m\u001b[0m\u001b[0m\n",
      "\u001b[0;31mValueError\u001b[0m: min() arg is an empty sequence"
     ]
    }
   ],
   "source": [
    "rows = []\n",
    "for index, row in small_groups.iterrows():\n",
    "    print(index)\n",
    "    row = []\n",
    "    length_set = small_groups['length_set'].iloc[index]\n",
    "    link_dir = small_groups['link_set'].iloc[index] \n",
    "    segment_id = small_groups['segment_id'].iloc[index].astype(float)\n",
    "    length = small_groups['length'].iloc[index].astype(float)\n",
    "    print(length_set)\n",
    "    # Get number of dividing groups based on length and number of links\n",
    "    num_link, groups = get_num_groups(length_set, length)\n",
    "    print(groups)\n",
    "    # Return divided group set\n",
    "    return_groups, group_set = return_results(length_set, groups)\n",
    "    print(return_groups)\n",
    "    print(group_set)\n",
    "    # Make selection based on summed length\n",
    "    selection = evaluate_results(return_groups)\n",
    "    \n",
    "    # Retrieve selected partitioned array\n",
    "    result_link, result_length = find_link(group_set, selection)\n",
    "    \n",
    "    # Prepare rows for sql inserting\n",
    "\n",
    "    for i in range(len(result_link)):\n",
    "        new_link_set = result_link[i]\n",
    "        new_length = sum(result_length[i]) \n",
    "        new_length_set = result_length[i]\n",
    "        row = (segment_id, i, new_link_set, new_length_set, new_length)\n",
    "        rows.append(row)\n",
    "rows"
   ]
  },
  {
   "cell_type": "code",
   "execution_count": 301,
   "metadata": {},
   "outputs": [],
   "source": [
    "def get_num_groups(length_set, length):\n",
    "    num_link = len(length_set)\n",
    "    long_link = 0\n",
    "    for i in length_set:\n",
    "        if i >200:\n",
    "            long_link = long_link + 1\n",
    "    groups = int(length/200) + long_link\n",
    "    return num_link, groups"
   ]
  },
  {
   "cell_type": "code",
   "execution_count": 458,
   "metadata": {},
   "outputs": [],
   "source": [
    "def split_list(data, n):\n",
    "    for splits in combinations(range(1, len(data)), n-1):\n",
    "        result = []\n",
    "        prev = None\n",
    "        for split in chain(splits, [None]):\n",
    "            result.append(data[prev:split])\n",
    "            prev = split\n",
    "        yield result"
   ]
  },
  {
   "cell_type": "code",
   "execution_count": 389,
   "metadata": {},
   "outputs": [],
   "source": [
    "def return_results(length_set, groups):\n",
    "    possibility = []\n",
    "    for i in range(2, groups+1):\n",
    "        split_result = split_list(length_set, i)\n",
    "        for a in split_result:  \n",
    "            possibility.append(a)           \n",
    "    group_result = []\n",
    "    group_set = []\n",
    "    for groups in possibility:\n",
    "        result = []\n",
    "        sets = []\n",
    "        for set in groups:\n",
    "            sum_length = sum(set)\n",
    "            result.append(sum_length)\n",
    "            sets.append(set)\n",
    "        group_result.append(result) \n",
    "        group_set.append(sets)\n",
    "    return group_result, group_set"
   ]
  },
  {
   "cell_type": "code",
   "execution_count": 393,
   "metadata": {},
   "outputs": [],
   "source": [
    "def evaluate_results(return_groups):\n",
    "    set_result = []\n",
    "    for set in return_groups:\n",
    "        sum_diff = 0\n",
    "        for i in range(len(set)):\n",
    "            diff = abs(200-set[i])\n",
    "            sum_diff = sum_diff + diff\n",
    "        set_result.append(sum_diff)  \n",
    "    selection = set_result.index(min(set_result))\n",
    "    return selection"
   ]
  },
  {
   "cell_type": "code",
   "execution_count": 413,
   "metadata": {},
   "outputs": [],
   "source": [
    "def find_link(group_set, selection):\n",
    "    length_to_split = []\n",
    "    for i in group_set[selection]:\n",
    "         length_to_split.append(len(i))\n",
    "\n",
    "    Input = iter(link_dir) \n",
    "    split_link = [list(islice(Input, elem)) \n",
    "              for elem in length_to_split] \n",
    "    return split_link, group_set[selection]"
   ]
  },
  {
   "cell_type": "code",
   "execution_count": 415,
   "metadata": {},
   "outputs": [],
   "source": [
    "num_link, groups = get_num_groups(length_set, length)\n",
    "return_groups, group_set = return_results(length_set, groups)\n",
    "selection = evaluate_results(return_groups)\n",
    "result_link, result_length = find_link(group_set, selection)"
   ]
  },
  {
   "cell_type": "code",
   "execution_count": 416,
   "metadata": {},
   "outputs": [
    {
     "name": "stdout",
     "output_type": "stream",
     "text": [
      "[[1337834590, 1337834600, 9549705740, 9549705750, 296037150], [295522220, 295522010, 295521900, 295521660]]\n",
      "[[56.5680256099858, 9.915017758849, 63.7280867671014, 47.0225481597742, 20.1080740528924], [89.3582693336126, 59.3543983547273, 45.0491094714567, 81.7310009728895]]\n"
     ]
    }
   ],
   "source": [
    "print(result_link)\n",
    "print(result_length)"
   ]
  },
  {
   "cell_type": "code",
   "execution_count": null,
   "metadata": {},
   "outputs": [],
   "source": [
    "# potential function for using the same partitioning for groups that are the \"same\" (e.g. same link length just different directions)\n",
    "def check_repeated_groups(start_vid, end_vid, length_set):\n",
    "    "
   ]
  },
  {
   "cell_type": "code",
   "execution_count": null,
   "metadata": {},
   "outputs": [],
   "source": []
  },
  {
   "cell_type": "code",
   "execution_count": null,
   "metadata": {},
   "outputs": [],
   "source": []
  },
  {
   "cell_type": "markdown",
   "metadata": {},
   "source": [
    "## Simulated annealing"
   ]
  },
  {
   "cell_type": "code",
   "execution_count": null,
   "metadata": {},
   "outputs": [],
   "source": []
  },
  {
   "cell_type": "code",
   "execution_count": null,
   "metadata": {},
   "outputs": [],
   "source": []
  },
  {
   "cell_type": "markdown",
   "metadata": {},
   "source": [
    "## Validating"
   ]
  },
  {
   "cell_type": "code",
   "execution_count": 164,
   "metadata": {},
   "outputs": [
    {
     "data": {
      "text/plain": [
       "Text(0, 0.5, 'Number of segments')"
      ]
     },
     "execution_count": 164,
     "metadata": {},
     "output_type": "execute_result"
    },
    {
     "data": {
      "image/png": "[encoded data removed]",
      "text/plain": [
       "<Figure size 1080x216 with 1 Axes>"
      ]
     },
     "metadata": {
      "needs_background": "light"
     },
     "output_type": "display_data"
    }
   ],
   "source": [
    "class colour:\n",
    "    \"\"\"\n",
    "    Class defining the global colour variables for all functions.\n",
    "    \n",
    "    \"\"\"\n",
    "    purple = '#660159'\n",
    "    grey = '#7f7e7e'\n",
    "    light_grey = '#777777'\n",
    "    cmap = 'YlOrRd'\n",
    "duration_freq = pd.read_sql('''select segment_id, length from (\n",
    "select segment_id from congestion.merged_segments_v2\n",
    "except\n",
    "select distinct segment_id from congestion.partition_result)a\n",
    "inner join congestion.merged_segments_v2 using (segment_id)\n",
    "union all\n",
    "select segment_id, length from congestion.partition_result''',con)\n",
    "plt.figure(figsize=(15,3))\n",
    "plt.hist(duration_freq.length, bins=50, color = colour.purple)\n",
    "axes = plt.gca()\n",
    "axes.set_facecolor('xkcd:white')\n",
    "axes.grid(color='k', linestyle='-', linewidth=0.25)\n",
    "\n",
    "plt.xlabel('Segment length (m)')\n",
    "plt.ylabel('Number of segments')"
   ]
  }
 ],
 "metadata": {
  "kernelspec": {
   "display_name": "Python 3",
   "language": "python",
   "name": "python3"
  },
  "language_info": {
   "codemirror_mode": {
    "name": "ipython",
    "version": 3
   },
   "file_extension": ".py",
   "mimetype": "text/x-python",
   "name": "python",
   "nbconvert_exporter": "python",
   "pygments_lexer": "ipython3",
   "version": "3.5.2"
  }
 },
 "nbformat": 4,
 "nbformat_minor": 4
}
