{
 "cells": [
  {
   "cell_type": "code",
   "execution_count": 20,
   "metadata": {},
   "outputs": [],
   "source": [
    "import configparser\n",
    "from pathlib import Path\n",
    "import collections\n",
    "import pandas as pd\n",
    "import pandas.io.sql as pandasql\n",
    "from psycopg2.extras import execute_values\n",
    "from psycopg2 import connect\n",
    "import numpy\n",
    "import matplotlib as mpl\n",
    "from IPython.display import HTML, display\n",
    "import rick\n",
    "import numpy as np\n",
    "import matplotlib.pyplot as plt\n",
    "from setuptools import setup, find_packages\n",
    "CONFIG = configparser.ConfigParser()\n",
    "CONFIG.read(str(Path.home().joinpath('db.cfg')))\n",
    "dbset = CONFIG['DBSETTINGS']\n",
    "con = connect(**dbset)"
   ]
  },
  {
   "cell_type": "code",
   "execution_count": 41,
   "metadata": {},
   "outputs": [],
   "source": [
    "merge_set = pd.read_sql('''select * from congestion.mergeshort_result3_ordered_v2\n",
    "                          ''',con)"
   ]
  },
  {
   "cell_type": "code",
   "execution_count": 22,
   "metadata": {},
   "outputs": [],
   "source": [
    "def check_usage(link_set, link_used):\n",
    "    result = []\n",
    "    if link_used == []:\n",
    "        return False\n",
    "    for i in link_used:\n",
    "        if collections.Counter(link_set) == collections.Counter(i):\n",
    "            result.append(True)\n",
    "        else:\n",
    "            result.append(False)\n",
    "    if True in result:\n",
    "        return True\n",
    "    else:\n",
    "        return False"
   ]
  },
  {
   "cell_type": "code",
   "execution_count": 23,
   "metadata": {},
   "outputs": [],
   "source": [
    "def make_selection(segment_set, min_angle, angle_diff, length_tolerance):\n",
    "    ## find out number of ranks\n",
    "    if pd.isna(segment_set['ang_diff'].iloc[0]):\n",
    "        selected_rank = 0\n",
    "    else:\n",
    "        if segment_set['ang_diff'].iloc[0] < min_angle:\n",
    "            if segment_set.shape[0] == 2:\n",
    "                rank1=segment_set[(segment_set['rank']==1)]\n",
    "                rank2=segment_set[(segment_set['rank']==2)]\n",
    "\n",
    "                if rank2['ang_diff'].iloc[0] - rank1['ang_diff'].iloc[0] < angle_diff and rank2['pot_length'].iloc[0] - rank1['pot_length'].iloc[0] < length_tolerance:\n",
    "                    selected_rank = 2\n",
    "                else:\n",
    "                    selected_rank = 1\n",
    "            elif segment_set.shape[0] == 1:\n",
    "                    selected_rank = 1\n",
    "        else:\n",
    "            selected_rank = 0\n",
    "       \n",
    "    return selected_rank"
   ]
  },
  {
   "cell_type": "code",
   "execution_count": 24,
   "metadata": {},
   "outputs": [],
   "source": [
    "def return_chosen_segments(segment_set, rank, link_used):\n",
    "    if rank != 0:\n",
    "        whole_set = segment_set[(segment_set['rank']==rank)].iloc[0]\n",
    "        original_set = whole_set[['start_vid', 'end_vid', 'segment_id', 'link_set', 'length_set', 'length']]\n",
    "        additional_set = whole_set[['pot_start_vid', 'pot_end_vid', 'pot_seg', 'pot_link_set', 'pot_length_set','pot_length']]\n",
    "        additional_links = additional_set['pot_link_set']\n",
    "        if check_usage(additional_links, link_used) == False:\n",
    "            # find which node to use for new start and end_vid\n",
    "            if original_set['start_vid'] == additional_set['pot_end_vid']:\n",
    "                new_start_vid = additional_set['pot_start_vid'].astype(float)\n",
    "                new_end_vid = original_set['end_vid'].astype(float)\n",
    "                new_link_set = additional_set['pot_link_set'] + original_set['link_set']\n",
    "                new_length_set = additional_set['pot_length_set'] + original_set['length_set']\n",
    "            else:\n",
    "                new_start_vid = original_set['start_vid'].astype(float)\n",
    "                new_end_vid = additional_set['pot_end_vid'] .astype(float)\n",
    "                new_link_set = original_set['link_set'] + additional_set['pot_link_set']\n",
    "                new_length_set = original_set['length_set'] + additional_set['pot_length_set']\n",
    "            new_length = additional_set['pot_length'].astype(float) + original_set['length'].astype(float)\n",
    "            original_link_set = original_set['link_set']\n",
    "            additional_links = additional_set['pot_link_set']\n",
    "        else:\n",
    "            whole_set = segment_set.iloc[0]\n",
    "            new_start_vid = original_set['start_vid'].astype(float)\n",
    "            new_end_vid = original_set['end_vid'].astype(float)\n",
    "            new_length = original_set['length'].astype(float)\n",
    "            new_length_set = original_set['length_set']\n",
    "            new_link_set = original_set['link_set']\n",
    "            additional_links = []\n",
    "            original_link_set = original_set['link_set']\n",
    "            \n",
    "    else:\n",
    "        whole_set = segment_set.iloc[0]\n",
    "        original_set = whole_set[['start_vid', 'end_vid', 'segment_id', 'link_set', 'length_set','length']]\n",
    "        new_start_vid = original_set['start_vid'].astype(float)\n",
    "        new_end_vid = original_set['end_vid'].astype(float)\n",
    "        new_length = original_set['length'].astype(float)\n",
    "        new_length_set = original_set['length_set']\n",
    "        new_link_set = original_set['link_set']\n",
    "        additional_links = []\n",
    "        original_link_set = original_set['link_set']\n",
    "    return new_start_vid, new_end_vid, new_length, new_link_set, new_length_set, additional_links, original_link_set"
   ]
  },
  {
   "cell_type": "code",
   "execution_count": 42,
   "metadata": {},
   "outputs": [],
   "source": [
    "link_used = []\n",
    "new_sets = []\n",
    "rows = []\n",
    "unique_set = merge_set[['segment_id']].drop_duplicates()\n",
    "\n",
    "for index, key in unique_set.reset_index(drop=True).iterrows(): \n",
    "    segment_id = unique_set['segment_id'].iloc[index]\n",
    "    prepare_set = merge_set[(merge_set['segment_id'] == segment_id)]\n",
    "    link_set = prepare_set['link_set'].iloc[0]\n",
    "    # See if the link_set was used before\n",
    "    if check_usage(link_set, link_used) == False:\n",
    "        # See if the link_set needs merging     \n",
    "        if prepare_set['length'].iloc[0] < 200:\n",
    "            rank = make_selection(prepare_set, 25, 5, 50)\n",
    "            new_start_vid, new_end_vid, new_length, new_link_set, new_length_set, additional_links, original_link_set = return_chosen_segments(prepare_set, rank, link_used)\n",
    "            if len(additional_links) != 0:  \n",
    "                link_used.append(original_link_set)\n",
    "                link_used.append(additional_links)\n",
    "            else: \n",
    "                link_used.append(original_link_set)\n",
    "            row = (new_start_vid, new_end_vid, new_link_set, new_length_set, new_length)\n",
    "            rows.append(row)\n",
    "        # Else append                                                             \n",
    "        elif prepare_set['length'].iloc[0] > 200:\n",
    "            new_start_vid, new_end_vid, new_length, new_link_set, new_length_set, additional_links, original_link_set = return_chosen_segments(prepare_set, 0, link_used)\n",
    "            link_used.append(original_link_set)\n",
    "            row = (new_start_vid, new_end_vid, new_link_set, new_length_set, new_length)\n",
    "            rows.append(row)\n",
    "    else:\n",
    "        continue"
   ]
  },
  {
   "cell_type": "code",
   "execution_count": 44,
   "metadata": {},
   "outputs": [],
   "source": [
    "sql = '''insert into congestion.mergeshort_result4_v2(start_vid, end_vid, link_set, length_set, length) VALUES %s'''    \n",
    "with con:\n",
    "    with con.cursor() as cur:\n",
    "        execute_values(cur, sql, rows)    "
   ]
  },
  {
   "cell_type": "code",
   "execution_count": 31,
   "metadata": {},
   "outputs": [],
   "source": [
    "def create_insert_table (table_version):\n",
    "    with con:\n",
    "        with con.cursor() as cur:\n",
    "            cur.execute(\"create table congestion.mergeshort_result{}_v2 (start_vid bigint, end_vid bigint, link_set bigint[], length_set float[], length integer)\".format(table_version))"
   ]
  },
  {
   "cell_type": "code",
   "execution_count": 43,
   "metadata": {},
   "outputs": [],
   "source": [
    "create_insert_table(4)"
   ]
  }
 ],
 "metadata": {
  "kernelspec": {
   "display_name": "jupyterhub",
   "language": "python",
   "name": "jupyterhub"
  },
  "language_info": {
   "codemirror_mode": {
    "name": "ipython",
    "version": 3
   },
   "file_extension": ".py",
   "mimetype": "text/x-python",
   "name": "python",
   "nbconvert_exporter": "python",
   "pygments_lexer": "ipython3",
   "version": "3.5.2"
  }
 },
 "nbformat": 4,
 "nbformat_minor": 4
}
