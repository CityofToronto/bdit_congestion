{
 "cells": [
  {
   "cell_type": "code",
   "execution_count": 1,
   "metadata": {
    "collapsed": false
   },
   "outputs": [],
   "source": [
    "%matplotlib inline\n",
    "import matplotlib.pylab as plt\n",
    "import matplotlib as mpl\n",
    "import pandas as pd\n",
    "import pandas.io.sql as pandasql\n",
    "import datetime\n",
    "from psycopg2 import connect"
   ]
  },
  {
   "cell_type": "code",
   "execution_count": 31,
   "metadata": {
    "collapsed": false
   },
   "outputs": [],
   "source": [
    "#Setting up postgresql connection\n",
    "con = connect(database='rdumas',host='localhost',port='5433',user='rdumas')"
   ]
  },
  {
   "cell_type": "code",
   "execution_count": 3,
   "metadata": {
    "collapsed": false
   },
   "outputs": [],
   "source": [
    "#Ostensibly prevents plotting when using the save_fig command, but I've seen no evidence of success\n",
    "#http://stackoverflow.com/a/15713545/4047679\n",
    "plt.ioff()\n",
    "plt.style.use('ggplot')"
   ]
  },
  {
   "cell_type": "code",
   "execution_count": 4,
   "metadata": {
    "collapsed": false
   },
   "outputs": [],
   "source": [
    "'''\n",
    "Setting colours\n",
    "http://stackoverflow.com/a/37211181/4047679\n",
    "Blue: #004B85\n",
    "Red: #F2756D\n",
    "'''\n",
    "mpl.rcParams['axes.prop_cycle'] = mpl.cycler(color=['#004B85','#F2756D'])"
   ]
  },
  {
   "cell_type": "code",
   "execution_count": 32,
   "metadata": {
    "collapsed": false
   },
   "outputs": [],
   "source": [
    "sql = \"SELECT dt_week::date, roadname as corridor, direction, period,tt_med as median_tt \"\\\n",
    "      \"FROM rdumas.signal_timing_perf_alldata \"\\\n",
    "      \"INNER JOIN rdumas.corridors_signal_timing_lookup USING (signal_timing_id) \"\\\n",
    "      \"WHERE daytype = 'Midweek' and period IN ('AMPK','PMPK') \"\\\n",
    "      \"ORDER BY roadname, direction, period, dt_week\"\n",
    "signals_perf = pandasql.read_sql(sql, con)"
   ]
  },
  {
   "cell_type": "code",
   "execution_count": 27,
   "metadata": {
    "collapsed": false
   },
   "outputs": [],
   "source": [
    "dirs = signals_perf.direction.unique()\n",
    "peaks = signals_perf.period.unique()\n",
    "corridors = pandasql.read_sql(\"SELECT roadname as corridor, direction FROM corridors_signal_timing_lookup\", con)"
   ]
  },
  {
   "cell_type": "code",
   "execution_count": 15,
   "metadata": {
    "collapsed": false
   },
   "outputs": [],
   "source": [
    "#Signal retiming periods\n",
    "retiming_dates = {'Markham Rd':dict(x1=datetime.date(2014,8,11), x2=datetime.date(2014,8,20), text='Signal\\nRetiming'),\n",
    "                  'Sheppard Ave':dict(x1=datetime.date(2014,7,22), x2=datetime.date(2014,7,25), text='Signal\\nRetiming')}"
   ]
  },
  {
   "cell_type": "code",
   "execution_count": 43,
   "metadata": {
    "collapsed": false
   },
   "outputs": [],
   "source": [
    "'''Median Travel Time Plots'''\n",
    "ylim=[0,40]\n",
    "for corridor in signals_perf.corridor.unique():\n",
    "    fig, ax = plt.subplots(1,2, figsize=(16,4), sharey=True)\n",
    "    \n",
    "    for ax_c, pk in enumerate(peaks):\n",
    "        \n",
    "        for direction in corridors[corridors[\"corridor\"]==corridor].direction.sort_values():\n",
    "            signals_perf[(signals_perf[\"corridor\"]==corridor)\n",
    "                               & (signals_perf[\"direction\"]==direction)\n",
    "                               & (signals_perf[\"period\"]==pk)].plot(x='dt_week',\n",
    "                                                                          y='median_tt',\n",
    "                                                                          linewidth=2,\n",
    "                                                                          ax=ax[ax_c],\n",
    "                                                                          label=direction\n",
    "                                                                         )\n",
    "        ax[ax_c].set_title(pk)\n",
    "        ax[ax_c].set_autoscaley_on(False)\n",
    "        ax[ax_c].set_ylim(ylim)\n",
    "        ax[ax_c].axvspan(retiming_dates[corridor]['x1'], retiming_dates[corridor]['x2'], alpha=0.5, label=retiming_dates[corridor]['text'])\n",
    "        ax[ax_c].set_xlabel('Month')\n",
    "        ax[ax_c].xaxis.set_major_locator(mpl.dates.MonthLocator(bymonth=range(1,13,3)))\n",
    "    fig.suptitle(corridor, fontsize=16)\n",
    "    ax[0].set_ylabel('Median Travel Time (min)')\n",
    "    ax[0].legend().set_visible(False)\n",
    "    leg = ax[1].legend(loc='center right',bbox_to_anchor=(1.3,0.5))\n",
    "    for legobj in leg.legendHandles:\n",
    "        legobj.set_linewidth(6.0)\n",
    "    plt.gcf().autofmt_xdate()\n",
    "    plt.minorticks_off()\n",
    "    fig.savefig('corridors/signal_retiming/median_tt_plots/'+ corridor +'.png', format='png', transparent=True)\n",
    "    plt.close(fig)"
   ]
  },
  {
   "cell_type": "markdown",
   "metadata": {},
   "source": [
    "## Score 30 data only"
   ]
  },
  {
   "cell_type": "code",
   "execution_count": 44,
   "metadata": {
    "collapsed": false
   },
   "outputs": [],
   "source": [
    "sql = \"SELECT dt_week::date, roadname as corridor, direction, period,tt_med as median_tt \"\\\n",
    "      \"FROM rdumas.signal_timing_perf_score30 \"\\\n",
    "      \"INNER JOIN rdumas.corridors_signal_timing_lookup USING (signal_timing_id) \"\\\n",
    "      \"WHERE daytype = 'Midweek' and period IN ('AMPK','PMPK') \"\\\n",
    "      \"AND dt_week < '2016-01-01'::date \"\\\n",
    "      \"ORDER BY roadname, direction, period, dt_week\"\n",
    "signals_perf = pandasql.read_sql(sql, con)"
   ]
  },
  {
   "cell_type": "code",
   "execution_count": 45,
   "metadata": {
    "collapsed": false
   },
   "outputs": [],
   "source": [
    "dirs = signals_perf.direction.unique()\n",
    "peaks = signals_perf.period.unique()\n",
    "corridors = pandasql.read_sql(\"SELECT roadname as corridor, direction FROM corridors_signal_timing_lookup\", con)"
   ]
  },
  {
   "cell_type": "code",
   "execution_count": 46,
   "metadata": {
    "collapsed": false
   },
   "outputs": [],
   "source": [
    "#Signal retiming periods\n",
    "retiming_dates = {'Markham Rd':dict(x1=datetime.date(2014,8,11), x2=datetime.date(2014,8,20), text='Signal\\nRetiming'),\n",
    "                  'Sheppard Ave':dict(x1=datetime.date(2014,7,22), x2=datetime.date(2014,7,25), text='Signal\\nRetiming')}"
   ]
  },
  {
   "cell_type": "code",
   "execution_count": 47,
   "metadata": {
    "collapsed": false
   },
   "outputs": [],
   "source": [
    "'''Median Travel Time Plots'''\n",
    "ylim=[0,40]\n",
    "for corridor in signals_perf.corridor.unique():\n",
    "    fig, ax = plt.subplots(1,2, figsize=(16,4), sharey=True)\n",
    "    \n",
    "    for ax_c, pk in enumerate(peaks):\n",
    "        \n",
    "        for direction in corridors[corridors[\"corridor\"]==corridor].direction.sort_values():\n",
    "            signals_perf[(signals_perf[\"corridor\"]==corridor)\n",
    "                               & (signals_perf[\"direction\"]==direction)\n",
    "                               & (signals_perf[\"period\"]==pk)].plot(x='dt_week',\n",
    "                                                                          y='median_tt',\n",
    "                                                                          linewidth=2,\n",
    "                                                                          ax=ax[ax_c],\n",
    "                                                                          label=direction\n",
    "                                                                         )\n",
    "        ax[ax_c].set_title(pk)\n",
    "        ax[ax_c].set_autoscaley_on(False)\n",
    "        ax[ax_c].set_ylim(ylim)\n",
    "        ax[ax_c].axvspan(retiming_dates[corridor]['x1'], retiming_dates[corridor]['x2'], alpha=0.5, label=retiming_dates[corridor]['text'])\n",
    "        ax[ax_c].set_xlabel('Month')\n",
    "        ax[ax_c].xaxis.set_major_locator(mpl.dates.MonthLocator(bymonth=range(1,13,3)))\n",
    "    fig.suptitle(corridor, fontsize=16)\n",
    "    ax[0].set_ylabel('Median Travel Time (min)')\n",
    "    ax[0].legend().set_visible(False)\n",
    "    leg = ax[1].legend(loc='center right',bbox_to_anchor=(1.3,0.5))\n",
    "    for legobj in leg.legendHandles:\n",
    "        legobj.set_linewidth(6.0)\n",
    "    plt.gcf().autofmt_xdate()\n",
    "    plt.minorticks_off()\n",
    "    fig.savefig('corridors/signal_retiming/median_tt_plots/'+ corridor +'score30.png', format='png', transparent=True)\n",
    "    plt.close(fig)"
   ]
  }
 ],
 "metadata": {
  "anaconda-cloud": {},
  "kernelspec": {
   "display_name": "Python [Root]",
   "language": "python",
   "name": "Python [Root]"
  },
  "language_info": {
   "codemirror_mode": {
    "name": "ipython",
    "version": 3
   },
   "file_extension": ".py",
   "mimetype": "text/x-python",
   "name": "python",
   "nbconvert_exporter": "python",
   "pygments_lexer": "ipython3",
   "version": "3.5.2"
  }
 },
 "nbformat": 4,
 "nbformat_minor": 0
}
