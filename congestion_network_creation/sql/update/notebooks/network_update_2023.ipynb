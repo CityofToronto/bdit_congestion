{
 "cells": [
  {
   "cell_type": "markdown",
   "id": "815e7670-4f4f-4446-a5e2-6b45cfb0c8a6",
   "metadata": {},
   "source": [
    "# Network Update 2023"
   ]
  },
  {
   "cell_type": "markdown",
   "id": "5d87e796-8326-4aac-9347-8eba10dbdc2a",
   "metadata": {},
   "source": [
    "## Whats new? "
   ]
  },
  {
   "cell_type": "markdown",
   "id": "4658f15d-8bed-4db0-bcd6-540184386d6d",
   "metadata": {},
   "source": [
    "Its that time of the year again, lets see how many things needs to be changed this time."
   ]
  },
  {
   "cell_type": "code",
   "execution_count": 28,
   "id": "f1dd2780-7db9-4b97-a434-43bcd793b425",
   "metadata": {},
   "outputs": [],
   "source": [
    "from psycopg2 import connect\n",
    "from psycopg2 import sql\n",
    "from psycopg2.extras import execute_values\n",
    "from pathlib import Path\n",
    "import pandas as pd\n",
    "import pandas.io.sql as pandasql\n",
    "import configparser\n",
    "import matplotlib.pyplot as plt\n",
    "from sqlalchemy import create_engine\n",
    "from sqlalchemy.engine import URL\n",
    "CONFIG = configparser.ConfigParser()\n",
    "CONFIG.read(str(Path.home().joinpath('db.cfg')))\n",
    "dbset = CONFIG['DBSETTINGS']\n",
    "con = connect(**dbset)\n",
    "connection_engine = create_engine(\n",
    "    URL.create(\n",
    "        drivername = \"postgresql\",\n",
    "        host = CONFIG['DBSETTINGS']['host'],\n",
    "        database = CONFIG['DBSETTINGS']['database'],\n",
    "        username = CONFIG['DBSETTINGS']['user'],\n",
    "        password = CONFIG['DBSETTINGS']['password']))"
   ]
  },
  {
   "cell_type": "markdown",
   "id": "a9c6a78c-8259-4f07-b5f6-c4a8fd359024",
   "metadata": {},
   "source": [
    "### Number of nodes that needs to be updated\n",
    "only two!"
   ]
  },
  {
   "cell_type": "code",
   "execution_count": 29,
   "id": "7c8e21b6-3571-49dd-a3e8-67fa18f045e1",
   "metadata": {},
   "outputs": [
    {
     "name": "stdout",
     "output_type": "stream",
     "text": [
      "      node_id\n",
      "0  30420390.0\n",
      "1  30420392.0\n"
     ]
    }
   ],
   "source": [
    "sql = '''\n",
    "select node_id from congestion.network_nodes\n",
    "except \n",
    "select node_id from here.routing_nodes_23_4 \n",
    "    '''\n",
    "with con : \n",
    "    nodes = pandasql.read_sql(sql, connection_engine) \n",
    "print(nodes)   "
   ]
  },
  {
   "cell_type": "markdown",
   "id": "fe95512e-cdaf-4817-9678-4f568a8da4e3",
   "metadata": {},
   "source": [
    "### Number of links that needs to be updated\n",
    "2990 links needs to be retired omg"
   ]
  },
  {
   "cell_type": "code",
   "execution_count": 30,
   "id": "0f5c398d-1174-47f7-a3f4-41f4cb297994",
   "metadata": {},
   "outputs": [
    {
     "name": "stdout",
     "output_type": "stream",
     "text": [
      "         link_dir\n",
      "0     1207662665F\n",
      "1     1258933853T\n",
      "2     1000005503T\n",
      "3      995198819F\n",
      "4       29568114T\n",
      "...           ...\n",
      "2985   949289551T\n",
      "2986  1258735603F\n",
      "2987  1258732905T\n",
      "2988   993964936T\n",
      "2989  1258776870T\n",
      "\n",
      "[2990 rows x 1 columns]\n"
     ]
    }
   ],
   "source": [
    "sql = '''\n",
    "select link_dir from congestion.network_links_22_2\n",
    "except \n",
    "select link_dir from here.routing_streets_23_4 \n",
    "    '''\n",
    "with con : \n",
    "    nodes = pandasql.read_sql(sql, connection_engine) \n",
    "print(nodes)   "
   ]
  },
  {
   "cell_type": "markdown",
   "id": "13711da5-e930-486f-927e-4e3cb71e9afa",
   "metadata": {},
   "source": [
    "### Number of segments that needs to be updated\n",
    "1812 segment_ids needs be to retired and route............"
   ]
  },
  {
   "cell_type": "code",
   "execution_count": 31,
   "id": "516b77a5-aa05-43d5-bae2-6223f269d735",
   "metadata": {},
   "outputs": [
    {
     "name": "stdout",
     "output_type": "stream",
     "text": [
      "      segment_id\n",
      "0           6062\n",
      "1           2335\n",
      "2            652\n",
      "3           5856\n",
      "4           1560\n",
      "...          ...\n",
      "1807        2359\n",
      "1808        3795\n",
      "1809        1715\n",
      "1810        3697\n",
      "1811        4035\n",
      "\n",
      "[1812 rows x 1 columns]\n"
     ]
    }
   ],
   "source": [
    "sql = '''\n",
    "with changed_links AS (\n",
    "\tselect link_dir from congestion.network_links_22_2\n",
    "\texcept \n",
    "\tselect link_dir from here.routing_streets_23_4)\n",
    "\t\n",
    "select distinct segment_id from  congestion.network_links_22_2 \n",
    "inner join changed_links using (link_dir)\n",
    "    '''\n",
    "with con : \n",
    "    nodes = pandasql.read_sql(sql, connection_engine) \n",
    "print(nodes)   "
   ]
  },
  {
   "cell_type": "markdown",
   "id": "1ef1286c-db4a-4ede-88a0-0478db16ff56",
   "metadata": {},
   "source": [
    "### Number of new and retired traffic signals\n",
    "Quite a bunch of new traffic signals. We can deal with this after we recreated the network. "
   ]
  },
  {
   "cell_type": "code",
   "execution_count": 32,
   "id": "917b83c2-5818-494b-bb2d-c4c1f5d5c201",
   "metadata": {},
   "outputs": [
    {
     "data": {
      "text/html": [
       "<div>\n",
       "<style scoped>\n",
       "    .dataframe tbody tr th:only-of-type {\n",
       "        vertical-align: middle;\n",
       "    }\n",
       "\n",
       "    .dataframe tbody tr th {\n",
       "        vertical-align: top;\n",
       "    }\n",
       "\n",
       "    .dataframe thead th {\n",
       "        text-align: right;\n",
       "    }\n",
       "</style>\n",
       "<table border=\"1\" class=\"dataframe\">\n",
       "  <thead>\n",
       "    <tr style=\"text-align: right;\">\n",
       "      <th></th>\n",
       "      <th>count</th>\n",
       "    </tr>\n",
       "  </thead>\n",
       "  <tbody>\n",
       "    <tr>\n",
       "      <th>0</th>\n",
       "      <td>43</td>\n",
       "    </tr>\n",
       "  </tbody>\n",
       "</table>\n",
       "</div>"
      ],
      "text/plain": [
       "   count\n",
       "0     43"
      ]
     },
     "execution_count": 32,
     "metadata": {},
     "output_type": "execute_result"
    }
   ],
   "source": [
    "sql = '''\n",
    "select count(1) from gis.traffic_signal\n",
    "where activationdate  >= '2022-01-01'\n",
    "    '''\n",
    "with con : \n",
    "    nodes = pandasql.read_sql(sql, connection_engine) \n",
    "nodes.head()   "
   ]
  },
  {
   "cell_type": "markdown",
   "id": "790c9517-081a-41de-884b-e7dc36160588",
   "metadata": {},
   "source": [
    "# Updating the links"
   ]
  },
  {
   "cell_type": "markdown",
   "id": "851d5aa0-4569-4c59-8723-9b76a10fe5a2",
   "metadata": {},
   "source": [
    "Create new network_links_23_4 table with newly routed segments for ones that contains outdated links"
   ]
  },
  {
   "cell_type": "code",
   "execution_count": null,
   "id": "31656f70-1cc9-43a9-bbca-beb73b81e22a",
   "metadata": {},
   "outputs": [],
   "source": [
    "'''\n",
    "-- Create new links table except the segment_ids that are outdated\n",
    "\n",
    "CREATE TABLE congestion.network_links_23_4 AS \n",
    "-- retired links\n",
    "with changed_links AS (\n",
    "\tselect link_dir from congestion.network_links_22_2\n",
    "\texcept \n",
    "\tselect link_dir from here.routing_streets_23_4)\n",
    "-- retired segments\t\n",
    ", changed_seg AS (\n",
    "\tselect distinct segment_id, start_vid, end_vid \n",
    "\tfrom  congestion.network_links_22_2\n",
    "\tinner join changed_links using (link_dir))\n",
    "-- everything in network_links other than the retired segments\n",
    "select      network_links_22_2.* \n",
    "from \t\tcongestion.network_links_22_2\n",
    "left join \tchanged_seg using (segment_id)\n",
    "where \t\tchanged_seg is null ;\n",
    "\n",
    "'''\n",
    "'''\n",
    "-- Insert routed results using new map version (23_4) for retired segments\n",
    "\n",
    "with changed_links AS (\n",
    "\tselect link_dir from congestion.network_links_22_2\n",
    "\texcept \n",
    "\tselect link_dir from here.routing_streets_23_4)\t\n",
    ", changed_seg AS (\n",
    "\tselect distinct segment_id, start_vid, end_vid \n",
    "\tfrom  congestion.network_links_22_2 \n",
    "\tinner join changed_links using (link_dir))\n",
    " \n",
    " -- insert result to newly created network_links table\n",
    "INSERT INTO congestion.network_links_23_4\n",
    "SELECT segment_id, start_vid, end_vid, link_dir, routing.geom, round(st_length(st_transform(geom, 2952))::numeric, 2) as length\n",
    "FROM   changed_seg\n",
    "CROSS JOIN LATERAL pgr_dijkstra('SELECT id, source::int, target::int, st_length(st_transform(geom, 2952)) as cost \n",
    "\t\t\t\t \t   \t\t\tFROM here.routing_streets_23_4',  -- route using new map version's routing_streets\n",
    "\t\t\t\t\t\t\t\tstart_vid, \n",
    "\t\t\t\t\t\t\t\tend_vid)\n",
    "INNER JOIN here.routing_streets_23_4 routing ON id = edge;\n",
    "''';"
   ]
  },
  {
   "cell_type": "markdown",
   "id": "76fb8428-d9b9-45a1-b952-a0d4f71cba1c",
   "metadata": {},
   "source": [
    "### Check to see if all segments are inserted \n",
    "Returns nothing! "
   ]
  },
  {
   "cell_type": "code",
   "execution_count": 33,
   "id": "c44fe434-30d5-4715-8705-99a5cccdf349",
   "metadata": {},
   "outputs": [
    {
     "data": {
      "text/html": [
       "<div>\n",
       "<style scoped>\n",
       "    .dataframe tbody tr th:only-of-type {\n",
       "        vertical-align: middle;\n",
       "    }\n",
       "\n",
       "    .dataframe tbody tr th {\n",
       "        vertical-align: top;\n",
       "    }\n",
       "\n",
       "    .dataframe thead th {\n",
       "        text-align: right;\n",
       "    }\n",
       "</style>\n",
       "<table border=\"1\" class=\"dataframe\">\n",
       "  <thead>\n",
       "    <tr style=\"text-align: right;\">\n",
       "      <th></th>\n",
       "      <th>segment_id</th>\n",
       "    </tr>\n",
       "  </thead>\n",
       "  <tbody>\n",
       "  </tbody>\n",
       "</table>\n",
       "</div>"
      ],
      "text/plain": [
       "Empty DataFrame\n",
       "Columns: [segment_id]\n",
       "Index: []"
      ]
     },
     "execution_count": 33,
     "metadata": {},
     "output_type": "execute_result"
    }
   ],
   "source": [
    "sql = '''\n",
    "select distinct segment_id from congestion.network_links_22_2\n",
    "except\n",
    "select distinct segment_id from congestion.network_links_23_4\n",
    "    '''\n",
    "with con : \n",
    "    nodes = pandasql.read_sql(sql, connection_engine) \n",
    "nodes.head()  "
   ]
  },
  {
   "cell_type": "markdown",
   "id": "5af89288-9954-4c80-8548-586452381092",
   "metadata": {},
   "source": [
    "### Check to see if both returned the same number of segment_id\n",
    "Both have 6558 segments. "
   ]
  },
  {
   "cell_type": "code",
   "execution_count": 34,
   "id": "8ab90b8a-033b-4f6e-adcb-ec1b6424d7ac",
   "metadata": {},
   "outputs": [
    {
     "data": {
      "text/html": [
       "<div>\n",
       "<style scoped>\n",
       "    .dataframe tbody tr th:only-of-type {\n",
       "        vertical-align: middle;\n",
       "    }\n",
       "\n",
       "    .dataframe tbody tr th {\n",
       "        vertical-align: top;\n",
       "    }\n",
       "\n",
       "    .dataframe thead th {\n",
       "        text-align: right;\n",
       "    }\n",
       "</style>\n",
       "<table border=\"1\" class=\"dataframe\">\n",
       "  <thead>\n",
       "    <tr style=\"text-align: right;\">\n",
       "      <th></th>\n",
       "      <th>count</th>\n",
       "    </tr>\n",
       "  </thead>\n",
       "  <tbody>\n",
       "    <tr>\n",
       "      <th>0</th>\n",
       "      <td>6558</td>\n",
       "    </tr>\n",
       "  </tbody>\n",
       "</table>\n",
       "</div>"
      ],
      "text/plain": [
       "   count\n",
       "0   6558"
      ]
     },
     "execution_count": 34,
     "metadata": {},
     "output_type": "execute_result"
    }
   ],
   "source": [
    "sql = '''\n",
    "\n",
    "select count(distinct segment_id) from congestion.network_links_22_2\n",
    "    '''\n",
    "with con : \n",
    "    nodes = pandasql.read_sql(sql, connection_engine) \n",
    "nodes.head()  "
   ]
  },
  {
   "cell_type": "code",
   "execution_count": 35,
   "id": "f12b8c6b-c943-4303-98ab-9983cf4ade86",
   "metadata": {},
   "outputs": [
    {
     "data": {
      "text/html": [
       "<div>\n",
       "<style scoped>\n",
       "    .dataframe tbody tr th:only-of-type {\n",
       "        vertical-align: middle;\n",
       "    }\n",
       "\n",
       "    .dataframe tbody tr th {\n",
       "        vertical-align: top;\n",
       "    }\n",
       "\n",
       "    .dataframe thead th {\n",
       "        text-align: right;\n",
       "    }\n",
       "</style>\n",
       "<table border=\"1\" class=\"dataframe\">\n",
       "  <thead>\n",
       "    <tr style=\"text-align: right;\">\n",
       "      <th></th>\n",
       "      <th>count</th>\n",
       "    </tr>\n",
       "  </thead>\n",
       "  <tbody>\n",
       "    <tr>\n",
       "      <th>0</th>\n",
       "      <td>6558</td>\n",
       "    </tr>\n",
       "  </tbody>\n",
       "</table>\n",
       "</div>"
      ],
      "text/plain": [
       "   count\n",
       "0   6558"
      ]
     },
     "execution_count": 35,
     "metadata": {},
     "output_type": "execute_result"
    }
   ],
   "source": [
    "sql = '''\n",
    "select count(distinct segment_id) from congestion.network_links_23_4\n",
    "    '''\n",
    "with con : \n",
    "    nodes = pandasql.read_sql(sql, connection_engine) \n",
    "nodes.head()  "
   ]
  },
  {
   "cell_type": "markdown",
   "id": "1d847d40-ffb8-456c-af75-fc5a8307b85d",
   "metadata": {},
   "source": [
    "## Find if there are new traffic signals to add in \n",
    "25?!?!\n",
    "Check them out on QGIS and see if they are legit. \n",
    "Checked: They are mostly legit other than one that are at a midblock and seems like a peds crossing."
   ]
  },
  {
   "cell_type": "code",
   "execution_count": 36,
   "id": "cffbb940-1c66-4b64-995b-5bd9967d1ad2",
   "metadata": {},
   "outputs": [
    {
     "data": {
      "text/html": [
       "<div>\n",
       "<style scoped>\n",
       "    .dataframe tbody tr th:only-of-type {\n",
       "        vertical-align: middle;\n",
       "    }\n",
       "\n",
       "    .dataframe tbody tr th {\n",
       "        vertical-align: top;\n",
       "    }\n",
       "\n",
       "    .dataframe thead th {\n",
       "        text-align: right;\n",
       "    }\n",
       "</style>\n",
       "<table border=\"1\" class=\"dataframe\">\n",
       "  <thead>\n",
       "    <tr style=\"text-align: right;\">\n",
       "      <th></th>\n",
       "      <th>count</th>\n",
       "    </tr>\n",
       "  </thead>\n",
       "  <tbody>\n",
       "    <tr>\n",
       "      <th>0</th>\n",
       "      <td>25</td>\n",
       "    </tr>\n",
       "  </tbody>\n",
       "</table>\n",
       "</div>"
      ],
      "text/plain": [
       "   count\n",
       "0     25"
      ]
     },
     "execution_count": 36,
     "metadata": {},
     "output_type": "execute_result"
    }
   ],
   "source": [
    "sql = '''\n",
    "-- Find segments that needs to be updated due to new traffic signals\n",
    "with new_signal as (\n",
    "\tselect px, ST_Transform(ST_buffer(ST_Transform(geom, 2952), 50), 4326) as geom \n",
    "\tfrom gis.traffic_signal\n",
    "\tleft join congestion.network_int_px_22_2 a using (px)\n",
    "\twhere activationdate >= '2022-04-17' and a.px is null )\n",
    "\n",
    "select count(distinct px)\n",
    "from congestion.network_segments seg\n",
    "join new_signal on ST_intersects(new_signal.geom, seg.geom)\n",
    "    '''\n",
    "with con : \n",
    "    nodes = pandasql.read_sql(sql, connection_engine) \n",
    "nodes.head()  "
   ]
  },
  {
   "cell_type": "markdown",
   "id": "53e624fd-c8ca-46fb-9683-66fe599a0f75",
   "metadata": {},
   "source": [
    "## Find closest nodes for these new traffic signals "
   ]
  },
  {
   "cell_type": "markdown",
   "id": "87642398-ffb5-43f9-bab6-772a52e97107",
   "metadata": {},
   "source": [
    "Checked on QGIS, mostly look good in distance difference, except for one that has 40m difference (aka the one that is a ped cross). "
   ]
  },
  {
   "cell_type": "code",
   "execution_count": 22,
   "id": "56880b94-ad98-4b6c-be9a-a22ca2628a41",
   "metadata": {},
   "outputs": [],
   "source": [
    "'''\n",
    "-- Find segments that needs to be updated due to new traffic signals\n",
    "with new_signal as (\n",
    "\tselect px, ST_Transform(ST_buffer(ST_Transform(geom, 2952), 50), 4326) as bgeom, geom \n",
    "\tfrom gis.traffic_signal\n",
    "\tleft join congestion.network_int_px_22_2 a using (px)\n",
    "\twhere activationdate >= '2022-04-17' and a.px is null )\n",
    "\n",
    ", new_px AS (\n",
    "\tselect distinct px, new_signal.geom as px_geom\n",
    "\tfrom congestion.network_segments seg\n",
    "\tjoin new_signal on ST_intersects(new_signal.bgeom, seg.geom))\n",
    "\n",
    "-- Find new nodes for outdated nodes using nearest neighbour\n",
    "\t\t\t\n",
    "select \tnode_id, px, geom, px_geom, dist\n",
    "from \there.routing_nodes_23_4\n",
    "CROSS JOIN LATERAL (SELECT z.px,\n",
    "\t\t\t\t\t\t\tpx_geom, \n",
    "\t\t\t\t\t\t\t(ST_transform(geom, 2952) <-> ST_Transform(z.px_geom, 2952)) as dist\t\n",
    "\t\t\t\t\tFROM new_px z\n",
    "\t\t\t\t\tORDER BY (geom <-> z.px_geom)\n",
    "\t\t\t\t\tLIMIT 1) nodes;\n",
    "''';"
   ]
  },
  {
   "cell_type": "markdown",
   "id": "fc72abff-433e-4559-8400-36308672499e",
   "metadata": {},
   "source": [
    "## Route segments that was affected by new traffic signal"
   ]
  },
  {
   "cell_type": "markdown",
   "id": "e052c967-df05-4e97-8d95-82a8aa42c1e9",
   "metadata": {},
   "source": [
    "This query gathers all new nodes (find by nearest neighbour with traffic signal), as well as the start and end nodes of those affected segments (segments where new traffic signal lies). This creates a new table so its easier to QC on QGIS and make modifications."
   ]
  },
  {
   "cell_type": "code",
   "execution_count": null,
   "id": "436ac87a-7d58-4c73-b415-d5e92a2a3f78",
   "metadata": {},
   "outputs": [],
   "source": [
    "'''\n",
    "CREATE TABLE congestion.network_segments_link_temp AS \n",
    "-- Find segments that needs to be updated due to new traffic signals\n",
    "with new_signal as (\n",
    "\tselect px, ST_Transform(ST_buffer(ST_Transform(geom, 2952), 50), 4326) as bgeom, geom as px_geom\n",
    "\tfrom gis.traffic_signal\n",
    "\tleft join congestion.network_int_px_22_2 a using (px)\n",
    "\twhere activationdate >= '2022-04-17' and a.px is null )\n",
    "-- px that are new\n",
    ", new_px AS (\n",
    "\tselect distinct px, px_geom\n",
    "\tfrom congestion.network_segments seg\n",
    "\tjoin new_signal on ST_intersects(new_signal.bgeom, seg.geom))\n",
    "-- segments affected by new signals\n",
    ", affected_segment AS (\n",
    "\tselect distinct start_vid, end_vid, segment_id\n",
    "\tfrom congestion.network_segments seg\n",
    "\tjoin new_signal on ST_intersects(new_signal.bgeom, seg.geom))\n",
    "-- nodes that are closest to new traffic signal\n",
    ", new_nodes AS (\n",
    "\tselect \tnode_id::int as node_id\n",
    "\tfrom \t new_px\n",
    "\tCROSS JOIN LATERAL (SELECT node_id,\n",
    "\t\t\t\t\t\t\t\tgeom, \n",
    "\t\t\t\t\t\t\t\t(ST_transform(geom, 2952) <-> ST_Transform(px_geom, 2952)) as dist\t\n",
    "\t\t\t\t\t\tFROM here.routing_nodes_23_4\n",
    "\t\t\t\t\t\tORDER BY (geom <-> px_geom)\n",
    "\t\t\t\t\t\tLIMIT 1) nodes)\n",
    "-- nodes for re-routing\n",
    ", nodes AS (\n",
    "\tSELECT array_agg(node_id::int) as nodes_to_route \n",
    "\t-- aggregate them into one array for many-to-many routing\n",
    "\tFROM\t(select start_vid as node_id --start vid of retired segments\n",
    "\t\t\t FROM affected_segment \n",
    "\t\t\t union \n",
    "\t\t\t select end_vid as node_id--end vid of retired segments\n",
    "\t\t\t FROM affected_segment \n",
    "\t\t\t union\n",
    "\t\t\t select distinct node_id \n",
    "\t\t\t FROM  new_nodes )a)\n",
    "\t\t\t\n",
    ", results AS(\n",
    "\tSELECT results.*, link_dir, routing_grid.geom\n",
    "\tFROM nodes\n",
    "\t, LATERAL pgr_dijkstra('SELECT id, source::int, target::int, st_length(st_transform(geom, 2952)) as cost \n",
    "\t\t\t\t\t\t   FROM here.routing_streets_23_4',\n",
    "\t\t\t\tnodes_to_route, nodes_to_route) results\n",
    "\tINNER JOIN here.routing_streets_23_4 routing_grid ON id = edge)\t\n",
    ", cleaned_results AS (\n",
    "\tSELECT 7113+row_number() over () as segment_id, \n",
    "\t\t\t\tstart_vid, \n",
    "\t\t\t\tend_vid, \n",
    "\t\t\t\tarray_agg(link_dir order by path_seq) as link_set, \n",
    "\t\t\t\tst_linemerge(st_union(s.geom)) as geom, \n",
    "\t\t\t\tsum(cost) as length\n",
    "\n",
    "\tFROM results s\n",
    "\tLEFT OUTER JOIN congestion.network_nodes_23 ON node = node_id AND node != start_vid\n",
    "\n",
    "\tGROUP BY start_vid, end_vid\n",
    "\tHAVING COUNT(node_id) = 0 -- exclude routed results that went pass any other node_ids and short links\n",
    "\torder by start_vid, end_vid\t)\n",
    "select \tsegment_id, \n",
    "\t\tstart_vid, \n",
    "\t\tend_vid,\n",
    "\t\tlink_dir, \n",
    "\t\tgeom, \n",
    "\t\tround(ST_length(st_transform(geom, 2952))::numeric,2) as length\n",
    "from (select segment_id, start_vid, end_vid, unnest(link_set) as link_dir\n",
    "\t  from cleaned_results) a\n",
    "inner join here.routing_streets_23_4 using (link_dir)\n",
    "order by segment_id;\t\n",
    "\t\n",
    "\n",
    "'''"
   ]
  }
 ],
 "metadata": {
  "kernelspec": {
   "display_name": "Python 3 (ipykernel)",
   "language": "python",
   "name": "python3"
  },
  "language_info": {
   "codemirror_mode": {
    "name": "ipython",
    "version": 3
   },
   "file_extension": ".py",
   "mimetype": "text/x-python",
   "name": "python",
   "nbconvert_exporter": "python",
   "pygments_lexer": "ipython3",
   "version": "3.10.12"
  }
 },
 "nbformat": 4,
 "nbformat_minor": 5
}
