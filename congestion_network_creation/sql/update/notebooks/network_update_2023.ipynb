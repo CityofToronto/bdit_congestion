{
 "cells": [
  {
   "cell_type": "markdown",
   "id": "815e7670-4f4f-4446-a5e2-6b45cfb0c8a6",
   "metadata": {},
   "source": [
    "# Network Update 2023"
   ]
  },
  {
   "cell_type": "markdown",
   "id": "5d87e796-8326-4aac-9347-8eba10dbdc2a",
   "metadata": {},
   "source": [
    "## Whats new? "
   ]
  },
  {
   "cell_type": "markdown",
   "id": "4658f15d-8bed-4db0-bcd6-540184386d6d",
   "metadata": {},
   "source": [
    "Its that time of the year again, lets see how many things needs to be changed this time."
   ]
  },
  {
   "cell_type": "code",
   "execution_count": 2,
   "id": "f1dd2780-7db9-4b97-a434-43bcd793b425",
   "metadata": {},
   "outputs": [],
   "source": [
    "from psycopg2 import connect\n",
    "from psycopg2 import sql\n",
    "from psycopg2.extras import execute_values\n",
    "from pathlib import Path\n",
    "import pandas as pd\n",
    "import pandas.io.sql as pandasql\n",
    "import configparser\n",
    "import matplotlib.pyplot as plt\n",
    "from sqlalchemy import create_engine\n",
    "from sqlalchemy.engine import URL\n",
    "CONFIG = configparser.ConfigParser()\n",
    "CONFIG.read(str(Path.home().joinpath('db.cfg')))\n",
    "dbset = CONFIG['DBSETTINGS']\n",
    "con = connect(**dbset)\n",
    "connection_engine = create_engine(\n",
    "    URL.create(\n",
    "        drivername = \"postgresql\",\n",
    "        host = CONFIG['DBSETTINGS']['host'],\n",
    "        database = CONFIG['DBSETTINGS']['database'],\n",
    "        username = CONFIG['DBSETTINGS']['user'],\n",
    "        password = CONFIG['DBSETTINGS']['password']))\n",
    "cur = connection_engine.raw_connection().cursor()"
   ]
  },
  {
   "cell_type": "markdown",
   "id": "a9c6a78c-8259-4f07-b5f6-c4a8fd359024",
   "metadata": {},
   "source": [
    "### Number of nodes that needs to be updated\n",
    "only two!"
   ]
  },
  {
   "cell_type": "code",
   "execution_count": 29,
   "id": "7c8e21b6-3571-49dd-a3e8-67fa18f045e1",
   "metadata": {},
   "outputs": [
    {
     "name": "stdout",
     "output_type": "stream",
     "text": [
      "      node_id\n",
      "0  30420390.0\n",
      "1  30420392.0\n"
     ]
    }
   ],
   "source": [
    "sql = '''\n",
    "select node_id from congestion.network_nodes\n",
    "except \n",
    "select node_id from here.routing_nodes_23_4 \n",
    "    '''\n",
    "with con : \n",
    "    nodes = pandasql.read_sql(sql, connection_engine) \n",
    "print(nodes)   "
   ]
  },
  {
   "cell_type": "markdown",
   "id": "fe95512e-cdaf-4817-9678-4f568a8da4e3",
   "metadata": {},
   "source": [
    "### Number of links that needs to be updated\n",
    "2990 links needs to be retired omg"
   ]
  },
  {
   "cell_type": "code",
   "execution_count": 30,
   "id": "0f5c398d-1174-47f7-a3f4-41f4cb297994",
   "metadata": {},
   "outputs": [
    {
     "name": "stdout",
     "output_type": "stream",
     "text": [
      "         link_dir\n",
      "0     1207662665F\n",
      "1     1258933853T\n",
      "2     1000005503T\n",
      "3      995198819F\n",
      "4       29568114T\n",
      "...           ...\n",
      "2985   949289551T\n",
      "2986  1258735603F\n",
      "2987  1258732905T\n",
      "2988   993964936T\n",
      "2989  1258776870T\n",
      "\n",
      "[2990 rows x 1 columns]\n"
     ]
    }
   ],
   "source": [
    "sql = '''\n",
    "select link_dir from congestion.network_links_22_2\n",
    "except \n",
    "select link_dir from here.routing_streets_23_4 \n",
    "    '''\n",
    "with con : \n",
    "    nodes = pandasql.read_sql(sql, connection_engine) \n",
    "print(nodes)   "
   ]
  },
  {
   "cell_type": "markdown",
   "id": "13711da5-e930-486f-927e-4e3cb71e9afa",
   "metadata": {},
   "source": [
    "### Number of segments that needs to be updated\n",
    "1812 segment_ids needs be to retired and route............"
   ]
  },
  {
   "cell_type": "code",
   "execution_count": 31,
   "id": "516b77a5-aa05-43d5-bae2-6223f269d735",
   "metadata": {},
   "outputs": [
    {
     "name": "stdout",
     "output_type": "stream",
     "text": [
      "      segment_id\n",
      "0           6062\n",
      "1           2335\n",
      "2            652\n",
      "3           5856\n",
      "4           1560\n",
      "...          ...\n",
      "1807        2359\n",
      "1808        3795\n",
      "1809        1715\n",
      "1810        3697\n",
      "1811        4035\n",
      "\n",
      "[1812 rows x 1 columns]\n"
     ]
    }
   ],
   "source": [
    "sql = '''\n",
    "with changed_links AS (\n",
    "\tselect link_dir from congestion.network_links_22_2\n",
    "\texcept \n",
    "\tselect link_dir from here.routing_streets_23_4)\n",
    "\t\n",
    "select distinct segment_id from  congestion.network_links_22_2 \n",
    "inner join changed_links using (link_dir)\n",
    "    '''\n",
    "with con : \n",
    "    nodes = pandasql.read_sql(sql, connection_engine) \n",
    "print(nodes)   "
   ]
  },
  {
   "cell_type": "markdown",
   "id": "1ef1286c-db4a-4ede-88a0-0478db16ff56",
   "metadata": {},
   "source": [
    "### Number of new and retired traffic signals\n",
    "Quite a bunch of new traffic signals. We can deal with this after we recreated the network. "
   ]
  },
  {
   "cell_type": "code",
   "execution_count": 32,
   "id": "917b83c2-5818-494b-bb2d-c4c1f5d5c201",
   "metadata": {},
   "outputs": [
    {
     "data": {
      "text/html": [
       "<div>\n",
       "<style scoped>\n",
       "    .dataframe tbody tr th:only-of-type {\n",
       "        vertical-align: middle;\n",
       "    }\n",
       "\n",
       "    .dataframe tbody tr th {\n",
       "        vertical-align: top;\n",
       "    }\n",
       "\n",
       "    .dataframe thead th {\n",
       "        text-align: right;\n",
       "    }\n",
       "</style>\n",
       "<table border=\"1\" class=\"dataframe\">\n",
       "  <thead>\n",
       "    <tr style=\"text-align: right;\">\n",
       "      <th></th>\n",
       "      <th>count</th>\n",
       "    </tr>\n",
       "  </thead>\n",
       "  <tbody>\n",
       "    <tr>\n",
       "      <th>0</th>\n",
       "      <td>43</td>\n",
       "    </tr>\n",
       "  </tbody>\n",
       "</table>\n",
       "</div>"
      ],
      "text/plain": [
       "   count\n",
       "0     43"
      ]
     },
     "execution_count": 32,
     "metadata": {},
     "output_type": "execute_result"
    }
   ],
   "source": [
    "sql = '''\n",
    "select count(1) from gis.traffic_signal\n",
    "where activationdate  >= '2022-01-01'\n",
    "    '''\n",
    "with con : \n",
    "    nodes = pandasql.read_sql(sql, connection_engine) \n",
    "nodes.head()   "
   ]
  },
  {
   "cell_type": "markdown",
   "id": "790c9517-081a-41de-884b-e7dc36160588",
   "metadata": {},
   "source": [
    "# Updating the links"
   ]
  },
  {
   "cell_type": "markdown",
   "id": "851d5aa0-4569-4c59-8723-9b76a10fe5a2",
   "metadata": {},
   "source": [
    "Create new network_links_23_4 table with newly routed segments for ones that contains outdated links"
   ]
  },
  {
   "cell_type": "code",
   "execution_count": null,
   "id": "31656f70-1cc9-43a9-bbca-beb73b81e22a",
   "metadata": {},
   "outputs": [],
   "source": [
    "'''\n",
    "-- Create new links table except the segment_ids that are outdated\n",
    "\n",
    "CREATE TABLE congestion.network_links_23_4 AS \n",
    "-- retired links\n",
    "with changed_links AS (\n",
    "\tselect link_dir from congestion.network_links_22_2\n",
    "\texcept \n",
    "\tselect link_dir from here.routing_streets_23_4)\n",
    "-- retired segments\t\n",
    ", changed_seg AS (\n",
    "\tselect distinct segment_id, start_vid, end_vid \n",
    "\tfrom  congestion.network_links_22_2\n",
    "\tinner join changed_links using (link_dir))\n",
    "-- everything in network_links other than the retired segments\n",
    "select      network_links_22_2.* \n",
    "from \t\tcongestion.network_links_22_2\n",
    "left join \tchanged_seg using (segment_id)\n",
    "where \t\tchanged_seg is null ;\n",
    "\n",
    "'''\n",
    "'''\n",
    "-- Insert routed results using new map version (23_4) for retired segments\n",
    "\n",
    "with changed_links AS (\n",
    "\tselect link_dir from congestion.network_links_22_2\n",
    "\texcept \n",
    "\tselect link_dir from here.routing_streets_23_4)\t\n",
    ", changed_seg AS (\n",
    "\tselect distinct segment_id, start_vid, end_vid \n",
    "\tfrom  congestion.network_links_22_2 \n",
    "\tinner join changed_links using (link_dir))\n",
    " \n",
    " -- insert result to newly created network_links table\n",
    "INSERT INTO congestion.network_links_23_4\n",
    "SELECT segment_id, start_vid, end_vid, link_dir, routing.geom, round(st_length(st_transform(geom, 2952))::numeric, 2) as length\n",
    "FROM   changed_seg\n",
    "CROSS JOIN LATERAL pgr_dijkstra('SELECT id, source::int, target::int, st_length(st_transform(geom, 2952)) as cost \n",
    "\t\t\t\t \t   \t\t\tFROM here.routing_streets_23_4',  -- route using new map version's routing_streets\n",
    "\t\t\t\t\t\t\t\tstart_vid, \n",
    "\t\t\t\t\t\t\t\tend_vid)\n",
    "INNER JOIN here.routing_streets_23_4 routing ON id = edge;\n",
    "''';"
   ]
  },
  {
   "cell_type": "markdown",
   "id": "76fb8428-d9b9-45a1-b952-a0d4f71cba1c",
   "metadata": {},
   "source": [
    "### Check to see if all segments are inserted \n",
    "Returns nothing! "
   ]
  },
  {
   "cell_type": "code",
   "execution_count": 33,
   "id": "c44fe434-30d5-4715-8705-99a5cccdf349",
   "metadata": {},
   "outputs": [
    {
     "data": {
      "text/html": [
       "<div>\n",
       "<style scoped>\n",
       "    .dataframe tbody tr th:only-of-type {\n",
       "        vertical-align: middle;\n",
       "    }\n",
       "\n",
       "    .dataframe tbody tr th {\n",
       "        vertical-align: top;\n",
       "    }\n",
       "\n",
       "    .dataframe thead th {\n",
       "        text-align: right;\n",
       "    }\n",
       "</style>\n",
       "<table border=\"1\" class=\"dataframe\">\n",
       "  <thead>\n",
       "    <tr style=\"text-align: right;\">\n",
       "      <th></th>\n",
       "      <th>segment_id</th>\n",
       "    </tr>\n",
       "  </thead>\n",
       "  <tbody>\n",
       "  </tbody>\n",
       "</table>\n",
       "</div>"
      ],
      "text/plain": [
       "Empty DataFrame\n",
       "Columns: [segment_id]\n",
       "Index: []"
      ]
     },
     "execution_count": 33,
     "metadata": {},
     "output_type": "execute_result"
    }
   ],
   "source": [
    "sql = '''\n",
    "select distinct segment_id from congestion.network_links_22_2\n",
    "except\n",
    "select distinct segment_id from congestion.network_links_23_4\n",
    "    '''\n",
    "with con : \n",
    "    nodes = pandasql.read_sql(sql, connection_engine) \n",
    "nodes.head()  "
   ]
  },
  {
   "cell_type": "markdown",
   "id": "5af89288-9954-4c80-8548-586452381092",
   "metadata": {},
   "source": [
    "### Check to see if both returned the same number of segment_id\n",
    "Both have 6558 segments. "
   ]
  },
  {
   "cell_type": "code",
   "execution_count": 34,
   "id": "8ab90b8a-033b-4f6e-adcb-ec1b6424d7ac",
   "metadata": {},
   "outputs": [
    {
     "data": {
      "text/html": [
       "<div>\n",
       "<style scoped>\n",
       "    .dataframe tbody tr th:only-of-type {\n",
       "        vertical-align: middle;\n",
       "    }\n",
       "\n",
       "    .dataframe tbody tr th {\n",
       "        vertical-align: top;\n",
       "    }\n",
       "\n",
       "    .dataframe thead th {\n",
       "        text-align: right;\n",
       "    }\n",
       "</style>\n",
       "<table border=\"1\" class=\"dataframe\">\n",
       "  <thead>\n",
       "    <tr style=\"text-align: right;\">\n",
       "      <th></th>\n",
       "      <th>count</th>\n",
       "    </tr>\n",
       "  </thead>\n",
       "  <tbody>\n",
       "    <tr>\n",
       "      <th>0</th>\n",
       "      <td>6558</td>\n",
       "    </tr>\n",
       "  </tbody>\n",
       "</table>\n",
       "</div>"
      ],
      "text/plain": [
       "   count\n",
       "0   6558"
      ]
     },
     "execution_count": 34,
     "metadata": {},
     "output_type": "execute_result"
    }
   ],
   "source": [
    "sql = '''\n",
    "\n",
    "select count(distinct segment_id) from congestion.network_links_22_2\n",
    "    '''\n",
    "with con : \n",
    "    nodes = pandasql.read_sql(sql, connection_engine) \n",
    "nodes.head()  "
   ]
  },
  {
   "cell_type": "code",
   "execution_count": 35,
   "id": "f12b8c6b-c943-4303-98ab-9983cf4ade86",
   "metadata": {},
   "outputs": [
    {
     "data": {
      "text/html": [
       "<div>\n",
       "<style scoped>\n",
       "    .dataframe tbody tr th:only-of-type {\n",
       "        vertical-align: middle;\n",
       "    }\n",
       "\n",
       "    .dataframe tbody tr th {\n",
       "        vertical-align: top;\n",
       "    }\n",
       "\n",
       "    .dataframe thead th {\n",
       "        text-align: right;\n",
       "    }\n",
       "</style>\n",
       "<table border=\"1\" class=\"dataframe\">\n",
       "  <thead>\n",
       "    <tr style=\"text-align: right;\">\n",
       "      <th></th>\n",
       "      <th>count</th>\n",
       "    </tr>\n",
       "  </thead>\n",
       "  <tbody>\n",
       "    <tr>\n",
       "      <th>0</th>\n",
       "      <td>6558</td>\n",
       "    </tr>\n",
       "  </tbody>\n",
       "</table>\n",
       "</div>"
      ],
      "text/plain": [
       "   count\n",
       "0   6558"
      ]
     },
     "execution_count": 35,
     "metadata": {},
     "output_type": "execute_result"
    }
   ],
   "source": [
    "sql = '''\n",
    "select count(distinct segment_id) from congestion.network_links_23_4\n",
    "    '''\n",
    "with con : \n",
    "    nodes = pandasql.read_sql(sql, connection_engine) \n",
    "nodes.head()  "
   ]
  },
  {
   "cell_type": "markdown",
   "id": "1d847d40-ffb8-456c-af75-fc5a8307b85d",
   "metadata": {},
   "source": [
    "## Find if there are new traffic signals to add in \n",
    "25?!?!\n",
    "Check them out on QGIS and see if they are legit. \n",
    "Checked: They are mostly legit other than one that are at a midblock and seems like a peds crossing."
   ]
  },
  {
   "cell_type": "code",
   "execution_count": 36,
   "id": "cffbb940-1c66-4b64-995b-5bd9967d1ad2",
   "metadata": {},
   "outputs": [
    {
     "data": {
      "text/html": [
       "<div>\n",
       "<style scoped>\n",
       "    .dataframe tbody tr th:only-of-type {\n",
       "        vertical-align: middle;\n",
       "    }\n",
       "\n",
       "    .dataframe tbody tr th {\n",
       "        vertical-align: top;\n",
       "    }\n",
       "\n",
       "    .dataframe thead th {\n",
       "        text-align: right;\n",
       "    }\n",
       "</style>\n",
       "<table border=\"1\" class=\"dataframe\">\n",
       "  <thead>\n",
       "    <tr style=\"text-align: right;\">\n",
       "      <th></th>\n",
       "      <th>count</th>\n",
       "    </tr>\n",
       "  </thead>\n",
       "  <tbody>\n",
       "    <tr>\n",
       "      <th>0</th>\n",
       "      <td>25</td>\n",
       "    </tr>\n",
       "  </tbody>\n",
       "</table>\n",
       "</div>"
      ],
      "text/plain": [
       "   count\n",
       "0     25"
      ]
     },
     "execution_count": 36,
     "metadata": {},
     "output_type": "execute_result"
    }
   ],
   "source": [
    "sql = '''\n",
    "-- Find segments that needs to be updated due to new traffic signals\n",
    "with new_signal as (\n",
    "\tselect px, ST_Transform(ST_buffer(ST_Transform(geom, 2952), 50), 4326) as geom \n",
    "\tfrom gis.traffic_signal\n",
    "\tleft join congestion.network_int_px_22_2 a using (px)\n",
    "\twhere activationdate >= '2022-04-17' and a.px is null )\n",
    "\n",
    "select count(distinct px)\n",
    "from congestion.network_segments seg\n",
    "join new_signal on ST_intersects(new_signal.geom, seg.geom)\n",
    "    '''\n",
    "with con : \n",
    "    nodes = pandasql.read_sql(sql, connection_engine) \n",
    "nodes.head()  "
   ]
  },
  {
   "cell_type": "markdown",
   "id": "53e624fd-c8ca-46fb-9683-66fe599a0f75",
   "metadata": {},
   "source": [
    "## Find closest nodes for these new traffic signals "
   ]
  },
  {
   "cell_type": "markdown",
   "id": "87642398-ffb5-43f9-bab6-772a52e97107",
   "metadata": {},
   "source": [
    "Checked on QGIS, mostly look good in distance difference, except for one that has 40m difference (aka the one that is a ped cross). "
   ]
  },
  {
   "cell_type": "code",
   "execution_count": 22,
   "id": "56880b94-ad98-4b6c-be9a-a22ca2628a41",
   "metadata": {},
   "outputs": [],
   "source": [
    "'''\n",
    "-- Find segments that needs to be updated due to new traffic signals\n",
    "with new_signal as (\n",
    "\tselect px, ST_Transform(ST_buffer(ST_Transform(geom, 2952), 50), 4326) as bgeom, geom \n",
    "\tfrom gis.traffic_signal\n",
    "\tleft join congestion.network_int_px_22_2 a using (px)\n",
    "\twhere activationdate >= '2022-04-17' and a.px is null )\n",
    "\n",
    ", new_px AS (\n",
    "\tselect distinct px, new_signal.geom as px_geom\n",
    "\tfrom congestion.network_segments seg\n",
    "\tjoin new_signal on ST_intersects(new_signal.bgeom, seg.geom))\n",
    "\n",
    "-- Find new nodes for outdated nodes using nearest neighbour\n",
    "\t\t\t\n",
    "select \tnode_id, px, geom, px_geom, dist\n",
    "from \there.routing_nodes_23_4\n",
    "CROSS JOIN LATERAL (SELECT z.px,\n",
    "\t\t\t\t\t\t\tpx_geom, \n",
    "\t\t\t\t\t\t\t(ST_transform(geom, 2952) <-> ST_Transform(z.px_geom, 2952)) as dist\t\n",
    "\t\t\t\t\tFROM new_px z\n",
    "\t\t\t\t\tORDER BY (geom <-> z.px_geom)\n",
    "\t\t\t\t\tLIMIT 1) nodes;\n",
    "''';"
   ]
  },
  {
   "cell_type": "markdown",
   "id": "1916ef27-4688-4be4-b66d-2d3a820a1ada",
   "metadata": {},
   "source": [
    "### Exclude traffic signals that should not be included"
   ]
  },
  {
   "cell_type": "markdown",
   "id": "94c5deba-2f11-49ee-bf4d-dd3c49806c08",
   "metadata": {},
   "source": [
    "px 2617 - too far away, nearest node is 40m away\n",
    "\n",
    "px 2650 - its on a ramp, not a part of network segments"
   ]
  },
  {
   "cell_type": "markdown",
   "id": "fc72abff-433e-4559-8400-36308672499e",
   "metadata": {},
   "source": [
    "## Route segments that was affected by new traffic signal"
   ]
  },
  {
   "cell_type": "markdown",
   "id": "e052c967-df05-4e97-8d95-82a8aa42c1e9",
   "metadata": {},
   "source": [
    "This query gathers all new nodes (find by nearest neighbour with traffic signal), as well as the start and end nodes of those affected segments (segments where new traffic signal lies). This creates a new table so its easier to QC on QGIS and make modifications."
   ]
  },
  {
   "cell_type": "markdown",
   "id": "5138fa6e-7dca-4491-80b2-21550de09e8f",
   "metadata": {},
   "source": [
    "```sql\n",
    "--drop table \n",
    "CREATE TABLE congestion.network_segments_link_temp AS \n",
    "-- Find segments that needs to be updated due to new traffic signals\n",
    "with new_signal as (\n",
    "\tselect px, ST_Transform(ST_buffer(ST_Transform(geom, 2952), 50), 4326) as bgeom, geom as px_geom\n",
    "\tfrom gis.traffic_signal\n",
    "\tleft join congestion.network_int_px_22_2 a using (px) -- where they are not already in old version\n",
    "\twhere activationdate >= '2022-04-17' and a.px is null \t\n",
    "        and px != '2617' -- too far away\n",
    "    \tand px != '2650') -- a ramp\n",
    "-- px that are new\n",
    ", new_px AS (\n",
    "\tselect distinct px, px_geom\n",
    "\tfrom congestion.network_segments seg\n",
    "\tjoin new_signal on ST_intersects(new_signal.bgeom, seg.geom))\n",
    "-- segments affected by new signals\n",
    ", affected_segment AS (\n",
    "\tselect distinct start_vid, end_vid, segment_id\n",
    "\tfrom congestion.network_segments seg\n",
    "\tjoin new_signal on ST_intersects(new_signal.bgeom, seg.geom))\n",
    ", affected_links AS (\n",
    "\tselect link_dir \n",
    "\tfrom affected_segment\n",
    "\tinner join congestion.network_links_23_4 USING (segment_id)\n",
    ")\n",
    "-- nodes that are closest to new traffic signal\n",
    ", new_nodes AS (\n",
    "\tselect \tnode_id::int as node_id\n",
    "\tfrom \t new_px\n",
    "\tCROSS JOIN LATERAL (SELECT node_id,\n",
    "\t\t\t\t\t\t\t\tgeom, \n",
    "\t\t\t\t\t\t\t\t(ST_transform(geom, 2952) <-> ST_Transform(px_geom, 2952)) as dist\t\n",
    "\t\t\t\t\t\tFROM here.routing_nodes_23_4\n",
    "\t\t\t\t\t\tORDER BY (geom <-> px_geom)\n",
    "\t\t\t\t\t\tLIMIT 1) nodes)\n",
    "-- nodes for re-routing\n",
    ", nodes AS (\n",
    "\tSELECT array_agg(node_id::int) as nodes_to_route \n",
    "\t-- aggregate them into one array for many-to-many routing\n",
    "\tFROM\t(select node_id \n",
    "\t\t\t FROM here.routing_nodes_23_4\n",
    "\t\t\t where node_id in (30451170,852108714,30584642)\n",
    "\t\t\t union \n",
    "\t\t\t select start_vid as node_id --start vid of retired segments\n",
    "\t\t\t FROM affected_segment \n",
    "\t\t\t union \n",
    "\t\t\t select end_vid as node_id--end vid of retired segments\n",
    "\t\t\t FROM affected_segment \n",
    "\t\t\t union\n",
    "\t\t\t select distinct node_id \n",
    "\t\t\t FROM  new_nodes  \n",
    "\t\t\t )a)\n",
    "\t\t\t\n",
    ", results AS(\n",
    "\tSELECT results.*, link_dir, routing_grid.geom\n",
    "\tFROM nodes\n",
    "\t, LATERAL pgr_dijkstra('SELECT id, source::int, target::int, st_length(st_transform(geom, 2952)) as cost \n",
    "\t\t\t\t\t\t   FROM here.routing_streets_23_4',\n",
    "\t\t\t\tnodes_to_route, nodes_to_route) results\n",
    "\tINNER JOIN here.routing_streets_23_4 routing_grid ON id = edge)\t\n",
    ", cleaned_results AS (\n",
    "\tSELECT 7113+row_number() over () as segment_id, \n",
    "\t\t\t\tstart_vid, \n",
    "\t\t\t\tend_vid, \n",
    "\t\t\t\tarray_agg(link_dir order by path_seq) as link_set, \n",
    "\t\t\t\tst_linemerge(st_union(s.geom)) as geom, \n",
    "\t\t\t\tsum(cost) as length\n",
    "\n",
    "\tFROM results s\n",
    "\tLEFT OUTER JOIN (SELECT node_id FROM congestion.network_nodes_23\n",
    "\t\t\t\t\t UNION \n",
    "\t\t\t\t\t SELECT unnest(nodes_to_route) FROM  nodes) network_nodes_23\n",
    "\t\t\t\t\t ON node = node_id AND node != start_vid\n",
    "\tGROUP BY start_vid, end_vid\n",
    "\tHAVING COUNT(node_id) = 0 -- exclude routed results that went any nodes \n",
    "\torder by start_vid, end_vid\t)\n",
    ", cleaned_links AS (\n",
    "\tselect \t\n",
    "\t\tsegment_id, \n",
    "\t\tstart_vid, \n",
    "\t\tend_vid,\n",
    "\t\tlink_dir, \n",
    "\t\tgeom, \n",
    "\t\tround(ST_length(st_transform(geom, 2952))::numeric,2) as length,\n",
    "\t\tcase when affected.link_dir is null then 'F' else 'T' end as used \n",
    "\tfrom (select segment_id, start_vid, end_vid, unnest(link_set) as link_dir\n",
    "\t\t  from cleaned_results) a\n",
    "\tinner join here.routing_streets_23_4 using (link_dir)\n",
    "\tleft join affected_links affected using (link_dir)\n",
    "\torder by segment_id)\n",
    "\t\n",
    "select segment_id, start_vid, end_vid, ST_linemerge(ST_union(geom)) , sum(length), false, gis.direction_from_line(ST_linemerge(ST_union(geom))) as dir\n",
    "from  cleaned_links\n",
    "group by segment_id, start_vid, end_vid\n",
    "having 'F' != ALL(array_agg(used));\n",
    "```"
   ]
  },
  {
   "cell_type": "markdown",
   "id": "b32429cc-54d0-42d6-8be4-5dbe9b78078d",
   "metadata": {},
   "source": [
    "### Make new links after QC into a temp table"
   ]
  },
  {
   "cell_type": "code",
   "execution_count": null,
   "id": "11e35eb7-4547-4f4e-8d6b-bcd331bb73e4",
   "metadata": {},
   "outputs": [],
   "source": [
    "'''\n",
    "insert into congestion.network_links_23_4\n",
    "-- Find segments that needs to be updated due to new traffic signals\n",
    "with new_signal as (\n",
    "\tselect px, ST_Transform(ST_buffer(ST_Transform(geom, 2952), 50), 4326) as bgeom, geom as px_geom\n",
    "\tfrom gis.traffic_signal\n",
    "\tleft join congestion.network_int_px_22_2 a using (px) -- where they are not already in old version\n",
    "\twhere activationdate >= '2022-04-17' and a.px is null \t\n",
    "        and px != '2617' -- too far away\n",
    "    \tand px != '2650') -- a ramp\n",
    "-- px that are new\n",
    ", new_px AS (\n",
    "\tselect distinct px, px_geom\n",
    "\tfrom congestion.network_segments seg\n",
    "\tjoin new_signal on ST_intersects(new_signal.bgeom, seg.geom))\n",
    "-- segments affected by new signals\n",
    ", affected_segment AS (\n",
    "\tselect distinct start_vid, end_vid, segment_id\n",
    "\tfrom congestion.network_segments seg\n",
    "\tjoin new_signal on ST_intersects(new_signal.bgeom, seg.geom))\n",
    ", affected_links AS (\n",
    "\tselect link_dir \n",
    "\tfrom affected_segment\n",
    "\tinner join congestion.network_links_23_4 USING (segment_id)\n",
    ")\n",
    "-- nodes that are closest to new traffic signal\n",
    ", new_nodes AS (\n",
    "\tselect \tnode_id::int as node_id\n",
    "\tfrom \t new_px\n",
    "\tCROSS JOIN LATERAL (SELECT node_id,\n",
    "\t\t\t\t\t\t\t\tgeom, \n",
    "\t\t\t\t\t\t\t\t(ST_transform(geom, 2952) <-> ST_Transform(px_geom, 2952)) as dist\t\n",
    "\t\t\t\t\t\tFROM here.routing_nodes_23_4\n",
    "\t\t\t\t\t\tORDER BY (geom <-> px_geom)\n",
    "\t\t\t\t\t\tLIMIT 1) nodes)\n",
    "-- nodes for re-routing\n",
    ", nodes AS (\n",
    "\tSELECT array_agg(node_id::int) as nodes_to_route \n",
    "\t-- aggregate them into one array for many-to-many routing\n",
    "\tFROM\t(select node_id \n",
    "\t\t\t FROM here.routing_nodes_23_4\n",
    "\t\t\t where node_id in (30451170,852108714,30584642)\n",
    "\t\t\t union \n",
    "\t\t\t select start_vid as node_id --start vid of retired segments\n",
    "\t\t\t FROM affected_segment \n",
    "\t\t\t union \n",
    "\t\t\t select end_vid as node_id--end vid of retired segments\n",
    "\t\t\t FROM affected_segment \n",
    "\t\t\t union\n",
    "\t\t\t select distinct node_id \n",
    "\t\t\t FROM  new_nodes  \n",
    "\t\t\t )a)\n",
    "\t\t\t\n",
    ", results AS(\n",
    "\tSELECT results.*, link_dir, routing_grid.geom\n",
    "\tFROM nodes\n",
    "\t, LATERAL pgr_dijkstra('SELECT id, source::int, target::int, st_length(st_transform(geom, 2952)) as cost \n",
    "\t\t\t\t\t\t   FROM here.routing_streets_23_4',\n",
    "\t\t\t\tnodes_to_route, nodes_to_route) results\n",
    "\tINNER JOIN here.routing_streets_23_4 routing_grid ON id = edge)\t\n",
    ", cleaned_results AS (\n",
    "\tSELECT row_number() over () as segment_id, \n",
    "\t\t\t\tstart_vid, \n",
    "\t\t\t\tend_vid, \n",
    "\t\t\t\tarray_agg(link_dir order by path_seq) as link_set, \n",
    "\t\t\t\tst_linemerge(st_union(s.geom)) as geom, \n",
    "\t\t\t\tsum(cost) as length\n",
    "\n",
    "\tFROM results s\n",
    "\tLEFT OUTER JOIN (SELECT node_id FROM congestion.network_nodes_23\n",
    "\t\t\t\t\t UNION \n",
    "\t\t\t\t\t SELECT unnest(nodes_to_route) FROM  nodes) network_nodes_23\n",
    "\t\t\t\t\t ON node = node_id AND node != start_vid\n",
    "\tGROUP BY start_vid, end_vid\n",
    "\tHAVING COUNT(node_id) = 0 -- exclude routed results that went any nodes \n",
    "\torder by start_vid, end_vid\t)\n",
    ", cleaned_links AS (\n",
    "\tselect \t\n",
    "\t\tsegment_id, \n",
    "\t\tstart_vid, \n",
    "\t\tend_vid,\n",
    "\t\tlink_dir, \n",
    "\t\tgeom, \n",
    "\t\tround(ST_length(st_transform(geom, 2952))::numeric,2) as length,\n",
    "\t\tcase when affected.link_dir is null then 'F' else 'T' end as used \n",
    "\tfrom (select segment_id, start_vid, end_vid, unnest(link_set) as link_dir\n",
    "\t\t  from cleaned_results) a\n",
    "\tinner join here.routing_streets_23_4 using (link_dir)\n",
    "\tleft join affected_links affected using (link_dir)\n",
    "\torder by segment_id)\n",
    "\t\n",
    ", new_seg AS (\n",
    "\tselect 7113+row_number() over() as segment_id, start_vid, end_vid, \n",
    "\tarray_agg(link_dir) as links, \n",
    "\tST_linemerge(ST_union(geom)), \n",
    "\tsum(length), \n",
    "\tfalse, \n",
    "\tgis.direction_from_line(ST_linemerge(ST_union(geom))) as dir\n",
    "from  cleaned_links\n",
    "group by segment_id, start_vid, end_vid\n",
    "having 'F' != ALL(array_agg(used)))\n",
    "\n",
    "select segment_id, start_vid, end_vid, link_dir, geom, length\n",
    "from (\n",
    "\tselect segment_id, start_vid, end_vid, unnest(links) as link_dir\n",
    "\tfrom new_seg)a\n",
    "inner join here.routing_streets_23_4 using (link_dir)\n",
    "order by segment_id\n",
    "'''"
   ]
  },
  {
   "cell_type": "markdown",
   "id": "3351b845-e8c2-4dc4-a303-a785a0923239",
   "metadata": {},
   "source": [
    "### Add them to new segment table"
   ]
  },
  {
   "cell_type": "code",
   "execution_count": null,
   "id": "3b506378-047f-4283-81c2-ba6084b7b549",
   "metadata": {},
   "outputs": [],
   "source": [
    "'''\n",
    "insert into  congestion.network_segments_23_4\n",
    "\n",
    "select segment_id, start_vid, end_vid, \n",
    "ST_linemerge(ST_union(geom)) , sum(length), \n",
    "false, gis.direction_from_line(ST_linemerge(ST_union(geom))) as dir\n",
    "from  congestion.network_links_23_4\n",
    "where segment_id > 7113\n",
    "group by segment_id, start_vid, end_vid;\n",
    "'''"
   ]
  },
  {
   "cell_type": "code",
   "execution_count": null,
   "id": "29fbc0cb-2271-4ae1-b808-61cc259de8de",
   "metadata": {},
   "outputs": [],
   "source": []
  },
  {
   "cell_type": "code",
   "execution_count": null,
   "id": "8b788c9d-483e-4040-a933-9a7cc9d66c9e",
   "metadata": {},
   "outputs": [],
   "source": [
    "'''insert into congestion.network_nodes_23 \n",
    "with temp as (\n",
    "select start_vid as node_id from congestion.network_links_23_4\n",
    "union \n",
    "select end_vid from congestion.network_links_23_4)\n",
    "select distinct node_id, (ST_dump(a.geom)).geom\n",
    "from congestion.network_nodes_23\n",
    "right join temp using (node_id)\n",
    "inner join here.routing_nodes_23_4 a using (node_id)\n",
    "where network_nodes_23.node_id is null\n",
    "'''\n"
   ]
  },
  {
   "cell_type": "code",
   "execution_count": null,
   "id": "ef776038-dafa-417f-bc78-2b51c63fa7b3",
   "metadata": {},
   "outputs": [],
   "source": [
    "'''\n",
    "insert into congestion.network_int_px_23_4\n",
    "with new_signal as (\n",
    "\tselect px, traffic_signal.node_id as int_id, ST_Transform(ST_buffer(ST_Transform(geom, 2952), 50), 4326) as bgeom, geom as px_geom\n",
    "\tfrom gis.traffic_signal\n",
    "\tleft join congestion.network_int_px_22_2 a using (px) -- where they are not already in old version\n",
    "\twhere activationdate >= '2022-04-17' and a.px is null \t\n",
    "        and px != '2617' -- too far away\n",
    "    \tand px != '2650') -- a ramp\n",
    "-- px that are new\n",
    ", new_px AS (\n",
    "\tselect distinct px, px_geom, int_id\n",
    "\tfrom congestion.network_segments seg\n",
    "\tjoin new_signal on ST_intersects(new_signal.bgeom, seg.geom))\n",
    "\n",
    "-- nodes that are closest to new traffic signal\n",
    ", new_nodes AS (\n",
    "\tselect \tnode_id::int as node_id, px, int_id\n",
    "\tfrom \t new_px\n",
    "\tCROSS JOIN LATERAL (SELECT node_id,\n",
    "\t\t\t\t\t\t\t\tgeom, \n",
    "\t\t\t\t\t\t\t\t(ST_transform(geom, 2952) <-> ST_Transform(px_geom, 2952)) as dist\t\n",
    "\t\t\t\t\t\tFROM here.routing_nodes_23_4\n",
    "\t\t\t\t\t\tORDER BY (geom <-> px_geom)\n",
    "\t\t\t\t\t\tLIMIT 1) nodes)\n",
    ", temp as (\n",
    "select start_vid as node_id from congestion.network_links_23_4\n",
    "union \n",
    "select end_vid from congestion.network_links_23_4)\n",
    "\n",
    ", missing_nodes AS (\n",
    "\tselect distinct node_id, (ST_dump(a.geom)).geom as node_geom\n",
    "\tfrom congestion.network_int_px_22_2\n",
    "\tright join temp using (node_id)\n",
    "\tinner join here.routing_nodes_23_4 a using (node_id)\n",
    "\twhere network_int_px_22_2.node_id is null)\n",
    "select node_id, case when int_id = 0 then null else int_id end as int_id, px, node_geom, int.geom as ints_geom, null as dist\n",
    "from missing_nodes\n",
    "left join new_nodes using (node_id)\n",
    "left join gis_core.centreline_intersection_point int on intersection_id = int_id\n",
    "'''"
   ]
  },
  {
   "cell_type": "markdown",
   "id": "68588e0f-5ec5-4ec6-bd8c-0f617cf48331",
   "metadata": {},
   "source": [
    "### Retire old segments"
   ]
  },
  {
   "cell_type": "code",
   "execution_count": null,
   "id": "b52af1d3-e075-4f55-8d4f-edb91174ec01",
   "metadata": {},
   "outputs": [],
   "source": [
    "'''\n",
    "insert into congestion.network_segments_retired\n",
    "with new_signal as (\n",
    "\tselect px, ST_Transform(ST_buffer(ST_Transform(geom, 2952), 50), 4326) as geom \n",
    "\tfrom gis.traffic_signal\n",
    "\tleft join congestion.network_int_px_22_2 a using (px)\n",
    "\twhere activationdate >= '2022-04-17' and activationdate <'2023-12-01' -- date of last version's max activatation date and this verion's max\n",
    "\t\tand a.px is null  \n",
    "\t\tand px != '2617' -- too far away\n",
    "    \tand px != '2650') \n",
    "\n",
    "select \tsegment_id, start_vid, end_vid, seg.geom, total_length, highway, \n",
    "\t\t_s.int_id as start_int, _t.int_id as end_int, \n",
    "\t\t_s.px::int start_px, _t.px::int as end_px, \n",
    "\t\t'22_2' as here_version, '20231001' as centreline_version, \n",
    "\t\t'2024-01-02'::date as retired_date, 'new traffic signal' as retired_reason, \n",
    "\t  \t null::int[] as replaced_id, -- to be updated later during re-routing new segments\n",
    "\t\tmin(dt) as valid_from, max(dt) as valid_to\n",
    "\n",
    "from congestion.network_segments seg\n",
    "\n",
    "JOIN new_signal on ST_intersects(new_signal.geom, seg.geom) -- where segments intersects with new traffic signals \n",
    "INNER JOIN congestion.network_segments_daily USING (segment_id) -- to get valid from to date ranges\n",
    "INNER JOIN congestion.network_int_px_22_2 _s on start_vid = _s.node_id -- to get equivalent start px and int_id\n",
    "INNER JOIN congestion.network_int_px_22_2 _t on end_vid  = _t.node_id -- to get equivalent end px and int_id\n",
    "WHERE segment_id  <= 7113 and segment_id not in (3573,170,3951,778)\n",
    "GROUP BY segment_id, start_vid, end_vid, seg.geom, total_length, highway, start_int, end_int, start_px, end_px, here_version, centreline_version, \n",
    "\t\tretired_date, retired_reason, replaced_id;\n",
    "'''\n",
    "\n",
    "'''\n",
    "update congestion.network_segments_retired\n",
    "set replaced_id = replaced\n",
    "from \n",
    "\t(select segment_id, array_agg(s) as replaced \n",
    "\t from (\n",
    "\t\tselect distinct seg.segment_id s, retired.segment_id , seg.start_vid, seg.end_vid, retired.start_vid, retired.end_vid, seg.geom, retired.geom\n",
    "\t\tfrom congestion.network_segments_retired retired \n",
    "\t\tinner join congestion.network_segments_23_4 seg on ST_intersects(retired.geom, seg.geom)\n",
    "\t\twhere \n",
    "\t\t\tretired_reason = 'new traffic signal' and \n",
    "\t\t \tseg.segment_id > 7113 and \n",
    "\t\t  \tgis.direction_from_line(retired.geom)  = direction)a\n",
    "\t group by segment_id)b\n",
    "where b.segment_id = network_segments_retired.segment_id\t\t\n",
    "'''"
   ]
  },
  {
   "cell_type": "code",
   "execution_count": null,
   "id": "900a04aa-bd6f-4e9a-8022-5a3ac0c17ff4",
   "metadata": {},
   "outputs": [],
   "source": []
  },
  {
   "cell_type": "markdown",
   "id": "274991b5-e2ec-45c9-ae78-2752deeed02c",
   "metadata": {},
   "source": [
    "23_4 version.\n",
    "\n",
    "Major changes: \n",
    "46 old segments retired. \n",
    "\n",
    "55 segments retired. "
   ]
  },
  {
   "cell_type": "markdown",
   "id": "ce7f5570-dda8-4cad-bccd-de61bef1db39",
   "metadata": {},
   "source": [
    "# Validate"
   ]
  },
  {
   "cell_type": "markdown",
   "id": "a4b726fe-1b33-48fb-b3d7-399279341900",
   "metadata": {},
   "source": [
    "## Make sure there are no duplication "
   ]
  },
  {
   "cell_type": "markdown",
   "id": "3d2151ee-2087-46dc-bab3-d400094fc859",
   "metadata": {},
   "source": [
    "### Table `network_segments`"
   ]
  },
  {
   "cell_type": "markdown",
   "id": "7d8717c6-3841-4540-9988-f2b5e11055c2",
   "metadata": {},
   "source": [
    "Total number of rows in network_segments"
   ]
  },
  {
   "cell_type": "code",
   "execution_count": 79,
   "id": "7a746a7a-7e9b-473f-8b85-97c65ec06699",
   "metadata": {},
   "outputs": [
    {
     "data": {
      "text/html": [
       "<div>\n",
       "<style scoped>\n",
       "    .dataframe tbody tr th:only-of-type {\n",
       "        vertical-align: middle;\n",
       "    }\n",
       "\n",
       "    .dataframe tbody tr th {\n",
       "        vertical-align: top;\n",
       "    }\n",
       "\n",
       "    .dataframe thead th {\n",
       "        text-align: right;\n",
       "    }\n",
       "</style>\n",
       "<table border=\"1\" class=\"dataframe\">\n",
       "  <thead>\n",
       "    <tr style=\"text-align: right;\">\n",
       "      <th></th>\n",
       "      <th>count</th>\n",
       "    </tr>\n",
       "  </thead>\n",
       "  <tbody>\n",
       "    <tr>\n",
       "      <th>0</th>\n",
       "      <td>6582</td>\n",
       "    </tr>\n",
       "  </tbody>\n",
       "</table>\n",
       "</div>"
      ],
      "text/plain": [
       "   count\n",
       "0   6582"
      ]
     },
     "execution_count": 79,
     "metadata": {},
     "output_type": "execute_result"
    }
   ],
   "source": [
    "sql = '''\n",
    "select count(1) \n",
    "from congestion.network_segments_23_4\n",
    "    '''\n",
    "with con : \n",
    "    nodes = pandasql.read_sql(sql, connection_engine) \n",
    "nodes.head()  "
   ]
  },
  {
   "cell_type": "markdown",
   "id": "b827f629-6891-4e8b-a588-33eed50b4616",
   "metadata": {},
   "source": [
    "No duplicated segment_id"
   ]
  },
  {
   "cell_type": "code",
   "execution_count": 80,
   "id": "ecac21a4-01b7-4402-8b69-3e9ec0d5d744",
   "metadata": {},
   "outputs": [
    {
     "data": {
      "text/html": [
       "<div>\n",
       "<style scoped>\n",
       "    .dataframe tbody tr th:only-of-type {\n",
       "        vertical-align: middle;\n",
       "    }\n",
       "\n",
       "    .dataframe tbody tr th {\n",
       "        vertical-align: top;\n",
       "    }\n",
       "\n",
       "    .dataframe thead th {\n",
       "        text-align: right;\n",
       "    }\n",
       "</style>\n",
       "<table border=\"1\" class=\"dataframe\">\n",
       "  <thead>\n",
       "    <tr style=\"text-align: right;\">\n",
       "      <th></th>\n",
       "      <th>count</th>\n",
       "    </tr>\n",
       "  </thead>\n",
       "  <tbody>\n",
       "    <tr>\n",
       "      <th>0</th>\n",
       "      <td>6582</td>\n",
       "    </tr>\n",
       "  </tbody>\n",
       "</table>\n",
       "</div>"
      ],
      "text/plain": [
       "   count\n",
       "0   6582"
      ]
     },
     "execution_count": 80,
     "metadata": {},
     "output_type": "execute_result"
    }
   ],
   "source": [
    "sql = '''\n",
    "select count(1) \n",
    "from (select distinct segment_id from congestion.network_segments_23_4)a\n",
    "    '''\n",
    "with con : \n",
    "    nodes = pandasql.read_sql(sql, connection_engine) \n",
    "nodes.head()  "
   ]
  },
  {
   "cell_type": "markdown",
   "id": "d9848b0d-a289-4e89-94ed-2ebc429b33d4",
   "metadata": {},
   "source": [
    "No duplicated sets of the same segment"
   ]
  },
  {
   "cell_type": "code",
   "execution_count": 82,
   "id": "55b3f0c7-2318-4748-9781-e9dd4bfeadc6",
   "metadata": {},
   "outputs": [
    {
     "data": {
      "text/html": [
       "<div>\n",
       "<style scoped>\n",
       "    .dataframe tbody tr th:only-of-type {\n",
       "        vertical-align: middle;\n",
       "    }\n",
       "\n",
       "    .dataframe tbody tr th {\n",
       "        vertical-align: top;\n",
       "    }\n",
       "\n",
       "    .dataframe thead th {\n",
       "        text-align: right;\n",
       "    }\n",
       "</style>\n",
       "<table border=\"1\" class=\"dataframe\">\n",
       "  <thead>\n",
       "    <tr style=\"text-align: right;\">\n",
       "      <th></th>\n",
       "      <th>count</th>\n",
       "    </tr>\n",
       "  </thead>\n",
       "  <tbody>\n",
       "    <tr>\n",
       "      <th>0</th>\n",
       "      <td>6582</td>\n",
       "    </tr>\n",
       "  </tbody>\n",
       "</table>\n",
       "</div>"
      ],
      "text/plain": [
       "   count\n",
       "0   6582"
      ]
     },
     "execution_count": 82,
     "metadata": {},
     "output_type": "execute_result"
    }
   ],
   "source": [
    "sql = '''\n",
    "select count(1) \n",
    "from (select distinct start_vid, end_vid from congestion.network_segments_23_4)a\n",
    "    '''\n",
    "with con : \n",
    "    nodes = pandasql.read_sql(sql, connection_engine) \n",
    "nodes.head()  "
   ]
  },
  {
   "cell_type": "markdown",
   "id": "4e918c05-bbfc-404f-9d55-720ff2dc5465",
   "metadata": {},
   "source": [
    "### Table `network_nodes`"
   ]
  },
  {
   "cell_type": "markdown",
   "id": "bfef4447-9f30-447b-80bd-949e106a3370",
   "metadata": {},
   "source": [
    "Total number of nodes"
   ]
  },
  {
   "cell_type": "code",
   "execution_count": 87,
   "id": "a7407a2b-317f-415e-a0b6-397b3b03b701",
   "metadata": {},
   "outputs": [
    {
     "data": {
      "text/html": [
       "<div>\n",
       "<style scoped>\n",
       "    .dataframe tbody tr th:only-of-type {\n",
       "        vertical-align: middle;\n",
       "    }\n",
       "\n",
       "    .dataframe tbody tr th {\n",
       "        vertical-align: top;\n",
       "    }\n",
       "\n",
       "    .dataframe thead th {\n",
       "        text-align: right;\n",
       "    }\n",
       "</style>\n",
       "<table border=\"1\" class=\"dataframe\">\n",
       "  <thead>\n",
       "    <tr style=\"text-align: right;\">\n",
       "      <th></th>\n",
       "      <th>count</th>\n",
       "    </tr>\n",
       "  </thead>\n",
       "  <tbody>\n",
       "    <tr>\n",
       "      <th>0</th>\n",
       "      <td>3267</td>\n",
       "    </tr>\n",
       "  </tbody>\n",
       "</table>\n",
       "</div>"
      ],
      "text/plain": [
       "   count\n",
       "0   3267"
      ]
     },
     "execution_count": 87,
     "metadata": {},
     "output_type": "execute_result"
    }
   ],
   "source": [
    "sql = '''\n",
    "select count(1) \n",
    "from congestion.network_nodes_23\n",
    "    '''\n",
    "with con : \n",
    "    nodes = pandasql.read_sql(sql, connection_engine) \n",
    "nodes.head()  "
   ]
  },
  {
   "cell_type": "markdown",
   "id": "66d51fb7-052f-45af-bcac-9c35be0f31e5",
   "metadata": {},
   "source": [
    "There are no duplicated node_ids"
   ]
  },
  {
   "cell_type": "code",
   "execution_count": 88,
   "id": "ae1133a2-c47a-4f78-bc33-8aed3405aaaa",
   "metadata": {},
   "outputs": [
    {
     "data": {
      "text/html": [
       "<div>\n",
       "<style scoped>\n",
       "    .dataframe tbody tr th:only-of-type {\n",
       "        vertical-align: middle;\n",
       "    }\n",
       "\n",
       "    .dataframe tbody tr th {\n",
       "        vertical-align: top;\n",
       "    }\n",
       "\n",
       "    .dataframe thead th {\n",
       "        text-align: right;\n",
       "    }\n",
       "</style>\n",
       "<table border=\"1\" class=\"dataframe\">\n",
       "  <thead>\n",
       "    <tr style=\"text-align: right;\">\n",
       "      <th></th>\n",
       "      <th>count</th>\n",
       "    </tr>\n",
       "  </thead>\n",
       "  <tbody>\n",
       "    <tr>\n",
       "      <th>0</th>\n",
       "      <td>3267</td>\n",
       "    </tr>\n",
       "  </tbody>\n",
       "</table>\n",
       "</div>"
      ],
      "text/plain": [
       "   count\n",
       "0   3267"
      ]
     },
     "execution_count": 88,
     "metadata": {},
     "output_type": "execute_result"
    }
   ],
   "source": [
    "sql = '''\n",
    "select count(1) \n",
    "from (select distinct node_id from congestion.network_nodes_23)a\n",
    "    '''\n",
    "with con : \n",
    "    nodes = pandasql.read_sql(sql, connection_engine) \n",
    "nodes.head()  "
   ]
  },
  {
   "cell_type": "markdown",
   "id": "a1d2306c-0b66-492d-ba2a-869bc74bfa3b",
   "metadata": {},
   "source": [
    "Are there nodes in network_segments_23 that are not in nodes table?\n",
    "\n",
    "Returns none."
   ]
  },
  {
   "cell_type": "code",
   "execution_count": 89,
   "id": "62649536-9aeb-464f-9bdd-247ad09142a8",
   "metadata": {},
   "outputs": [
    {
     "data": {
      "text/html": [
       "<div>\n",
       "<style scoped>\n",
       "    .dataframe tbody tr th:only-of-type {\n",
       "        vertical-align: middle;\n",
       "    }\n",
       "\n",
       "    .dataframe tbody tr th {\n",
       "        vertical-align: top;\n",
       "    }\n",
       "\n",
       "    .dataframe thead th {\n",
       "        text-align: right;\n",
       "    }\n",
       "</style>\n",
       "<table border=\"1\" class=\"dataframe\">\n",
       "  <thead>\n",
       "    <tr style=\"text-align: right;\">\n",
       "      <th></th>\n",
       "      <th>node_id</th>\n",
       "    </tr>\n",
       "  </thead>\n",
       "  <tbody>\n",
       "  </tbody>\n",
       "</table>\n",
       "</div>"
      ],
      "text/plain": [
       "Empty DataFrame\n",
       "Columns: [node_id]\n",
       "Index: []"
      ]
     },
     "execution_count": 89,
     "metadata": {},
     "output_type": "execute_result"
    }
   ],
   "source": [
    "sql = '''\n",
    "WITH all_nodes AS (\n",
    "\tselect start_vid as node_id\n",
    "\tfrom congestion.network_segments_23_4\n",
    "\tunion \n",
    "\tselect end_vid as node_id\n",
    "\tfrom congestion.network_segments_23_4)\n",
    "select node_id from all_nodes\n",
    "except \n",
    "select node_id from congestion.network_nodes_23\n",
    "    '''\n",
    "with con : \n",
    "    nodes = pandasql.read_sql(sql, connection_engine) \n",
    "nodes.head()  "
   ]
  },
  {
   "cell_type": "markdown",
   "id": "af429627-df67-4b7d-941a-b65dce6d192c",
   "metadata": {},
   "source": [
    "Are all the nodes in here referenced in the new px<>int<>node table? \n",
    "\n",
    "Returned 2, 30375021 and 1050298501. Checked in the segments table, they were not even used, deleting."
   ]
  },
  {
   "cell_type": "code",
   "execution_count": 91,
   "id": "2e012413-9a51-43da-a0b5-5fd37e58dcda",
   "metadata": {},
   "outputs": [
    {
     "data": {
      "text/html": [
       "<div>\n",
       "<style scoped>\n",
       "    .dataframe tbody tr th:only-of-type {\n",
       "        vertical-align: middle;\n",
       "    }\n",
       "\n",
       "    .dataframe tbody tr th {\n",
       "        vertical-align: top;\n",
       "    }\n",
       "\n",
       "    .dataframe thead th {\n",
       "        text-align: right;\n",
       "    }\n",
       "</style>\n",
       "<table border=\"1\" class=\"dataframe\">\n",
       "  <thead>\n",
       "    <tr style=\"text-align: right;\">\n",
       "      <th></th>\n",
       "      <th>node_id</th>\n",
       "    </tr>\n",
       "  </thead>\n",
       "  <tbody>\n",
       "    <tr>\n",
       "      <th>0</th>\n",
       "      <td>1050298501</td>\n",
       "    </tr>\n",
       "    <tr>\n",
       "      <th>1</th>\n",
       "      <td>30375021</td>\n",
       "    </tr>\n",
       "  </tbody>\n",
       "</table>\n",
       "</div>"
      ],
      "text/plain": [
       "      node_id\n",
       "0  1050298501\n",
       "1    30375021"
      ]
     },
     "execution_count": 91,
     "metadata": {},
     "output_type": "execute_result"
    }
   ],
   "source": [
    "sql = '''\n",
    "select node_id::int from congestion.network_nodes_23\n",
    "except \n",
    "select node_id::int from congestion.network_int_px_23_4\n",
    "    '''\n",
    "with con : \n",
    "    nodes = pandasql.read_sql(sql, connection_engine) \n",
    "nodes.head()  "
   ]
  },
  {
   "cell_type": "markdown",
   "id": "a7be2e99-0730-4573-8db8-82e81c688795",
   "metadata": {},
   "source": [
    "### Table `network_links`"
   ]
  },
  {
   "cell_type": "markdown",
   "id": "79f50e16-5251-4834-84a5-fab6e08e0b47",
   "metadata": {},
   "source": [
    "Total number of links"
   ]
  },
  {
   "cell_type": "code",
   "execution_count": 111,
   "id": "d8afc488-a85b-4c3b-9c8c-04fc32d4d4ef",
   "metadata": {},
   "outputs": [
    {
     "data": {
      "text/html": [
       "<div>\n",
       "<style scoped>\n",
       "    .dataframe tbody tr th:only-of-type {\n",
       "        vertical-align: middle;\n",
       "    }\n",
       "\n",
       "    .dataframe tbody tr th {\n",
       "        vertical-align: top;\n",
       "    }\n",
       "\n",
       "    .dataframe thead th {\n",
       "        text-align: right;\n",
       "    }\n",
       "</style>\n",
       "<table border=\"1\" class=\"dataframe\">\n",
       "  <thead>\n",
       "    <tr style=\"text-align: right;\">\n",
       "      <th></th>\n",
       "      <th>count</th>\n",
       "    </tr>\n",
       "  </thead>\n",
       "  <tbody>\n",
       "    <tr>\n",
       "      <th>0</th>\n",
       "      <td>50476</td>\n",
       "    </tr>\n",
       "  </tbody>\n",
       "</table>\n",
       "</div>"
      ],
      "text/plain": [
       "   count\n",
       "0  50476"
      ]
     },
     "execution_count": 111,
     "metadata": {},
     "output_type": "execute_result"
    }
   ],
   "source": [
    "sql = '''\n",
    "\n",
    "select count(1) \n",
    "from congestion.network_links_23_4 \n",
    "    '''\n",
    "with con : \n",
    "    nodes = pandasql.read_sql(sql, connection_engine) \n",
    "nodes.head()  "
   ]
  },
  {
   "cell_type": "markdown",
   "id": "2c63b719-d123-4df7-be9e-70d562c4dcd6",
   "metadata": {},
   "source": [
    "a bunch of them are duplicate, this is where I remembered I did not get rid of the old segments yet"
   ]
  },
  {
   "cell_type": "code",
   "execution_count": 112,
   "id": "6b4d12d7-9541-43fb-af22-df031ee94d75",
   "metadata": {},
   "outputs": [
    {
     "data": {
      "text/html": [
       "<div>\n",
       "<style scoped>\n",
       "    .dataframe tbody tr th:only-of-type {\n",
       "        vertical-align: middle;\n",
       "    }\n",
       "\n",
       "    .dataframe tbody tr th {\n",
       "        vertical-align: top;\n",
       "    }\n",
       "\n",
       "    .dataframe thead th {\n",
       "        text-align: right;\n",
       "    }\n",
       "</style>\n",
       "<table border=\"1\" class=\"dataframe\">\n",
       "  <thead>\n",
       "    <tr style=\"text-align: right;\">\n",
       "      <th></th>\n",
       "      <th>count</th>\n",
       "    </tr>\n",
       "  </thead>\n",
       "  <tbody>\n",
       "    <tr>\n",
       "      <th>0</th>\n",
       "      <td>50476</td>\n",
       "    </tr>\n",
       "  </tbody>\n",
       "</table>\n",
       "</div>"
      ],
      "text/plain": [
       "   count\n",
       "0  50476"
      ]
     },
     "execution_count": 112,
     "metadata": {},
     "output_type": "execute_result"
    }
   ],
   "source": [
    "sql = '''\n",
    "select count(1) \n",
    "from (select distinct link_dir from congestion.network_links_23_4)a\n",
    "    '''\n",
    "with con : \n",
    "    nodes = pandasql.read_sql(sql, connection_engine) \n",
    "nodes.head()  "
   ]
  },
  {
   "cell_type": "markdown",
   "id": "ecf3eddf-74f9-46cf-9a9e-57113bfbc63e",
   "metadata": {},
   "source": [
    "#### 2025-04-25 Here I am a year later, redoing this. After knowing link_dirs and node_ids can stay the same but have different geometries. We need to update the geoms.\n",
    "\n",
    "They are not that different or far away, just a small shift."
   ]
  },
  {
   "cell_type": "code",
   "execution_count": 3,
   "id": "30acaf8b-0136-4a9b-b258-44c6261595d9",
   "metadata": {},
   "outputs": [
    {
     "data": {
      "text/html": [
       "<div>\n",
       "<style scoped>\n",
       "    .dataframe tbody tr th:only-of-type {\n",
       "        vertical-align: middle;\n",
       "    }\n",
       "\n",
       "    .dataframe tbody tr th {\n",
       "        vertical-align: top;\n",
       "    }\n",
       "\n",
       "    .dataframe thead th {\n",
       "        text-align: right;\n",
       "    }\n",
       "</style>\n",
       "<table border=\"1\" class=\"dataframe\">\n",
       "  <thead>\n",
       "    <tr style=\"text-align: right;\">\n",
       "      <th></th>\n",
       "      <th>node_id</th>\n",
       "      <th>geom</th>\n",
       "      <th>geom</th>\n",
       "      <th>dist</th>\n",
       "    </tr>\n",
       "  </thead>\n",
       "  <tbody>\n",
       "    <tr>\n",
       "      <th>0</th>\n",
       "      <td>30420392.0</td>\n",
       "      <td>0101000020E61000000EDB166536D653C09E0C8E9257D3...</td>\n",
       "      <td>None</td>\n",
       "      <td>NaN</td>\n",
       "    </tr>\n",
       "    <tr>\n",
       "      <th>1</th>\n",
       "      <td>30420390.0</td>\n",
       "      <td>0101000020E6100000A3586E6935D653C0815B77F354D3...</td>\n",
       "      <td>None</td>\n",
       "      <td>NaN</td>\n",
       "    </tr>\n",
       "    <tr>\n",
       "      <th>2</th>\n",
       "      <td>30445532.0</td>\n",
       "      <td>0101000020E61000006891ED7C3FD353C06631B1F9B8E2...</td>\n",
       "      <td>0104000020E6100000010000000101000000378E588B4F...</td>\n",
       "      <td>0.001007</td>\n",
       "    </tr>\n",
       "    <tr>\n",
       "      <th>3</th>\n",
       "      <td>30334294.0</td>\n",
       "      <td>0101000020E61000007311DF8959E353C02CF180B229CF...</td>\n",
       "      <td>0104000020E610000001000000010100000041F163CC5D...</td>\n",
       "      <td>0.000626</td>\n",
       "    </tr>\n",
       "    <tr>\n",
       "      <th>4</th>\n",
       "      <td>30334658.0</td>\n",
       "      <td>0101000020E6100000F60B76C3B6E353C0B8E9CF7EA4D0...</td>\n",
       "      <td>0104000020E6100000010000000101000000CF143AAFB1...</td>\n",
       "      <td>0.000623</td>\n",
       "    </tr>\n",
       "  </tbody>\n",
       "</table>\n",
       "</div>"
      ],
      "text/plain": [
       "      node_id                                               geom  \\\n",
       "0  30420392.0  0101000020E61000000EDB166536D653C09E0C8E9257D3...   \n",
       "1  30420390.0  0101000020E6100000A3586E6935D653C0815B77F354D3...   \n",
       "2  30445532.0  0101000020E61000006891ED7C3FD353C06631B1F9B8E2...   \n",
       "3  30334294.0  0101000020E61000007311DF8959E353C02CF180B229CF...   \n",
       "4  30334658.0  0101000020E6100000F60B76C3B6E353C0B8E9CF7EA4D0...   \n",
       "\n",
       "                                                geom      dist  \n",
       "0                                               None       NaN  \n",
       "1                                               None       NaN  \n",
       "2  0104000020E6100000010000000101000000378E588B4F...  0.001007  \n",
       "3  0104000020E610000001000000010100000041F163CC5D...  0.000626  \n",
       "4  0104000020E6100000010000000101000000CF143AAFB1...  0.000623  "
      ]
     },
     "execution_count": 3,
     "metadata": {},
     "output_type": "execute_result"
    }
   ],
   "source": [
    "sql = '''\n",
    "select node_id, og.geom, v.geom, ST_Setsrid(og.geom, 2952) <-> ST_Setsrid(v.geom, 2952) as dist\n",
    "from congestion.network_nodes_23 og\n",
    "left join (select distinct node_id, geom from here.routing_nodes_23_4) v using (node_id)\n",
    "order by abs(ST_Setsrid(og.geom, 2952) <-> ST_Setsrid(v.geom, 2952)) desc\n",
    "'''\n",
    "with con : \n",
    "    nodes = pandasql.read_sql(sql, connection_engine) \n",
    "nodes.head(5)  "
   ]
  },
  {
   "cell_type": "markdown",
   "id": "60b12c41-2d91-4e37-bc8c-18770484f2b2",
   "metadata": {},
   "source": [
    "Have to update geometry field in the zlevels to make multipoint into single point "
   ]
  },
  {
   "cell_type": "markdown",
   "id": "2e0f8e95-cc12-4ba6-a33c-a2cbf794d5ed",
   "metadata": {},
   "source": [
    "```sql\n",
    "update congestion.network_nodes_23\n",
    "set geom = a.geom\n",
    "from (select distinct node_id, geom from here.routing_nodes_23_4)a\n",
    "where a.node_id = network_nodes_23.node_id\n",
    "```"
   ]
  },
  {
   "cell_type": "markdown",
   "id": "fc791904-c913-4ae7-b4eb-ee9c93e75920",
   "metadata": {},
   "source": [
    "Have to do the same thing for links. For links, there are 1574/50482 link_dirs that had a different length, with max length change 0.002m which is so little."
   ]
  },
  {
   "cell_type": "code",
   "execution_count": 4,
   "id": "936eb723-33ed-456c-94dc-7117a1bccc86",
   "metadata": {},
   "outputs": [
    {
     "data": {
      "text/html": [
       "<div>\n",
       "<style scoped>\n",
       "    .dataframe tbody tr th:only-of-type {\n",
       "        vertical-align: middle;\n",
       "    }\n",
       "\n",
       "    .dataframe tbody tr th {\n",
       "        vertical-align: top;\n",
       "    }\n",
       "\n",
       "    .dataframe thead th {\n",
       "        text-align: right;\n",
       "    }\n",
       "</style>\n",
       "<table border=\"1\" class=\"dataframe\">\n",
       "  <thead>\n",
       "    <tr style=\"text-align: right;\">\n",
       "      <th></th>\n",
       "      <th>count</th>\n",
       "      <th>max</th>\n",
       "    </tr>\n",
       "  </thead>\n",
       "  <tbody>\n",
       "    <tr>\n",
       "      <th>0</th>\n",
       "      <td>1574</td>\n",
       "      <td>0.001868</td>\n",
       "    </tr>\n",
       "  </tbody>\n",
       "</table>\n",
       "</div>"
      ],
      "text/plain": [
       "   count       max\n",
       "0   1574  0.001868"
      ]
     },
     "execution_count": 4,
     "metadata": {},
     "output_type": "execute_result"
    }
   ],
   "source": [
    "sql = '''\n",
    "select count(1), max(ST_length(ST_Setsrid(og.geom, 2952)) - ST_length(ST_Setsrid(v.geom, 2952)))\n",
    "from congestion.network_links_23_4 og\n",
    "left join (select distinct link_dir, geom from here.routing_streets_23_4) v using (link_dir)\n",
    "where ST_length(ST_Setsrid(og.geom, 2952)) - ST_length(ST_Setsrid(v.geom, 2952)) >0\n",
    "'''\n",
    "with con : \n",
    "    nodes = pandasql.read_sql(sql, connection_engine) \n",
    "nodes.head()  "
   ]
  },
  {
   "cell_type": "markdown",
   "id": "acac323c-82b9-4387-a8b0-da38d69fac6a",
   "metadata": {},
   "source": [
    "```sql\n",
    "update congestion.network_links_23_4\n",
    "set geom = a.geom\n",
    "from (select distinct link_dir, geom from here.routing_streets_23_4)a\n",
    "where a.link_dir = network_links_23_4.link_dir\n",
    "```"
   ]
  },
  {
   "cell_type": "markdown",
   "id": "2c4a9399-46be-48ed-9bd3-48661554f571",
   "metadata": {},
   "source": [
    "We will then have to recreate the segments using these new links geoms. Done!"
   ]
  },
  {
   "cell_type": "markdown",
   "id": "3a955f56-8795-4cb8-9dc0-3fd0c667f04a",
   "metadata": {},
   "source": [
    "Lets validate again"
   ]
  },
  {
   "cell_type": "markdown",
   "id": "8418ee2a-8f19-4fb6-8e89-1de4e0338e40",
   "metadata": {},
   "source": [
    "Wanted to make sure I actually retired all the segments that have changed in 23_4, I missed ten. "
   ]
  },
  {
   "cell_type": "code",
   "execution_count": 5,
   "id": "521527dd-37aa-4262-9538-4916c0b76ec5",
   "metadata": {},
   "outputs": [
    {
     "data": {
      "text/html": [
       "<div>\n",
       "<style scoped>\n",
       "    .dataframe tbody tr th:only-of-type {\n",
       "        vertical-align: middle;\n",
       "    }\n",
       "\n",
       "    .dataframe tbody tr th {\n",
       "        vertical-align: top;\n",
       "    }\n",
       "\n",
       "    .dataframe thead th {\n",
       "        text-align: right;\n",
       "    }\n",
       "</style>\n",
       "<table border=\"1\" class=\"dataframe\">\n",
       "  <thead>\n",
       "    <tr style=\"text-align: right;\">\n",
       "      <th></th>\n",
       "      <th>segment_id</th>\n",
       "    </tr>\n",
       "  </thead>\n",
       "  <tbody>\n",
       "    <tr>\n",
       "      <th>0</th>\n",
       "      <td>680</td>\n",
       "    </tr>\n",
       "    <tr>\n",
       "      <th>1</th>\n",
       "      <td>5496</td>\n",
       "    </tr>\n",
       "    <tr>\n",
       "      <th>2</th>\n",
       "      <td>3588</td>\n",
       "    </tr>\n",
       "    <tr>\n",
       "      <th>3</th>\n",
       "      <td>6213</td>\n",
       "    </tr>\n",
       "    <tr>\n",
       "      <th>4</th>\n",
       "      <td>5602</td>\n",
       "    </tr>\n",
       "    <tr>\n",
       "      <th>5</th>\n",
       "      <td>3589</td>\n",
       "    </tr>\n",
       "    <tr>\n",
       "      <th>6</th>\n",
       "      <td>5760</td>\n",
       "    </tr>\n",
       "    <tr>\n",
       "      <th>7</th>\n",
       "      <td>498</td>\n",
       "    </tr>\n",
       "    <tr>\n",
       "      <th>8</th>\n",
       "      <td>2328</td>\n",
       "    </tr>\n",
       "    <tr>\n",
       "      <th>9</th>\n",
       "      <td>5757</td>\n",
       "    </tr>\n",
       "  </tbody>\n",
       "</table>\n",
       "</div>"
      ],
      "text/plain": [
       "   segment_id\n",
       "0         680\n",
       "1        5496\n",
       "2        3588\n",
       "3        6213\n",
       "4        5602\n",
       "5        3589\n",
       "6        5760\n",
       "7         498\n",
       "8        2328\n",
       "9        5757"
      ]
     },
     "execution_count": 5,
     "metadata": {},
     "output_type": "execute_result"
    }
   ],
   "source": [
    "sql = '''with temp as (\n",
    "select segment_id from congestion.network_segments \n",
    "except \n",
    "select segment_id from congestion.network_segments_23_4_geom )\n",
    "\n",
    "select segment_id from temp\n",
    "except \n",
    "select segment_id from congestion.network_segments_retired\n",
    "where here_version = '22_2'\n",
    "'''\n",
    "with con : \n",
    "    nodes = pandasql.read_sql(sql, connection_engine) \n",
    "nodes.head(10)  "
   ]
  },
  {
   "cell_type": "code",
   "execution_count": null,
   "id": "d5e1aabf-98a7-44f9-aabe-567654590ec7",
   "metadata": {},
   "outputs": [],
   "source": []
  }
 ],
 "metadata": {
  "kernelspec": {
   "display_name": "Python 3 (ipykernel)",
   "language": "python",
   "name": "python3"
  },
  "language_info": {
   "codemirror_mode": {
    "name": "ipython",
    "version": 3
   },
   "file_extension": ".py",
   "mimetype": "text/x-python",
   "name": "python",
   "nbconvert_exporter": "python",
   "pygments_lexer": "ipython3",
   "version": "3.10.12"
  }
 },
 "nbformat": 4,
 "nbformat_minor": 5
}
