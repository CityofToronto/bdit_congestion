{
 "cells": [
  {
   "cell_type": "markdown",
   "id": "815e7670-4f4f-4446-a5e2-6b45cfb0c8a6",
   "metadata": {},
   "source": [
    "# Network Update 2023"
   ]
  },
  {
   "cell_type": "markdown",
   "id": "4658f15d-8bed-4db0-bcd6-540184386d6d",
   "metadata": {},
   "source": [
    "Its that time of the year again, lets see how many things needs to be changed this time."
   ]
  },
  {
   "cell_type": "code",
   "execution_count": 2,
   "id": "f1dd2780-7db9-4b97-a434-43bcd793b425",
   "metadata": {
    "jupyter": {
     "source_hidden": true
    }
   },
   "outputs": [],
   "source": [
    "from psycopg2 import connect\n",
    "from psycopg2 import sql\n",
    "from psycopg2.extras import execute_values\n",
    "from pathlib import Path\n",
    "import pandas as pd\n",
    "import pandas.io.sql as pandasql\n",
    "import configparser\n",
    "import matplotlib.pyplot as plt\n",
    "CONFIG = configparser.ConfigParser()\n",
    "CONFIG.read(str(Path.home().joinpath('db.cfg')))\n",
    "dbset = CONFIG['DBSETTINGS']\n",
    "con = connect(**dbset)"
   ]
  },
  {
   "cell_type": "markdown",
   "id": "a9c6a78c-8259-4f07-b5f6-c4a8fd359024",
   "metadata": {},
   "source": [
    "## Number of nodes that needs to be updated\n",
    "only two!"
   ]
  },
  {
   "cell_type": "code",
   "execution_count": 4,
   "id": "7c8e21b6-3571-49dd-a3e8-67fa18f045e1",
   "metadata": {},
   "outputs": [
    {
     "name": "stderr",
     "output_type": "stream",
     "text": [
      "/tmp/ipykernel_3548274/1008659884.py:7: UserWarning: pandas only supports SQLAlchemy connectable (engine/connection) or database string URI or sqlite3 DBAPI2 connection. Other DBAPI2 objects are not tested. Please consider using SQLAlchemy.\n",
      "  nodes = pandasql.read_sql(sql, con)\n"
     ]
    },
    {
     "name": "stdout",
     "output_type": "stream",
     "text": [
      "      node_id\n",
      "0  30420390.0\n",
      "1  30420392.0\n"
     ]
    }
   ],
   "source": [
    "sql = '''\n",
    "select node_id from congestion.network_nodes\n",
    "except \n",
    "select node_id from here.routing_nodes_23_4 \n",
    "    '''\n",
    "with con : \n",
    "    nodes = pandasql.read_sql(sql, con) \n",
    "print(nodes)   "
   ]
  },
  {
   "cell_type": "markdown",
   "id": "fe95512e-cdaf-4817-9678-4f568a8da4e3",
   "metadata": {},
   "source": [
    "## Number of links that needs to be updated\n",
    "2990 links needs to be retired omg"
   ]
  },
  {
   "cell_type": "code",
   "execution_count": 5,
   "id": "0f5c398d-1174-47f7-a3f4-41f4cb297994",
   "metadata": {},
   "outputs": [
    {
     "name": "stdout",
     "output_type": "stream",
     "text": [
      "         link_dir\n",
      "0     1207662665F\n",
      "1     1258933853T\n",
      "2     1000005503T\n",
      "3      995198819F\n",
      "4       29568114T\n",
      "...           ...\n",
      "2985   949289551T\n",
      "2986  1258735603F\n",
      "2987  1258732905T\n",
      "2988   993964936T\n",
      "2989  1258776870T\n",
      "\n",
      "[2990 rows x 1 columns]\n"
     ]
    },
    {
     "name": "stderr",
     "output_type": "stream",
     "text": [
      "/tmp/ipykernel_3548274/580113570.py:7: UserWarning: pandas only supports SQLAlchemy connectable (engine/connection) or database string URI or sqlite3 DBAPI2 connection. Other DBAPI2 objects are not tested. Please consider using SQLAlchemy.\n",
      "  nodes = pandasql.read_sql(sql, con)\n"
     ]
    }
   ],
   "source": [
    "sql = '''\n",
    "select link_dir from congestion.network_links_22_2\n",
    "except \n",
    "select link_dir from here.routing_streets_23_4 \n",
    "    '''\n",
    "with con : \n",
    "    nodes = pandasql.read_sql(sql, con) \n",
    "print(nodes)   "
   ]
  },
  {
   "cell_type": "markdown",
   "id": "13711da5-e930-486f-927e-4e3cb71e9afa",
   "metadata": {},
   "source": [
    "## Number of segments that needs to be updated\n",
    "1812 segment_ids needs be to retired and route............"
   ]
  },
  {
   "cell_type": "code",
   "execution_count": 6,
   "id": "516b77a5-aa05-43d5-bae2-6223f269d735",
   "metadata": {},
   "outputs": [
    {
     "name": "stdout",
     "output_type": "stream",
     "text": [
      "      segment_id\n",
      "0           6062\n",
      "1           2335\n",
      "2            652\n",
      "3           5856\n",
      "4           1560\n",
      "...          ...\n",
      "1807        2359\n",
      "1808        3795\n",
      "1809        1715\n",
      "1810        3697\n",
      "1811        4035\n",
      "\n",
      "[1812 rows x 1 columns]\n"
     ]
    },
    {
     "name": "stderr",
     "output_type": "stream",
     "text": [
      "/tmp/ipykernel_3548274/3611360751.py:11: UserWarning: pandas only supports SQLAlchemy connectable (engine/connection) or database string URI or sqlite3 DBAPI2 connection. Other DBAPI2 objects are not tested. Please consider using SQLAlchemy.\n",
      "  nodes = pandasql.read_sql(sql, con)\n"
     ]
    }
   ],
   "source": [
    "sql = '''\n",
    "with changed_links AS (\n",
    "\tselect link_dir from congestion.network_links_22_2\n",
    "\texcept \n",
    "\tselect link_dir from here.routing_streets_23_4)\n",
    "\t\n",
    "select distinct segment_id from  congestion.network_links_22_2 \n",
    "inner join changed_links using (link_dir)\n",
    "    '''\n",
    "with con : \n",
    "    nodes = pandasql.read_sql(sql, con) \n",
    "print(nodes)   "
   ]
  },
  {
   "cell_type": "markdown",
   "id": "1ef1286c-db4a-4ede-88a0-0478db16ff56",
   "metadata": {},
   "source": [
    "## Number of new and retired traffic signals\n",
    "Quite a bunch of new traffic signals. We can deal with this after we recreated the network. "
   ]
  },
  {
   "cell_type": "code",
   "execution_count": 9,
   "id": "917b83c2-5818-494b-bb2d-c4c1f5d5c201",
   "metadata": {},
   "outputs": [
    {
     "name": "stderr",
     "output_type": "stream",
     "text": [
      "/tmp/ipykernel_3548274/3409494311.py:6: UserWarning: pandas only supports SQLAlchemy connectable (engine/connection) or database string URI or sqlite3 DBAPI2 connection. Other DBAPI2 objects are not tested. Please consider using SQLAlchemy.\n",
      "  nodes = pandasql.read_sql(sql, con)\n"
     ]
    },
    {
     "data": {
      "text/html": [
       "<div>\n",
       "<style scoped>\n",
       "    .dataframe tbody tr th:only-of-type {\n",
       "        vertical-align: middle;\n",
       "    }\n",
       "\n",
       "    .dataframe tbody tr th {\n",
       "        vertical-align: top;\n",
       "    }\n",
       "\n",
       "    .dataframe thead th {\n",
       "        text-align: right;\n",
       "    }\n",
       "</style>\n",
       "<table border=\"1\" class=\"dataframe\">\n",
       "  <thead>\n",
       "    <tr style=\"text-align: right;\">\n",
       "      <th></th>\n",
       "      <th>count</th>\n",
       "    </tr>\n",
       "  </thead>\n",
       "  <tbody>\n",
       "    <tr>\n",
       "      <th>0</th>\n",
       "      <td>43</td>\n",
       "    </tr>\n",
       "  </tbody>\n",
       "</table>\n",
       "</div>"
      ],
      "text/plain": [
       "   count\n",
       "0     43"
      ]
     },
     "execution_count": 9,
     "metadata": {},
     "output_type": "execute_result"
    }
   ],
   "source": [
    "sql = '''\n",
    "select count(1) from gis.traffic_signal\n",
    "where activationdate  >= '2022-01-01'\n",
    "    '''\n",
    "with con : \n",
    "    nodes = pandasql.read_sql(sql, con) \n",
    "nodes.head()   "
   ]
  },
  {
   "cell_type": "markdown",
   "id": "790c9517-081a-41de-884b-e7dc36160588",
   "metadata": {},
   "source": [
    "# Updating the links"
   ]
  },
  {
   "cell_type": "code",
   "execution_count": null,
   "id": "31656f70-1cc9-43a9-bbca-beb73b81e22a",
   "metadata": {},
   "outputs": [],
   "source": [
    "'''\n",
    "-- Create new links table except the segment_ids that are outdated\n",
    "\n",
    "CREATE TABLE congestion.network_links_23_4 AS \n",
    "-- retired links\n",
    "with changed_links AS (\n",
    "\tselect link_dir from congestion.network_links_22_2\n",
    "\texcept \n",
    "\tselect link_dir from here.routing_streets_23_4)\n",
    "-- retired segments\t\n",
    ", changed_seg AS (\n",
    "\tselect distinct segment_id, start_vid, end_vid \n",
    "\tfrom  congestion.network_links_22_2\n",
    "\tinner join changed_links using (link_dir))\n",
    "-- everything in network_links other than the retired segments\n",
    "select      network_links_22_2.* \n",
    "from \t\tcongestion.network_links_22_2\n",
    "left join \tchanged_seg using (segment_id)\n",
    "where \t\tchanged_seg is null ;\n",
    "\n",
    "'''\n",
    "'''\n",
    "-- Insert routed results using new map version (23_4) for retired segments\n",
    "\n",
    "with changed_links AS (\n",
    "\tselect link_dir from congestion.network_links_22_2\n",
    "\texcept \n",
    "\tselect link_dir from here.routing_streets_23_4)\t\n",
    ", changed_seg AS (\n",
    "\tselect distinct segment_id, start_vid, end_vid \n",
    "\tfrom  congestion.network_links_22_2 \n",
    "\tinner join changed_links using (link_dir))\n",
    " \n",
    " -- insert result to newly created network_links table\n",
    "INSERT INTO congestion.network_links_23_4\n",
    "SELECT segment_id, start_vid, end_vid, link_dir, routing.geom, round(st_length(st_transform(geom, 2952))::numeric, 2) as length\n",
    "FROM   changed_seg\n",
    "CROSS JOIN LATERAL pgr_dijkstra('SELECT id, source::int, target::int, st_length(st_transform(geom, 2952)) as cost \n",
    "\t\t\t\t \t   \t\t\tFROM here.routing_streets_23_4',  -- route using new map version's routing_streets\n",
    "\t\t\t\t\t\t\t\tstart_vid, \n",
    "\t\t\t\t\t\t\t\tend_vid)\n",
    "INNER JOIN here.routing_streets_23_4 routing ON id = edge;\n",
    "''';"
   ]
  },
  {
   "cell_type": "markdown",
   "id": "76fb8428-d9b9-45a1-b952-a0d4f71cba1c",
   "metadata": {},
   "source": [
    "## Check to see if all segments are inserted \n",
    "Returns nothing! "
   ]
  },
  {
   "cell_type": "code",
   "execution_count": 13,
   "id": "c44fe434-30d5-4715-8705-99a5cccdf349",
   "metadata": {},
   "outputs": [
    {
     "name": "stderr",
     "output_type": "stream",
     "text": [
      "/tmp/ipykernel_3548274/647985274.py:7: UserWarning: pandas only supports SQLAlchemy connectable (engine/connection) or database string URI or sqlite3 DBAPI2 connection. Other DBAPI2 objects are not tested. Please consider using SQLAlchemy.\n",
      "  nodes = pandasql.read_sql(sql, con)\n"
     ]
    },
    {
     "data": {
      "text/html": [
       "<div>\n",
       "<style scoped>\n",
       "    .dataframe tbody tr th:only-of-type {\n",
       "        vertical-align: middle;\n",
       "    }\n",
       "\n",
       "    .dataframe tbody tr th {\n",
       "        vertical-align: top;\n",
       "    }\n",
       "\n",
       "    .dataframe thead th {\n",
       "        text-align: right;\n",
       "    }\n",
       "</style>\n",
       "<table border=\"1\" class=\"dataframe\">\n",
       "  <thead>\n",
       "    <tr style=\"text-align: right;\">\n",
       "      <th></th>\n",
       "      <th>segment_id</th>\n",
       "    </tr>\n",
       "  </thead>\n",
       "  <tbody>\n",
       "  </tbody>\n",
       "</table>\n",
       "</div>"
      ],
      "text/plain": [
       "Empty DataFrame\n",
       "Columns: [segment_id]\n",
       "Index: []"
      ]
     },
     "execution_count": 13,
     "metadata": {},
     "output_type": "execute_result"
    }
   ],
   "source": [
    "sql = '''\n",
    "select distinct segment_id from congestion.network_links_22_2\n",
    "except\n",
    "select distinct segment_id from congestion.network_links_23_4\n",
    "    '''\n",
    "with con : \n",
    "    nodes = pandasql.read_sql(sql, con) \n",
    "nodes.head()  "
   ]
  },
  {
   "cell_type": "markdown",
   "id": "5af89288-9954-4c80-8548-586452381092",
   "metadata": {},
   "source": [
    "## Check to see if both returned the same number of segment_id\n",
    "Both have 6558 segments. "
   ]
  },
  {
   "cell_type": "code",
   "execution_count": 15,
   "id": "8ab90b8a-033b-4f6e-adcb-ec1b6424d7ac",
   "metadata": {},
   "outputs": [
    {
     "name": "stderr",
     "output_type": "stream",
     "text": [
      "/tmp/ipykernel_3548274/1608784709.py:6: UserWarning: pandas only supports SQLAlchemy connectable (engine/connection) or database string URI or sqlite3 DBAPI2 connection. Other DBAPI2 objects are not tested. Please consider using SQLAlchemy.\n",
      "  nodes = pandasql.read_sql(sql, con)\n"
     ]
    },
    {
     "data": {
      "text/html": [
       "<div>\n",
       "<style scoped>\n",
       "    .dataframe tbody tr th:only-of-type {\n",
       "        vertical-align: middle;\n",
       "    }\n",
       "\n",
       "    .dataframe tbody tr th {\n",
       "        vertical-align: top;\n",
       "    }\n",
       "\n",
       "    .dataframe thead th {\n",
       "        text-align: right;\n",
       "    }\n",
       "</style>\n",
       "<table border=\"1\" class=\"dataframe\">\n",
       "  <thead>\n",
       "    <tr style=\"text-align: right;\">\n",
       "      <th></th>\n",
       "      <th>count</th>\n",
       "    </tr>\n",
       "  </thead>\n",
       "  <tbody>\n",
       "    <tr>\n",
       "      <th>0</th>\n",
       "      <td>6558</td>\n",
       "    </tr>\n",
       "  </tbody>\n",
       "</table>\n",
       "</div>"
      ],
      "text/plain": [
       "   count\n",
       "0   6558"
      ]
     },
     "execution_count": 15,
     "metadata": {},
     "output_type": "execute_result"
    }
   ],
   "source": [
    "sql = '''\n",
    "\n",
    "select count(distinct segment_id) from congestion.network_links_22_2\n",
    "    '''\n",
    "with con : \n",
    "    nodes = pandasql.read_sql(sql, con) \n",
    "nodes.head()  "
   ]
  },
  {
   "cell_type": "code",
   "execution_count": 16,
   "id": "f12b8c6b-c943-4303-98ab-9983cf4ade86",
   "metadata": {},
   "outputs": [
    {
     "name": "stderr",
     "output_type": "stream",
     "text": [
      "/tmp/ipykernel_3548274/2532337583.py:5: UserWarning: pandas only supports SQLAlchemy connectable (engine/connection) or database string URI or sqlite3 DBAPI2 connection. Other DBAPI2 objects are not tested. Please consider using SQLAlchemy.\n",
      "  nodes = pandasql.read_sql(sql, con)\n"
     ]
    },
    {
     "data": {
      "text/html": [
       "<div>\n",
       "<style scoped>\n",
       "    .dataframe tbody tr th:only-of-type {\n",
       "        vertical-align: middle;\n",
       "    }\n",
       "\n",
       "    .dataframe tbody tr th {\n",
       "        vertical-align: top;\n",
       "    }\n",
       "\n",
       "    .dataframe thead th {\n",
       "        text-align: right;\n",
       "    }\n",
       "</style>\n",
       "<table border=\"1\" class=\"dataframe\">\n",
       "  <thead>\n",
       "    <tr style=\"text-align: right;\">\n",
       "      <th></th>\n",
       "      <th>count</th>\n",
       "    </tr>\n",
       "  </thead>\n",
       "  <tbody>\n",
       "    <tr>\n",
       "      <th>0</th>\n",
       "      <td>6558</td>\n",
       "    </tr>\n",
       "  </tbody>\n",
       "</table>\n",
       "</div>"
      ],
      "text/plain": [
       "   count\n",
       "0   6558"
      ]
     },
     "execution_count": 16,
     "metadata": {},
     "output_type": "execute_result"
    }
   ],
   "source": [
    "sql = '''\n",
    "select count(distinct segment_id) from congestion.network_links_23_4\n",
    "    '''\n",
    "with con : \n",
    "    nodes = pandasql.read_sql(sql, con) \n",
    "nodes.head()  "
   ]
  },
  {
   "cell_type": "markdown",
   "id": "1d847d40-ffb8-456c-af75-fc5a8307b85d",
   "metadata": {},
   "source": [
    "## Finding if there are new traffic signals to add in \n",
    "25?!?!\n",
    "Check them out on QGIS and see if they are legit. "
   ]
  },
  {
   "cell_type": "code",
   "execution_count": 21,
   "id": "cffbb940-1c66-4b64-995b-5bd9967d1ad2",
   "metadata": {},
   "outputs": [
    {
     "name": "stderr",
     "output_type": "stream",
     "text": [
      "/tmp/ipykernel_3548274/690658099.py:14: UserWarning: pandas only supports SQLAlchemy connectable (engine/connection) or database string URI or sqlite3 DBAPI2 connection. Other DBAPI2 objects are not tested. Please consider using SQLAlchemy.\n",
      "  nodes = pandasql.read_sql(sql, con)\n"
     ]
    },
    {
     "data": {
      "text/html": [
       "<div>\n",
       "<style scoped>\n",
       "    .dataframe tbody tr th:only-of-type {\n",
       "        vertical-align: middle;\n",
       "    }\n",
       "\n",
       "    .dataframe tbody tr th {\n",
       "        vertical-align: top;\n",
       "    }\n",
       "\n",
       "    .dataframe thead th {\n",
       "        text-align: right;\n",
       "    }\n",
       "</style>\n",
       "<table border=\"1\" class=\"dataframe\">\n",
       "  <thead>\n",
       "    <tr style=\"text-align: right;\">\n",
       "      <th></th>\n",
       "      <th>count</th>\n",
       "    </tr>\n",
       "  </thead>\n",
       "  <tbody>\n",
       "    <tr>\n",
       "      <th>0</th>\n",
       "      <td>25</td>\n",
       "    </tr>\n",
       "  </tbody>\n",
       "</table>\n",
       "</div>"
      ],
      "text/plain": [
       "   count\n",
       "0     25"
      ]
     },
     "execution_count": 21,
     "metadata": {},
     "output_type": "execute_result"
    }
   ],
   "source": [
    "sql = '''\n",
    "-- Find segments that needs to be updated due to new traffic signals\n",
    "with new_signal as (\n",
    "\tselect px, ST_Transform(ST_buffer(ST_Transform(geom, 2952), 50), 4326) as geom \n",
    "\tfrom gis.traffic_signal\n",
    "\tleft join congestion.network_int_px_22_2 a using (px)\n",
    "\twhere activationdate >= '2022-04-17' and a.px is null )\n",
    "\n",
    "select count(distinct px)\n",
    "from congestion.network_segments seg\n",
    "join new_signal on ST_intersects(new_signal.geom, seg.geom)\n",
    "    '''\n",
    "with con : \n",
    "    nodes = pandasql.read_sql(sql, con) \n",
    "nodes.head()  "
   ]
  },
  {
   "cell_type": "markdown",
   "id": "53e624fd-c8ca-46fb-9683-66fe599a0f75",
   "metadata": {},
   "source": [
    "## Find closest nodes for these new traffic signals "
   ]
  },
  {
   "cell_type": "markdown",
   "id": "87642398-ffb5-43f9-bab6-772a52e97107",
   "metadata": {},
   "source": [
    "Checked on QGIS, mostly look good in distance difference, except for one that has 40m difference. "
   ]
  },
  {
   "cell_type": "code",
   "execution_count": 22,
   "id": "56880b94-ad98-4b6c-be9a-a22ca2628a41",
   "metadata": {},
   "outputs": [],
   "source": [
    "'''\n",
    "-- Find segments that needs to be updated due to new traffic signals\n",
    "with new_signal as (\n",
    "\tselect px, ST_Transform(ST_buffer(ST_Transform(geom, 2952), 50), 4326) as bgeom, geom \n",
    "\tfrom gis.traffic_signal\n",
    "\tleft join congestion.network_int_px_22_2 a using (px)\n",
    "\twhere activationdate >= '2022-04-17' and a.px is null )\n",
    "\n",
    ", new_px AS (\n",
    "\tselect distinct px, new_signal.geom as px_geom\n",
    "\tfrom congestion.network_segments seg\n",
    "\tjoin new_signal on ST_intersects(new_signal.bgeom, seg.geom))\n",
    "\n",
    "-- Find new nodes for outdated nodes using nearest neighbour\n",
    "\t\t\t\n",
    "select \tnode_id, px, geom, px_geom, dist\n",
    "from \there.routing_nodes_23_4\n",
    "CROSS JOIN LATERAL (SELECT z.px,\n",
    "\t\t\t\t\t\t\tpx_geom, \n",
    "\t\t\t\t\t\t\t(ST_transform(geom, 2952) <-> ST_Transform(z.px_geom, 2952)) as dist\t\n",
    "\t\t\t\t\tFROM new_px z\n",
    "\t\t\t\t\tORDER BY (geom <-> z.px_geom)\n",
    "\t\t\t\t\tLIMIT 1) nodes;\n",
    "''';"
   ]
  }
 ],
 "metadata": {
  "kernelspec": {
   "display_name": "Python 3 (ipykernel)",
   "language": "python",
   "name": "python3"
  },
  "language_info": {
   "codemirror_mode": {
    "name": "ipython",
    "version": 3
   },
   "file_extension": ".py",
   "mimetype": "text/x-python",
   "name": "python",
   "nbconvert_exporter": "python",
   "pygments_lexer": "ipython3",
   "version": "3.10.12"
  }
 },
 "nbformat": 4,
 "nbformat_minor": 5
}
