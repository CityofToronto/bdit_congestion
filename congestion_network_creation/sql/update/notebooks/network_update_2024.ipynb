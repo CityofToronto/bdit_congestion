{
 "cells": [
  {
   "cell_type": "markdown",
   "id": "815e7670-4f4f-4446-a5e2-6b45cfb0c8a6",
   "metadata": {},
   "source": [
    "# Network Update 24_4"
   ]
  },
  {
   "cell_type": "markdown",
   "id": "5d87e796-8326-4aac-9347-8eba10dbdc2a",
   "metadata": {},
   "source": [
    "## Whats new? "
   ]
  },
  {
   "cell_type": "markdown",
   "id": "4658f15d-8bed-4db0-bcd6-540184386d6d",
   "metadata": {},
   "source": [
    "Its that time of the year again, lets see how many things needs to be changed this time."
   ]
  },
  {
   "cell_type": "code",
   "execution_count": 2,
   "id": "f1dd2780-7db9-4b97-a434-43bcd793b425",
   "metadata": {},
   "outputs": [],
   "source": [
    "from psycopg2 import connect\n",
    "from psycopg2 import sql\n",
    "from psycopg2.extras import execute_values\n",
    "from pathlib import Path\n",
    "import pandas as pd\n",
    "import pandas.io.sql as pandasql\n",
    "import configparser\n",
    "import matplotlib.pyplot as plt\n",
    "from sqlalchemy import create_engine\n",
    "from sqlalchemy.engine import URL\n",
    "CONFIG = configparser.ConfigParser()\n",
    "CONFIG.read(str(Path.home().joinpath('db.cfg')))\n",
    "dbset = CONFIG['DBSETTINGS']\n",
    "con = connect(**dbset)\n",
    "connection_engine = create_engine(\n",
    "    URL.create(\n",
    "        drivername = \"postgresql\",\n",
    "        host = CONFIG['DBSETTINGS']['host'],\n",
    "        database = CONFIG['DBSETTINGS']['database'],\n",
    "        username = CONFIG['DBSETTINGS']['user'],\n",
    "        password = CONFIG['DBSETTINGS']['password']))\n",
    "cur = connection_engine.raw_connection().cursor()"
   ]
  },
  {
   "cell_type": "markdown",
   "id": "a9c6a78c-8259-4f07-b5f6-c4a8fd359024",
   "metadata": {},
   "source": [
    "### Number of nodes that needs to be updated\n",
    "only 3!"
   ]
  },
  {
   "cell_type": "code",
   "execution_count": 12,
   "id": "7c8e21b6-3571-49dd-a3e8-67fa18f045e1",
   "metadata": {},
   "outputs": [
    {
     "name": "stdout",
     "output_type": "stream",
     "text": [
      "      node_id\n",
      "0    30321266\n",
      "1  1182267418\n",
      "2    30321268\n"
     ]
    }
   ],
   "source": [
    "sql = '''\n",
    "select node_id::bigint from congestion.network_nodes_23\n",
    "except \n",
    "select node_id::bigint  from here.routing_nodes_24_4 \n",
    "    '''\n",
    "with con : \n",
    "    nodes = pandasql.read_sql(sql, connection_engine) \n",
    "print(nodes)   "
   ]
  },
  {
   "cell_type": "markdown",
   "id": "483bb908-104f-4cbc-82cf-d344eb64bdc3",
   "metadata": {},
   "source": [
    "Which would seem to be nice....but now we know that they can re-use node_id, and shift their geom. \n",
    "SO actually 244 nodes shifted. Furthest shift is 110m, is it even the same node?????? Checked, its on the 401."
   ]
  },
  {
   "cell_type": "code",
   "execution_count": 20,
   "id": "68adea63-3c51-4f8c-9483-d4739b1cec0c",
   "metadata": {},
   "outputs": [
    {
     "name": "stdout",
     "output_type": "stream",
     "text": [
      "      node_id    ?column?\n",
      "0    30456075  110.281672\n",
      "1    30323391   85.815058\n",
      "2    30445533   85.162731\n",
      "3    30371548   75.761128\n",
      "4    30436212   71.470214\n",
      "..        ...         ...\n",
      "239  30444869    0.805097\n",
      "240  30444879    0.805094\n",
      "241  30353366    0.805037\n",
      "242  30353367    0.805037\n",
      "243  30447104    0.805005\n",
      "\n",
      "[244 rows x 2 columns]\n"
     ]
    }
   ],
   "source": [
    "sql = '''\n",
    "\n",
    "select distinct node_id::bigint, (ST_transform(retired_nodes.geom, 2952) <-> ST_Transform(z.geom, 2952)) \n",
    "from congestion.network_nodes_23 retired_nodes\n",
    "inner join here.routing_nodes_24_4 z using (node_id) \n",
    "where (ST_transform(retired_nodes.geom, 2952) <-> ST_Transform(z.geom, 2952)) >0\n",
    "order by (ST_transform(retired_nodes.geom, 2952) <-> ST_Transform(z.geom, 2952)) desc\n",
    "\n",
    "    '''\n",
    "with con : \n",
    "    nodes = pandasql.read_sql(sql, connection_engine) \n",
    "print(nodes)   "
   ]
  },
  {
   "cell_type": "markdown",
   "id": "fe95512e-cdaf-4817-9678-4f568a8da4e3",
   "metadata": {},
   "source": [
    "# Number of links that needs to be updated\n",
    "871 links needs to be retired"
   ]
  },
  {
   "cell_type": "code",
   "execution_count": 13,
   "id": "0f5c398d-1174-47f7-a3f4-41f4cb297994",
   "metadata": {},
   "outputs": [
    {
     "name": "stdout",
     "output_type": "stream",
     "text": [
      "        link_dir\n",
      "0      29572498T\n",
      "1     993183732F\n",
      "2     822382890T\n",
      "3    1074945293F\n",
      "4     806101976T\n",
      "..           ...\n",
      "866   995779172F\n",
      "867   133790136T\n",
      "868   792244130T\n",
      "869   799979707T\n",
      "870   845742118F\n",
      "\n",
      "[871 rows x 1 columns]\n"
     ]
    }
   ],
   "source": [
    "sql = '''\n",
    "select link_dir from congestion.network_links_23_4\n",
    "except \n",
    "select link_dir from here.routing_streets_24_4 \n",
    "    '''\n",
    "with con : \n",
    "    nodes = pandasql.read_sql(sql, connection_engine) \n",
    "print(nodes)   "
   ]
  },
  {
   "cell_type": "markdown",
   "id": "3754f4ce-3976-44e5-b4ee-5fa1db6d7e6b",
   "metadata": {},
   "source": [
    "Again, tricky tricky, because they reuse links. The biggest change is 247m, like, that really should just be a link_dir. Anyways, they are all the highways, with just a few exception."
   ]
  },
  {
   "cell_type": "code",
   "execution_count": 24,
   "id": "66d979e7-3adf-4623-a5b8-fefa81cf5c63",
   "metadata": {},
   "outputs": [
    {
     "name": "stdout",
     "output_type": "stream",
     "text": [
      "         link_dir    ?column?\n",
      "0      815913053F  247.285026\n",
      "1     1230329545T  171.332578\n",
      "2       29602707F  146.720751\n",
      "3     1231209840F  143.124859\n",
      "4      995662230F  121.552443\n",
      "...           ...         ...\n",
      "1441  1258670222T    0.286418\n",
      "1442   996840287T    0.200724\n",
      "1443   996840287F    0.200724\n",
      "1444   811393658F   -0.350491\n",
      "1445   811393658T   -0.350491\n",
      "\n",
      "[1446 rows x 2 columns]\n"
     ]
    }
   ],
   "source": [
    "sql = '''\n",
    "select link_dir, \n",
    "    ST_length(ST_transform(retired_nodes.geom, 2952)) - ST_length(ST_transform(z.geom, 2952))::int\n",
    "    \n",
    "from congestion.network_links_23_4 AS retired_nodes\n",
    "inner join here.routing_streets_24_4 z using (link_dir) \n",
    "where ST_length(ST_transform(retired_nodes.geom, 2952)) - ST_length(ST_transform(z.geom, 2952))  >0\n",
    "order by abs(ST_length(ST_transform(retired_nodes.geom, 2952)) - ST_length(ST_transform(z.geom, 2952)) ) desc\n",
    "    '''\n",
    "with con : \n",
    "    nodes = pandasql.read_sql(sql, connection_engine) \n",
    "print(nodes)   "
   ]
  },
  {
   "cell_type": "markdown",
   "id": "13711da5-e930-486f-927e-4e3cb71e9afa",
   "metadata": {},
   "source": [
    "### Number of segments that needs to be updated\n",
    "472 segment_ids needs be to retired and route.....For ones with different link_dirs."
   ]
  },
  {
   "cell_type": "code",
   "execution_count": 14,
   "id": "516b77a5-aa05-43d5-bae2-6223f269d735",
   "metadata": {},
   "outputs": [
    {
     "name": "stdout",
     "output_type": "stream",
     "text": [
      "     segment_id\n",
      "0          5843\n",
      "1          1589\n",
      "2           764\n",
      "3          3834\n",
      "4          5644\n",
      "..          ...\n",
      "467        4833\n",
      "468        6341\n",
      "469        2787\n",
      "470        3221\n",
      "471        2850\n",
      "\n",
      "[472 rows x 1 columns]\n"
     ]
    }
   ],
   "source": [
    "sql = '''\n",
    "with changed_links AS (\n",
    "select link_dir from congestion.network_links_23_4\n",
    "except \n",
    "select link_dir from here.routing_streets_24_4 )\n",
    "\t\n",
    "select distinct segment_id from  congestion.network_links_23_4 \n",
    "inner join changed_links using (link_dir)\n",
    "    '''\n",
    "with con : \n",
    "    nodes = pandasql.read_sql(sql, connection_engine) \n",
    "print(nodes)   "
   ]
  },
  {
   "cell_type": "markdown",
   "id": "1f8ba5c0-eb39-4997-8c4d-1bbf69053ba3",
   "metadata": {},
   "source": [
    "including links with changed link_dir, there are 1097 segments that needs to be updated."
   ]
  },
  {
   "cell_type": "code",
   "execution_count": 26,
   "id": "bbcbd0f3-72ee-4e45-a3e8-08d5c77d0dc8",
   "metadata": {},
   "outputs": [
    {
     "name": "stdout",
     "output_type": "stream",
     "text": [
      "      segment_id\n",
      "0           6114\n",
      "1            273\n",
      "2           4326\n",
      "3           2466\n",
      "4            292\n",
      "...          ...\n",
      "1092        6341\n",
      "1093        3565\n",
      "1094        7004\n",
      "1095        4035\n",
      "1096        2850\n",
      "\n",
      "[1097 rows x 1 columns]\n"
     ]
    }
   ],
   "source": [
    "sql = '''\n",
    "with changed_links AS (\n",
    "select link_dir from congestion.network_links_23_4\n",
    "except \n",
    "select link_dir from here.routing_streets_24_4 )\n",
    "\t\n",
    "select distinct segment_id from  congestion.network_links_23_4 \n",
    "inner join changed_links using (link_dir)\n",
    "union\n",
    "select distinct segment_id\n",
    "from congestion.network_links_23_4 AS retired_nodes\n",
    "inner join here.routing_streets_24_4 z using (link_dir) \n",
    "where ST_length(ST_transform(retired_nodes.geom, 2952)) - ST_length(ST_transform(z.geom, 2952))  >0\n",
    "\n",
    "\n",
    "    '''\n",
    "with con : \n",
    "    nodes = pandasql.read_sql(sql, connection_engine) \n",
    "print(nodes)   "
   ]
  },
  {
   "cell_type": "markdown",
   "id": "1ef1286c-db4a-4ede-88a0-0478db16ff56",
   "metadata": {},
   "source": [
    "### Number of new and retired traffic signals\n",
    "Quite a bunch of new traffic signals. We can deal with this after we recreated the network. "
   ]
  },
  {
   "cell_type": "code",
   "execution_count": 16,
   "id": "917b83c2-5818-494b-bb2d-c4c1f5d5c201",
   "metadata": {},
   "outputs": [
    {
     "data": {
      "text/html": [
       "<div>\n",
       "<style scoped>\n",
       "    .dataframe tbody tr th:only-of-type {\n",
       "        vertical-align: middle;\n",
       "    }\n",
       "\n",
       "    .dataframe tbody tr th {\n",
       "        vertical-align: top;\n",
       "    }\n",
       "\n",
       "    .dataframe thead th {\n",
       "        text-align: right;\n",
       "    }\n",
       "</style>\n",
       "<table border=\"1\" class=\"dataframe\">\n",
       "  <thead>\n",
       "    <tr style=\"text-align: right;\">\n",
       "      <th></th>\n",
       "      <th>count</th>\n",
       "    </tr>\n",
       "  </thead>\n",
       "  <tbody>\n",
       "    <tr>\n",
       "      <th>0</th>\n",
       "      <td>37</td>\n",
       "    </tr>\n",
       "  </tbody>\n",
       "</table>\n",
       "</div>"
      ],
      "text/plain": [
       "   count\n",
       "0     37"
      ]
     },
     "execution_count": 16,
     "metadata": {},
     "output_type": "execute_result"
    }
   ],
   "source": [
    "sql = '''\n",
    "select count(1) from gis.traffic_signal\n",
    "where activationdate  >= '2024-01-01'\n",
    "    '''\n",
    "with con : \n",
    "    nodes = pandasql.read_sql(sql, connection_engine) \n",
    "nodes.head()   "
   ]
  },
  {
   "cell_type": "markdown",
   "id": "91404791-7b50-4d0b-92b9-a72019c637f6",
   "metadata": {},
   "source": [
    "## Updating the nodes\n"
   ]
  },
  {
   "cell_type": "markdown",
   "id": "6c848c84-9709-4815-90f7-f2ecdfedbe33",
   "metadata": {},
   "source": [
    "It does return good matched, but there is one on lakeshore which i will have to double check to make sure its correct."
   ]
  },
  {
   "cell_type": "code",
   "execution_count": 19,
   "id": "75ed3cdc-ffe9-4dad-8940-25f33085a299",
   "metadata": {},
   "outputs": [
    {
     "data": {
      "text/html": [
       "<div>\n",
       "<style scoped>\n",
       "    .dataframe tbody tr th:only-of-type {\n",
       "        vertical-align: middle;\n",
       "    }\n",
       "\n",
       "    .dataframe tbody tr th {\n",
       "        vertical-align: top;\n",
       "    }\n",
       "\n",
       "    .dataframe thead th {\n",
       "        text-align: right;\n",
       "    }\n",
       "</style>\n",
       "<table border=\"1\" class=\"dataframe\">\n",
       "  <thead>\n",
       "    <tr style=\"text-align: right;\">\n",
       "      <th></th>\n",
       "      <th>old_id</th>\n",
       "      <th>new_id</th>\n",
       "      <th>geom</th>\n",
       "      <th>node_geom</th>\n",
       "      <th>dist</th>\n",
       "    </tr>\n",
       "  </thead>\n",
       "  <tbody>\n",
       "    <tr>\n",
       "      <th>0</th>\n",
       "      <td>30321266</td>\n",
       "      <td>1258420520</td>\n",
       "      <td>0101000020E6100000C8EF6DFAB3E753C0B21188D7F5DB...</td>\n",
       "      <td>0101000020E6100000B6847CD0B3E753C0D5E76A2BF6DB...</td>\n",
       "      <td>1.372401</td>\n",
       "    </tr>\n",
       "    <tr>\n",
       "      <th>1</th>\n",
       "      <td>30321268</td>\n",
       "      <td>1258420518</td>\n",
       "      <td>0101000020E61000005D6DC5FEB2E753C02BDEC83CF2DB...</td>\n",
       "      <td>0101000020E61000003997E2AAB2E753C04EB4AB90F2DB...</td>\n",
       "      <td>1.957362</td>\n",
       "    </tr>\n",
       "    <tr>\n",
       "      <th>2</th>\n",
       "      <td>1182267418</td>\n",
       "      <td>878395939</td>\n",
       "      <td>0101000020E61000008FFCC1C073DD53C0C898BB9690DF...</td>\n",
       "      <td>0101000020E6100000A167B3EA73DD53C0CFBD874B8EDF...</td>\n",
       "      <td>7.818326</td>\n",
       "    </tr>\n",
       "  </tbody>\n",
       "</table>\n",
       "</div>"
      ],
      "text/plain": [
       "       old_id      new_id                                               geom  \\\n",
       "0    30321266  1258420520  0101000020E6100000C8EF6DFAB3E753C0B21188D7F5DB...   \n",
       "1    30321268  1258420518  0101000020E61000005D6DC5FEB2E753C02BDEC83CF2DB...   \n",
       "2  1182267418   878395939  0101000020E61000008FFCC1C073DD53C0C898BB9690DF...   \n",
       "\n",
       "                                           node_geom      dist  \n",
       "0  0101000020E6100000B6847CD0B3E753C0D5E76A2BF6DB...  1.372401  \n",
       "1  0101000020E61000003997E2AAB2E753C04EB4AB90F2DB...  1.957362  \n",
       "2  0101000020E6100000A167B3EA73DD53C0CFBD874B8EDF...  7.818326  "
      ]
     },
     "execution_count": 19,
     "metadata": {},
     "output_type": "execute_result"
    }
   ],
   "source": [
    "sql = '''\n",
    "with retired_nodes AS (\n",
    "\tselect distinct node_id, geom \n",
    "\tfrom congestion.network_nodes_23\n",
    "\tinner join (\n",
    "        select node_id::bigint from congestion.network_nodes_23\n",
    "        except \n",
    "        select node_id::bigint  from here.routing_nodes_24_4 )a using (node_id))\n",
    "\t\t\t\t\n",
    "select \tretired_nodes.node_id::int as old_id, nodes.node_id::int  as new_id, geom, node_geom, dist\n",
    "from \tretired_nodes\n",
    "CROSS JOIN LATERAL (SELECT z.node_id,\n",
    "\t\t\t\t\t\t\tz.geom AS node_geom, \n",
    "\t\t\t\t\t\t\t(ST_transform(retired_nodes.geom, 2952) <-> ST_Transform(z.geom, 2952)) as dist\t\n",
    "\t\t\t\t\tFROM here.routing_nodes_24_4 z\n",
    "\t\t\t\t\tORDER BY (retired_nodes.geom <-> z.geom)\n",
    "\t\t\t\t\tLIMIT 1) nodes;\n",
    "    '''\n",
    "with con : \n",
    "    nodes = pandasql.read_sql(sql, connection_engine) \n",
    "nodes.head()   "
   ]
  },
  {
   "cell_type": "markdown",
   "id": "a23a4297-9ad0-46c3-848f-64ede3ede028",
   "metadata": {},
   "source": [
    "### Creating new node table\n",
    "\n",
    "New step to use new node's geom."
   ]
  },
  {
   "cell_type": "markdown",
   "id": "e0d64428-de29-4fc6-a748-7c2adc446216",
   "metadata": {},
   "source": [
    "```sql\n",
    "CREATE TABLE congestion.network_nodes_24_4 AS\n",
    "select distinct node_id::bigint, z.geom\n",
    "from congestion.network_nodes_23 retired_nodes\n",
    "inner join here.routing_nodes_24_4 z using (node_id) \n",
    "```"
   ]
  },
  {
   "cell_type": "markdown",
   "id": "790c9517-081a-41de-884b-e7dc36160588",
   "metadata": {},
   "source": [
    "# Updating the links"
   ]
  },
  {
   "cell_type": "markdown",
   "id": "851d5aa0-4569-4c59-8723-9b76a10fe5a2",
   "metadata": {},
   "source": [
    "Create new network_links_23_4 table with newly routed segments for ones that contains outdated links"
   ]
  },
  {
   "cell_type": "markdown",
   "id": "b422abb4-d3e6-4c25-943c-fd7c68b9100c",
   "metadata": {},
   "source": [
    "```sql\n",
    "-- Create new links table except the segment_ids that are outdated\n",
    "\n",
    "CREATE TABLE congestion.network_links_24_4 AS \n",
    "-- retired links\n",
    "with changed_links AS (\n",
    "\tselect link_dir from congestion.network_links_23_4\n",
    "\texcept \n",
    "\tselect link_dir from here.routing_streets_24_4)\n",
    "-- retired segments\t\n",
    ", changed_seg AS (\n",
    "\tselect distinct segment_id, start_vid, end_vid \n",
    "\tfrom  congestion.network_links_23_4\n",
    "\tinner join changed_links using (link_dir))\n",
    "-- everything in network_links other than the retired segments\n",
    "select      a.segment_id, a.start_vid, a.end_vid, routing_streets_24_4.link_dir, routing_streets_24_4.geom, routing_streets_24_4.length\n",
    "from \t\tcongestion.network_links_23_4 a\n",
    "inner join  here.routing_streets_24_4 using (link_dir)\n",
    "left join \tchanged_seg using (segment_id) \n",
    "where \t\tchanged_seg is null ;\n",
    "\n",
    "```\n",
    "\n",
    "```sql\n",
    "-- Insert routed results using new map version (24_4) for retired segments\n",
    "with changed_links AS (\n",
    "\tselect link_dir from congestion.network_links_23_4\n",
    "\texcept \n",
    "\tselect link_dir from here.routing_streets_24_4)\t\n",
    ", changed_seg AS (\n",
    "\tselect distinct segment_id, start_vid, end_vid \n",
    "\tfrom  congestion.network_links_23_4\n",
    "\tinner join changed_links using (link_dir))\n",
    " \n",
    " -- insert result to newly created network_links table\n",
    "INSERT INTO congestion.network_links_24_4\n",
    "SELECT segment_id, start_vid, end_vid, link_dir, routing.geom, round(st_length(st_transform(geom, 2952))::numeric, 2) as length\n",
    "FROM   changed_seg\n",
    "CROSS JOIN LATERAL pgr_dijkstra('SELECT id, source::int, target::int, st_length(st_transform(geom, 2952)) as cost \n",
    "\t\t\t\t \t   \t\t\tFROM here.routing_streets_24_4',  -- route using new map version's routing_streets\n",
    "\t\t\t\t\t\t\t\tstart_vid, \n",
    "\t\t\t\t\t\t\t\tend_vid)\n",
    "INNER JOIN here.routing_streets_24_4 routing ON id = edge;\n",
    "```"
   ]
  },
  {
   "cell_type": "markdown",
   "id": "76fb8428-d9b9-45a1-b952-a0d4f71cba1c",
   "metadata": {},
   "source": [
    "### Check to see if all segments are inserted \n",
    "Returns a couple. "
   ]
  },
  {
   "cell_type": "code",
   "execution_count": 27,
   "id": "c44fe434-30d5-4715-8705-99a5cccdf349",
   "metadata": {},
   "outputs": [
    {
     "data": {
      "text/html": [
       "<div>\n",
       "<style scoped>\n",
       "    .dataframe tbody tr th:only-of-type {\n",
       "        vertical-align: middle;\n",
       "    }\n",
       "\n",
       "    .dataframe tbody tr th {\n",
       "        vertical-align: top;\n",
       "    }\n",
       "\n",
       "    .dataframe thead th {\n",
       "        text-align: right;\n",
       "    }\n",
       "</style>\n",
       "<table border=\"1\" class=\"dataframe\">\n",
       "  <thead>\n",
       "    <tr style=\"text-align: right;\">\n",
       "      <th></th>\n",
       "      <th>segment_id</th>\n",
       "    </tr>\n",
       "  </thead>\n",
       "  <tbody>\n",
       "    <tr>\n",
       "      <th>0</th>\n",
       "      <td>6148</td>\n",
       "    </tr>\n",
       "    <tr>\n",
       "      <th>1</th>\n",
       "      <td>3747</td>\n",
       "    </tr>\n",
       "    <tr>\n",
       "      <th>2</th>\n",
       "      <td>3723</td>\n",
       "    </tr>\n",
       "    <tr>\n",
       "      <th>3</th>\n",
       "      <td>6237</td>\n",
       "    </tr>\n",
       "    <tr>\n",
       "      <th>4</th>\n",
       "      <td>3173</td>\n",
       "    </tr>\n",
       "  </tbody>\n",
       "</table>\n",
       "</div>"
      ],
      "text/plain": [
       "   segment_id\n",
       "0        6148\n",
       "1        3747\n",
       "2        3723\n",
       "3        6237\n",
       "4        3173"
      ]
     },
     "execution_count": 27,
     "metadata": {},
     "output_type": "execute_result"
    }
   ],
   "source": [
    "sql = '''\n",
    "select distinct segment_id from congestion.network_links_23_4\n",
    "except\n",
    "select distinct segment_id from congestion.network_links_24_4\n",
    "    '''\n",
    "with con : \n",
    "    nodes = pandasql.read_sql(sql, connection_engine) \n",
    "nodes.head()  "
   ]
  },
  {
   "cell_type": "markdown",
   "id": "5af89288-9954-4c80-8548-586452381092",
   "metadata": {},
   "source": [
    "### Check to see if both returned the same number of segment_id\n",
    "Both have 6558 segments. "
   ]
  },
  {
   "cell_type": "code",
   "execution_count": 30,
   "id": "8ab90b8a-033b-4f6e-adcb-ec1b6424d7ac",
   "metadata": {},
   "outputs": [
    {
     "data": {
      "text/html": [
       "<div>\n",
       "<style scoped>\n",
       "    .dataframe tbody tr th:only-of-type {\n",
       "        vertical-align: middle;\n",
       "    }\n",
       "\n",
       "    .dataframe tbody tr th {\n",
       "        vertical-align: top;\n",
       "    }\n",
       "\n",
       "    .dataframe thead th {\n",
       "        text-align: right;\n",
       "    }\n",
       "</style>\n",
       "<table border=\"1\" class=\"dataframe\">\n",
       "  <thead>\n",
       "    <tr style=\"text-align: right;\">\n",
       "      <th></th>\n",
       "      <th>count</th>\n",
       "    </tr>\n",
       "  </thead>\n",
       "  <tbody>\n",
       "    <tr>\n",
       "      <th>0</th>\n",
       "      <td>6580</td>\n",
       "    </tr>\n",
       "  </tbody>\n",
       "</table>\n",
       "</div>"
      ],
      "text/plain": [
       "   count\n",
       "0   6580"
      ]
     },
     "execution_count": 30,
     "metadata": {},
     "output_type": "execute_result"
    }
   ],
   "source": [
    "sql = '''\n",
    "\n",
    "select count(distinct segment_id) from congestion.network_links_23_4\n",
    "    '''\n",
    "with con : \n",
    "    nodes = pandasql.read_sql(sql, connection_engine) \n",
    "nodes.head()  "
   ]
  },
  {
   "cell_type": "code",
   "execution_count": 31,
   "id": "f12b8c6b-c943-4303-98ab-9983cf4ade86",
   "metadata": {},
   "outputs": [
    {
     "data": {
      "text/html": [
       "<div>\n",
       "<style scoped>\n",
       "    .dataframe tbody tr th:only-of-type {\n",
       "        vertical-align: middle;\n",
       "    }\n",
       "\n",
       "    .dataframe tbody tr th {\n",
       "        vertical-align: top;\n",
       "    }\n",
       "\n",
       "    .dataframe thead th {\n",
       "        text-align: right;\n",
       "    }\n",
       "</style>\n",
       "<table border=\"1\" class=\"dataframe\">\n",
       "  <thead>\n",
       "    <tr style=\"text-align: right;\">\n",
       "      <th></th>\n",
       "      <th>count</th>\n",
       "    </tr>\n",
       "  </thead>\n",
       "  <tbody>\n",
       "    <tr>\n",
       "      <th>0</th>\n",
       "      <td>6574</td>\n",
       "    </tr>\n",
       "  </tbody>\n",
       "</table>\n",
       "</div>"
      ],
      "text/plain": [
       "   count\n",
       "0   6574"
      ]
     },
     "execution_count": 31,
     "metadata": {},
     "output_type": "execute_result"
    }
   ],
   "source": [
    "sql = '''\n",
    "select count(distinct segment_id) from congestion.network_links_24_4\n",
    "    '''\n",
    "with con : \n",
    "    nodes = pandasql.read_sql(sql, connection_engine) \n",
    "nodes.head()  "
   ]
  },
  {
   "cell_type": "markdown",
   "id": "1d847d40-ffb8-456c-af75-fc5a8307b85d",
   "metadata": {},
   "source": [
    "## Find if there are new traffic signals to add in \n",
    "25?!?!\n",
    "Check them out on QGIS and see if they are legit. \n",
    "Checked: They are mostly legit other than one that are at a midblock and seems like a peds crossing."
   ]
  },
  {
   "cell_type": "code",
   "execution_count": 36,
   "id": "cffbb940-1c66-4b64-995b-5bd9967d1ad2",
   "metadata": {},
   "outputs": [
    {
     "data": {
      "text/html": [
       "<div>\n",
       "<style scoped>\n",
       "    .dataframe tbody tr th:only-of-type {\n",
       "        vertical-align: middle;\n",
       "    }\n",
       "\n",
       "    .dataframe tbody tr th {\n",
       "        vertical-align: top;\n",
       "    }\n",
       "\n",
       "    .dataframe thead th {\n",
       "        text-align: right;\n",
       "    }\n",
       "</style>\n",
       "<table border=\"1\" class=\"dataframe\">\n",
       "  <thead>\n",
       "    <tr style=\"text-align: right;\">\n",
       "      <th></th>\n",
       "      <th>count</th>\n",
       "    </tr>\n",
       "  </thead>\n",
       "  <tbody>\n",
       "    <tr>\n",
       "      <th>0</th>\n",
       "      <td>25</td>\n",
       "    </tr>\n",
       "  </tbody>\n",
       "</table>\n",
       "</div>"
      ],
      "text/plain": [
       "   count\n",
       "0     25"
      ]
     },
     "execution_count": 36,
     "metadata": {},
     "output_type": "execute_result"
    }
   ],
   "source": [
    "sql = '''\n",
    "-- Find segments that needs to be updated due to new traffic signals\n",
    "with new_signal as (\n",
    "\tselect px, ST_Transform(ST_buffer(ST_Transform(geom, 2952), 50), 4326) as geom \n",
    "\tfrom gis.traffic_signal\n",
    "\tleft join congestion.network_int_px_22_2 a using (px)\n",
    "\twhere activationdate >= '2022-04-17' and a.px is null )\n",
    "\n",
    "select count(distinct px)\n",
    "from congestion.network_segments seg\n",
    "join new_signal on ST_intersects(new_signal.geom, seg.geom)\n",
    "    '''\n",
    "with con : \n",
    "    nodes = pandasql.read_sql(sql, connection_engine) \n",
    "nodes.head()  "
   ]
  },
  {
   "cell_type": "markdown",
   "id": "3f10c690-bffa-4d07-bde4-1837fda90242",
   "metadata": {},
   "source": [
    "## Before fixing those, I want to fix the ones I know that is already wrong. AKA Allen road.\n",
    "\n",
    "realized there are a lot, so i wrote a not too clean sql to determine where the start/end link had sharp turns, and if they have sharp turns, give me the proposed new source/target."
   ]
  },
  {
   "cell_type": "markdown",
   "id": "eb4bef03-52eb-4535-99e0-6802db7d2e89",
   "metadata": {},
   "source": [
    "```sql\n",
    "CREATE table natalie.proposed_new_vids AS\n",
    "with some_order AS (\n",
    "select segment_id, start_vid, end_vid, link_dir, source, target, \n",
    "case when start_vid = source then 1\n",
    "when end_vid = target then 10\n",
    "else null end as orders\n",
    "from congestion.network_links_24_4\n",
    "inner join here.routing_streets_24_4 using (link_dir)\n",
    "order by segment_id)\n",
    "\n",
    ", first_n_last_link AS (\n",
    "select segment_id, start_vid, end_vid, link_dir, source, target, orders\n",
    "from some_order\n",
    "where orders is not null\n",
    "union \n",
    "select f_l.segment_id, f_l.start_vid, f_l.end_vid, f_l.link_dir, f_l.source, f_l.target, 2 AS orders\n",
    "from some_order f_l\n",
    "inner join (select * from some_order where orders = 1) nxt \n",
    "    on f_l.source = nxt.target and f_l.segment_id = nxt.segment_id\n",
    "union\n",
    "select f_l.segment_id, f_l.start_vid, f_l.end_vid, f_l.link_dir, f_l.source, f_l.target, 9 AS orders\n",
    "from some_order f_l\n",
    "inner join (select * from some_order where orders = 10) nxt \n",
    "    on f_l.target = nxt.source and f_l.segment_id = nxt.segment_id\n",
    "where f_l.orders is null\n",
    "order by segment_id, orders)\n",
    ", with_dir AS (\n",
    "SELECT segment_id, start_vid, end_vid, a.source, a.target, gis.direction_from_line(a.geom) dir, orders, a.geom\n",
    "from first_n_last_link\n",
    "inner join here.routing_streets_24_4 a using (link_dir)\n",
    "order by segment_id, orders)\n",
    ", results AS (\n",
    "select o1.segment_id, o1.start_vid, o1.end_vid, \n",
    "case when o1.dir!= o2.dir AND o2.dir IS not null THEN o1.target ELSE null END AS proposed_source,\n",
    "case when o3.dir!= o4.dir AND o4.dir IS not null THEN o4.source ELSE null END AS proposed_target,\n",
    "o1.dir as o1_dir, o2.dir as o2_dir, o3.dir as o3_dir, o4.dir as o4_dir\n",
    "from (select * from with_dir where orders = 1) as o1\n",
    "left join (select * from with_dir where orders = 2) as o2 using (segment_id)\n",
    "left join (select * from with_dir where orders = 9) as o3 using (segment_id)\n",
    "left join (select * from with_dir where orders = 10) as o4 using (segment_id))\n",
    "\n",
    "SELECT * from results\n",
    "where proposed_source is not null or proposed_target is not null\n",
    "```\n",
    "\n"
   ]
  },
  {
   "cell_type": "markdown",
   "id": "bc8fa52a-d5d2-4087-9af0-6da52c5dc6eb",
   "metadata": {},
   "source": [
    "i THOUGHT this is gonna fix more than a couple, cause the above returned 270 segments, but i guess toronto's roads are just that curvy. Checked on QGIS, it fixes about 41 of them. At least I don't have to hard code to update 41 segments??? \n",
    "\n",
    "now re-route them and see if they fixes things. Some of them ended up not correct still, have to manually filter but at least some is ok."
   ]
  },
  {
   "cell_type": "markdown",
   "id": "6a1dd2d9-589a-4eb3-b9de-48d6b7e27d5d",
   "metadata": {},
   "source": [
    "```sql\n",
    "create table congestion.proposed_vid_links AS\n",
    "with new_sets AS (\n",
    "select segment_id, case when proposed_source is null then start_vid else proposed_source end as start_vid\n",
    ", case when proposed_target is null then end_vid else proposed_target end as end_vid\n",
    "from congestion.proposed_vid\n",
    "inner join natalie.proposed_new_vids  using (segment_id))\n",
    "\n",
    "SELECT segment_id, start_vid, end_vid, link_dir, routing.geom, \n",
    "    round(st_length(st_transform(geom, 2952))::numeric, 2) as length\n",
    "FROM   new_sets\n",
    "CROSS JOIN LATERAL pgr_dijkstra('SELECT id, source::int, target::int, st_length(st_transform(geom, 2952)) as cost \n",
    "\t\t\t\t \t   \t\t\tFROM here.routing_streets_24_4',  -- route using new map version's routing_streets\n",
    "\t\t\t\t\t\t\t\tstart_vid::int, \n",
    "\t\t\t\t\t\t\t\tend_vid::int)\n",
    "INNER JOIN here.routing_streets_24_4 routing ON id = edge\n",
    "order by segment_id;\n",
    "```\n",
    "\n",
    "\n",
    "```sql\n",
    "select * From congestion.proposed_vid_links\n",
    "where segment_id not in (1089,4309, 6011,7204, 298,2973,2931,3197)\n",
    "```"
   ]
  },
  {
   "cell_type": "markdown",
   "id": "4d80ba9d-11bc-4d27-ab89-84f33188b108",
   "metadata": {},
   "source": [
    "delete wrong things in network_links and then insert the correct ones"
   ]
  },
  {
   "cell_type": "markdown",
   "id": "bab5a2c8-1e45-41fe-a70e-837c1e656df1",
   "metadata": {},
   "source": [
    "```sql\n",
    "delete from congestion.network_links_24_4 \n",
    "where segment_id in (\n",
    "select distinct segment_id From congestion.proposed_vid_links\n",
    "where segment_id not in (1089,4309, 6011,7204, 298,2973,2931,3197));\n",
    "```\n",
    "```sql\n",
    "insert into congestion.network_links_24_4 \n",
    "select * From congestion.proposed_vid_links\n",
    "where segment_id not in (1089,4309, 6011,7204, 298,2973,2931,3197)\n",
    "```"
   ]
  },
  {
   "cell_type": "markdown",
   "id": "852cb817-e78a-4a10-94c5-fc74cebdd639",
   "metadata": {},
   "source": [
    "because we just proposed new nodes, we will have to add them to network_nodes"
   ]
  },
  {
   "cell_type": "markdown",
   "id": "08dcbe49-678a-4e61-9793-79fe3d8b5158",
   "metadata": {},
   "source": [
    "```sql \n",
    "insert into congestion.network_nodes_24_4\n",
    "with new_vid AS (\n",
    "select  start_vid as node_id From congestion.proposed_vid_links\n",
    "where segment_id not in (1089,4309, 6011,7204, 298,2973,2931,3197)\n",
    "union \n",
    "select  end_vid From congestion.proposed_vid_links\n",
    "where segment_id not in (1089,4309, 6011,7204, 298,2973,2931,3197)\n",
    ")\n",
    "select distinct b.node_id, b.geom\n",
    "from new_vid\n",
    "inner join here.routing_nodes_24_4 b using (node_id)\n",
    "left join congestion.network_nodes_24_4 a using (node_id)\n",
    "where a.node_id is null\n",
    "```"
   ]
  },
  {
   "cell_type": "markdown",
   "id": "53e624fd-c8ca-46fb-9683-66fe599a0f75",
   "metadata": {},
   "source": [
    "## Find closest nodes for these new traffic signals "
   ]
  },
  {
   "cell_type": "markdown",
   "id": "87642398-ffb5-43f9-bab6-772a52e97107",
   "metadata": {},
   "source": [
    "Find new traffic signals, except the temporary / portable ones."
   ]
  },
  {
   "cell_type": "code",
   "execution_count": 32,
   "id": "56880b94-ad98-4b6c-be9a-a22ca2628a41",
   "metadata": {},
   "outputs": [],
   "source": [
    "'''\n",
    "-- Find segments that needs to be updated due to new traffic signals\n",
    "with new_signal as (\n",
    "\tselect px, ST_Transform(ST_buffer(ST_Transform(geom, 2952), 50), 4326) as bgeom, geom \n",
    "\tfrom gis.traffic_signal\n",
    "\tleft join congestion.network_int_px_23_4 a using (px)\n",
    "\twhere activationdate >= '2023-12-18' and a.px is null )\n",
    "'''"
   ]
  },
  {
   "cell_type": "markdown",
   "id": "1916ef27-4688-4be4-b66d-2d3a820a1ada",
   "metadata": {},
   "source": [
    "### Exclude traffic signals that should not be included"
   ]
  },
  {
   "cell_type": "markdown",
   "id": "94c5deba-2f11-49ee-bf4d-dd3c49806c08",
   "metadata": {},
   "source": [
    "px 2617 - too far away, nearest node is 40m away\n",
    "\n",
    "px 2650 - its on a ramp, not a part of network segments"
   ]
  },
  {
   "cell_type": "markdown",
   "id": "fc72abff-433e-4559-8400-36308672499e",
   "metadata": {},
   "source": [
    "## Route segments that was affected by new traffic signal"
   ]
  },
  {
   "cell_type": "markdown",
   "id": "e052c967-df05-4e97-8d95-82a8aa42c1e9",
   "metadata": {},
   "source": [
    "This query gathers all new nodes (find by nearest neighbour with traffic signal), as well as the start and end nodes of those affected segments (segments where new traffic signal lies). This creates a new table so its easier to QC on QGIS and make modifications."
   ]
  },
  {
   "cell_type": "code",
   "execution_count": null,
   "id": "11e35eb7-4547-4f4e-8d6b-bcd331bb73e4",
   "metadata": {},
   "outputs": [],
   "source": [
    "create table congestion.new_24_4_px_seg AS\n",
    "WITH affected_nodes AS (\n",
    "select distinct node_id from congestion.network_nodes_24_4\n",
    "except\n",
    "(select start_vid from congestion.network_segments_24_4\n",
    "union \n",
    "select end_vid from congestion.network_segments_24_4\n",
    ") )\n",
    ", staging AS (\n",
    "SELECT segment_id, link_dir, node_id as new_id, start_vid, end_vid\n",
    "from congestion.network_links_24_4\n",
    "inner join here.routing_streets_24_4 using (link_dir)\n",
    "inner join affected_nodes on node_id = source or node_id = target\n",
    "order by segment_id)\n",
    "\n",
    ", new_segments as (\n",
    "select segment_id, start_vid, new_id as end_vid\n",
    "from staging\n",
    "union \n",
    "select segment_id, new_id, end_vid\n",
    "from staging)\n",
    ", segs AS (\n",
    "select 7230+row_number()over () as segment_id, start_vid, end_vid, segment_id as old_seg\n",
    "from new_segments)\n",
    "\n",
    "SELECT results.*, segment_id, link_dir, start_vid, end_vid, routing_grid.id, routing_grid.geom, old_seg\n",
    "\tFROM segs\n",
    "\t, LATERAL pgr_dijkstra('SELECT id, source::int, target::int,\n",
    "\t\t\t\t\t\t   st_length(st_transform(geom, 2952)) as cost\n",
    "\t\t\t\t\t\t   FROM here.routing_streets_24_4 routing_grid\n",
    "\t\t\t\t\t\t   ',\n",
    "\t\t\t\tstart_vid, end_vid) results\n",
    "\tINNER JOIN here.routing_streets_24_4 routing_grid ON id = edge\n",
    "order by segment_id\n"
   ]
  },
  {
   "cell_type": "markdown",
   "id": "017c5f37-4c9e-4ac5-8d98-556d7b7e0d46",
   "metadata": {},
   "source": [
    "Delete old segment_id\n",
    "```sql\n",
    "with segs AS (\n",
    "select distinct old_seg as segment_id \n",
    "from congestion.new_24_4_px_seg)\n",
    ", delete_statement1 AS (\n",
    "delete from congestion.network_links_24_4\n",
    "WHERE segment_id in (select distinct segment_id from segs)\n",
    ")\n",
    "\n",
    "delete from congestion.network_segments_24_4\n",
    "WHERE segment_id in (select distinct segment_id from segs)\n",
    "```\n",
    "Insert new one after validating to links and segment table\n",
    "```sql\n",
    "insert into congestion.network_links_24_4\n",
    "SELECT segment_id, start_vid, end_vid, link_dir , geom, cost as length\n",
    "FROM congestion.new_24_4_px_seg \n",
    "insert into congestion.network_segments_24_4\n",
    "SELECT segment_id, start_vid, end_vid, ST_linemerge(ST_union(geom)) , sum(cost), false, \n",
    "gis.direction_from_line(ST_linemerge(ST_union(geom))) as dir\n",
    "from  congestion.new_24_4_px_seg \n",
    "group by segment_id, start_vid, end_vid;\n",
    "```\n",
    "Update them to retired segment atble\n",
    "```sql\n",
    "\n",
    "insert into congestion.network_segments_retired\n",
    "select  old_seg, old_v.start_Vid, old_v.end_vid, old_v.geom, old_v.total_length, old_v.highway,\n",
    "\t\t_s.int_id as start_int, _t.int_id as end_int, \n",
    "\t\t_s.px::int start_px, _t.px::int as end_px, \n",
    "        '23_4' as here_version, '20231001' as centreline_version, \n",
    "\t\t'2025-05-14'::date as retired_date, 'new traffic signal' as retired_reason, \n",
    "\t  \t array_agg(distinct seg.segment_id) as replaced_id, \n",
    "           null::Date as valid_from, null::Date as valid_to\n",
    "           \n",
    "from congestion.new_24_4_px_seg seg\n",
    "inner join congestion.network_segments_23_4 old_v on old_seg = old_v.segment_id\n",
    "INNER JOIN congestion.network_int_px_23_4 _s on old_v.start_vid = _s.node_id -- to get equivalent start px and int_id\n",
    "INNER JOIN congestion.network_int_px_23_4 _t on old_v.end_vid  = _t.node_id -- to get equivalent end px and int_id\n",
    "\n",
    "group by old_seg,old_v.start_Vid, old_v.end_vid, old_v.geom, old_v.total_length, old_v.highway, start_int\n",
    ", end_int, start_px, end_px, here_version, centreline_version, retired_date, retired_reason, valid_From, valid_to\n",
    "        \n",
    "```"
   ]
  },
  {
   "cell_type": "markdown",
   "id": "274991b5-e2ec-45c9-ae78-2752deeed02c",
   "metadata": {},
   "source": [
    "Major changes: \n",
    "23 old segments retired. \n"
   ]
  },
  {
   "cell_type": "markdown",
   "id": "ce7f5570-dda8-4cad-bccd-de61bef1db39",
   "metadata": {},
   "source": [
    "# Validate"
   ]
  },
  {
   "cell_type": "markdown",
   "id": "a4b726fe-1b33-48fb-b3d7-399279341900",
   "metadata": {},
   "source": [
    "## Make sure there are no duplication "
   ]
  },
  {
   "cell_type": "markdown",
   "id": "3d2151ee-2087-46dc-bab3-d400094fc859",
   "metadata": {},
   "source": [
    "### Table `network_segments`"
   ]
  },
  {
   "cell_type": "markdown",
   "id": "7d8717c6-3841-4540-9988-f2b5e11055c2",
   "metadata": {},
   "source": [
    "Total number of rows in network_segments"
   ]
  },
  {
   "cell_type": "code",
   "execution_count": 13,
   "id": "7a746a7a-7e9b-473f-8b85-97c65ec06699",
   "metadata": {},
   "outputs": [
    {
     "data": {
      "text/html": [
       "<div>\n",
       "<style scoped>\n",
       "    .dataframe tbody tr th:only-of-type {\n",
       "        vertical-align: middle;\n",
       "    }\n",
       "\n",
       "    .dataframe tbody tr th {\n",
       "        vertical-align: top;\n",
       "    }\n",
       "\n",
       "    .dataframe thead th {\n",
       "        text-align: right;\n",
       "    }\n",
       "</style>\n",
       "<table border=\"1\" class=\"dataframe\">\n",
       "  <thead>\n",
       "    <tr style=\"text-align: right;\">\n",
       "      <th></th>\n",
       "      <th>count</th>\n",
       "    </tr>\n",
       "  </thead>\n",
       "  <tbody>\n",
       "    <tr>\n",
       "      <th>0</th>\n",
       "      <td>6612</td>\n",
       "    </tr>\n",
       "  </tbody>\n",
       "</table>\n",
       "</div>"
      ],
      "text/plain": [
       "   count\n",
       "0   6612"
      ]
     },
     "execution_count": 13,
     "metadata": {},
     "output_type": "execute_result"
    }
   ],
   "source": [
    "sql = '''\n",
    "select count(1) \n",
    "from congestion.network_segments_24_4\n",
    "    '''\n",
    "with con : \n",
    "    nodes = pandasql.read_sql(sql, connection_engine) \n",
    "nodes.head()  "
   ]
  },
  {
   "cell_type": "markdown",
   "id": "b827f629-6891-4e8b-a588-33eed50b4616",
   "metadata": {},
   "source": [
    "No duplicated segment_id"
   ]
  },
  {
   "cell_type": "code",
   "execution_count": 14,
   "id": "ecac21a4-01b7-4402-8b69-3e9ec0d5d744",
   "metadata": {},
   "outputs": [
    {
     "data": {
      "text/html": [
       "<div>\n",
       "<style scoped>\n",
       "    .dataframe tbody tr th:only-of-type {\n",
       "        vertical-align: middle;\n",
       "    }\n",
       "\n",
       "    .dataframe tbody tr th {\n",
       "        vertical-align: top;\n",
       "    }\n",
       "\n",
       "    .dataframe thead th {\n",
       "        text-align: right;\n",
       "    }\n",
       "</style>\n",
       "<table border=\"1\" class=\"dataframe\">\n",
       "  <thead>\n",
       "    <tr style=\"text-align: right;\">\n",
       "      <th></th>\n",
       "      <th>count</th>\n",
       "    </tr>\n",
       "  </thead>\n",
       "  <tbody>\n",
       "    <tr>\n",
       "      <th>0</th>\n",
       "      <td>6612</td>\n",
       "    </tr>\n",
       "  </tbody>\n",
       "</table>\n",
       "</div>"
      ],
      "text/plain": [
       "   count\n",
       "0   6612"
      ]
     },
     "execution_count": 14,
     "metadata": {},
     "output_type": "execute_result"
    }
   ],
   "source": [
    "sql = '''\n",
    "select count(1) \n",
    "from (select distinct segment_id from congestion.network_segments_24_4)a\n",
    "    '''\n",
    "with con : \n",
    "    nodes = pandasql.read_sql(sql, connection_engine) \n",
    "nodes.head()  "
   ]
  },
  {
   "cell_type": "markdown",
   "id": "d9848b0d-a289-4e89-94ed-2ebc429b33d4",
   "metadata": {},
   "source": [
    "No duplicated sets of the same segment"
   ]
  },
  {
   "cell_type": "code",
   "execution_count": 15,
   "id": "55b3f0c7-2318-4748-9781-e9dd4bfeadc6",
   "metadata": {},
   "outputs": [
    {
     "data": {
      "text/html": [
       "<div>\n",
       "<style scoped>\n",
       "    .dataframe tbody tr th:only-of-type {\n",
       "        vertical-align: middle;\n",
       "    }\n",
       "\n",
       "    .dataframe tbody tr th {\n",
       "        vertical-align: top;\n",
       "    }\n",
       "\n",
       "    .dataframe thead th {\n",
       "        text-align: right;\n",
       "    }\n",
       "</style>\n",
       "<table border=\"1\" class=\"dataframe\">\n",
       "  <thead>\n",
       "    <tr style=\"text-align: right;\">\n",
       "      <th></th>\n",
       "      <th>count</th>\n",
       "    </tr>\n",
       "  </thead>\n",
       "  <tbody>\n",
       "    <tr>\n",
       "      <th>0</th>\n",
       "      <td>6612</td>\n",
       "    </tr>\n",
       "  </tbody>\n",
       "</table>\n",
       "</div>"
      ],
      "text/plain": [
       "   count\n",
       "0   6612"
      ]
     },
     "execution_count": 15,
     "metadata": {},
     "output_type": "execute_result"
    }
   ],
   "source": [
    "sql = '''\n",
    "select count(1) \n",
    "from (select distinct start_vid, end_vid from congestion.network_segments_24_4)a\n",
    "    '''\n",
    "with con : \n",
    "    nodes = pandasql.read_sql(sql, connection_engine) \n",
    "nodes.head()  "
   ]
  },
  {
   "cell_type": "markdown",
   "id": "4e918c05-bbfc-404f-9d55-720ff2dc5465",
   "metadata": {},
   "source": [
    "### Table `network_nodes`"
   ]
  },
  {
   "cell_type": "markdown",
   "id": "bfef4447-9f30-447b-80bd-949e106a3370",
   "metadata": {},
   "source": [
    "Total number of nodes"
   ]
  },
  {
   "cell_type": "code",
   "execution_count": 23,
   "id": "a7407a2b-317f-415e-a0b6-397b3b03b701",
   "metadata": {},
   "outputs": [
    {
     "data": {
      "text/html": [
       "<div>\n",
       "<style scoped>\n",
       "    .dataframe tbody tr th:only-of-type {\n",
       "        vertical-align: middle;\n",
       "    }\n",
       "\n",
       "    .dataframe tbody tr th {\n",
       "        vertical-align: top;\n",
       "    }\n",
       "\n",
       "    .dataframe thead th {\n",
       "        text-align: right;\n",
       "    }\n",
       "</style>\n",
       "<table border=\"1\" class=\"dataframe\">\n",
       "  <thead>\n",
       "    <tr style=\"text-align: right;\">\n",
       "      <th></th>\n",
       "      <th>count</th>\n",
       "    </tr>\n",
       "  </thead>\n",
       "  <tbody>\n",
       "    <tr>\n",
       "      <th>0</th>\n",
       "      <td>3312</td>\n",
       "    </tr>\n",
       "  </tbody>\n",
       "</table>\n",
       "</div>"
      ],
      "text/plain": [
       "   count\n",
       "0   3312"
      ]
     },
     "execution_count": 23,
     "metadata": {},
     "output_type": "execute_result"
    }
   ],
   "source": [
    "sql = '''\n",
    "select count(1) \n",
    "from congestion.network_nodes_24_4\n",
    "    '''\n",
    "with con : \n",
    "    nodes = pandasql.read_sql(sql, connection_engine) \n",
    "nodes.head()  "
   ]
  },
  {
   "cell_type": "markdown",
   "id": "66d51fb7-052f-45af-bcac-9c35be0f31e5",
   "metadata": {},
   "source": [
    "There are no duplicated node_ids"
   ]
  },
  {
   "cell_type": "code",
   "execution_count": 24,
   "id": "ae1133a2-c47a-4f78-bc33-8aed3405aaaa",
   "metadata": {},
   "outputs": [
    {
     "data": {
      "text/html": [
       "<div>\n",
       "<style scoped>\n",
       "    .dataframe tbody tr th:only-of-type {\n",
       "        vertical-align: middle;\n",
       "    }\n",
       "\n",
       "    .dataframe tbody tr th {\n",
       "        vertical-align: top;\n",
       "    }\n",
       "\n",
       "    .dataframe thead th {\n",
       "        text-align: right;\n",
       "    }\n",
       "</style>\n",
       "<table border=\"1\" class=\"dataframe\">\n",
       "  <thead>\n",
       "    <tr style=\"text-align: right;\">\n",
       "      <th></th>\n",
       "      <th>count</th>\n",
       "    </tr>\n",
       "  </thead>\n",
       "  <tbody>\n",
       "    <tr>\n",
       "      <th>0</th>\n",
       "      <td>3312</td>\n",
       "    </tr>\n",
       "  </tbody>\n",
       "</table>\n",
       "</div>"
      ],
      "text/plain": [
       "   count\n",
       "0   3312"
      ]
     },
     "execution_count": 24,
     "metadata": {},
     "output_type": "execute_result"
    }
   ],
   "source": [
    "sql = '''\n",
    "select count(1) \n",
    "from (select distinct node_id from congestion.network_nodes_24_4)a\n",
    "    '''\n",
    "with con : \n",
    "    nodes = pandasql.read_sql(sql, connection_engine) \n",
    "nodes.head()  "
   ]
  },
  {
   "cell_type": "markdown",
   "id": "a1d2306c-0b66-492d-ba2a-869bc74bfa3b",
   "metadata": {},
   "source": [
    "Are there nodes in network_segments_24 that are not in nodes table?\n",
    "\n",
    "Returns none."
   ]
  },
  {
   "cell_type": "code",
   "execution_count": 25,
   "id": "62649536-9aeb-464f-9bdd-247ad09142a8",
   "metadata": {},
   "outputs": [
    {
     "data": {
      "text/html": [
       "<div>\n",
       "<style scoped>\n",
       "    .dataframe tbody tr th:only-of-type {\n",
       "        vertical-align: middle;\n",
       "    }\n",
       "\n",
       "    .dataframe tbody tr th {\n",
       "        vertical-align: top;\n",
       "    }\n",
       "\n",
       "    .dataframe thead th {\n",
       "        text-align: right;\n",
       "    }\n",
       "</style>\n",
       "<table border=\"1\" class=\"dataframe\">\n",
       "  <thead>\n",
       "    <tr style=\"text-align: right;\">\n",
       "      <th></th>\n",
       "      <th>node_id</th>\n",
       "    </tr>\n",
       "  </thead>\n",
       "  <tbody>\n",
       "  </tbody>\n",
       "</table>\n",
       "</div>"
      ],
      "text/plain": [
       "Empty DataFrame\n",
       "Columns: [node_id]\n",
       "Index: []"
      ]
     },
     "execution_count": 25,
     "metadata": {},
     "output_type": "execute_result"
    }
   ],
   "source": [
    "sql = '''\n",
    "WITH all_nodes AS (\n",
    "\tselect start_vid as node_id\n",
    "\tfrom congestion.network_segments_24_4\n",
    "\tunion \n",
    "\tselect end_vid as node_id\n",
    "\tfrom congestion.network_segments_24_4)\n",
    "select node_id from all_nodes\n",
    "except \n",
    "select node_id from congestion.network_nodes_24_4\n",
    "    '''\n",
    "with con : \n",
    "    nodes = pandasql.read_sql(sql, connection_engine) \n",
    "nodes.head()  "
   ]
  },
  {
   "cell_type": "markdown",
   "id": "763e2364-b6d3-48be-a48c-8bc73c1125ce",
   "metadata": {},
   "source": [
    "the other way around? also none"
   ]
  },
  {
   "cell_type": "code",
   "execution_count": 27,
   "id": "ceeaf3d0-3110-4d93-94c0-afba5f30b113",
   "metadata": {},
   "outputs": [
    {
     "data": {
      "text/html": [
       "<div>\n",
       "<style scoped>\n",
       "    .dataframe tbody tr th:only-of-type {\n",
       "        vertical-align: middle;\n",
       "    }\n",
       "\n",
       "    .dataframe tbody tr th {\n",
       "        vertical-align: top;\n",
       "    }\n",
       "\n",
       "    .dataframe thead th {\n",
       "        text-align: right;\n",
       "    }\n",
       "</style>\n",
       "<table border=\"1\" class=\"dataframe\">\n",
       "  <thead>\n",
       "    <tr style=\"text-align: right;\">\n",
       "      <th></th>\n",
       "      <th>node_id</th>\n",
       "    </tr>\n",
       "  </thead>\n",
       "  <tbody>\n",
       "  </tbody>\n",
       "</table>\n",
       "</div>"
      ],
      "text/plain": [
       "Empty DataFrame\n",
       "Columns: [node_id]\n",
       "Index: []"
      ]
     },
     "execution_count": 27,
     "metadata": {},
     "output_type": "execute_result"
    }
   ],
   "source": [
    "sql = '''\n",
    "WITH all_nodes AS (\n",
    "\tselect start_vid as node_id\n",
    "\tfrom congestion.network_segments_24_4\n",
    "\tunion \n",
    "\tselect end_vid as node_id\n",
    "\tfrom congestion.network_segments_24_4)\n",
    "\n",
    "select node_id from congestion.network_nodes_24_4\n",
    "except\n",
    "select node_id from all_nodes\n",
    "    '''\n",
    "with con : \n",
    "    nodes = pandasql.read_sql(sql, connection_engine) \n",
    "nodes.head()  "
   ]
  },
  {
   "cell_type": "markdown",
   "id": "af429627-df67-4b7d-941a-b65dce6d192c",
   "metadata": {},
   "source": [
    "# NATALIE come back later\n",
    "Are all the nodes in here referenced in the new px<>int<>node table? \n"
   ]
  },
  {
   "cell_type": "code",
   "execution_count": 91,
   "id": "2e012413-9a51-43da-a0b5-5fd37e58dcda",
   "metadata": {},
   "outputs": [
    {
     "data": {
      "text/html": [
       "<div>\n",
       "<style scoped>\n",
       "    .dataframe tbody tr th:only-of-type {\n",
       "        vertical-align: middle;\n",
       "    }\n",
       "\n",
       "    .dataframe tbody tr th {\n",
       "        vertical-align: top;\n",
       "    }\n",
       "\n",
       "    .dataframe thead th {\n",
       "        text-align: right;\n",
       "    }\n",
       "</style>\n",
       "<table border=\"1\" class=\"dataframe\">\n",
       "  <thead>\n",
       "    <tr style=\"text-align: right;\">\n",
       "      <th></th>\n",
       "      <th>node_id</th>\n",
       "    </tr>\n",
       "  </thead>\n",
       "  <tbody>\n",
       "    <tr>\n",
       "      <th>0</th>\n",
       "      <td>1050298501</td>\n",
       "    </tr>\n",
       "    <tr>\n",
       "      <th>1</th>\n",
       "      <td>30375021</td>\n",
       "    </tr>\n",
       "  </tbody>\n",
       "</table>\n",
       "</div>"
      ],
      "text/plain": [
       "      node_id\n",
       "0  1050298501\n",
       "1    30375021"
      ]
     },
     "execution_count": 91,
     "metadata": {},
     "output_type": "execute_result"
    }
   ],
   "source": [
    "sql = '''\n",
    "select node_id::int from congestion.network_nodes_23\n",
    "except \n",
    "select node_id::int from congestion.network_int_px_23_4\n",
    "    '''\n",
    "with con : \n",
    "    nodes = pandasql.read_sql(sql, connection_engine) \n",
    "nodes.head()  "
   ]
  },
  {
   "cell_type": "markdown",
   "id": "a7be2e99-0730-4573-8db8-82e81c688795",
   "metadata": {},
   "source": [
    "### Table `network_links`"
   ]
  },
  {
   "cell_type": "markdown",
   "id": "79f50e16-5251-4834-84a5-fab6e08e0b47",
   "metadata": {},
   "source": [
    "Total number of links"
   ]
  },
  {
   "cell_type": "code",
   "execution_count": 21,
   "id": "d8afc488-a85b-4c3b-9c8c-04fc32d4d4ef",
   "metadata": {},
   "outputs": [
    {
     "data": {
      "text/html": [
       "<div>\n",
       "<style scoped>\n",
       "    .dataframe tbody tr th:only-of-type {\n",
       "        vertical-align: middle;\n",
       "    }\n",
       "\n",
       "    .dataframe tbody tr th {\n",
       "        vertical-align: top;\n",
       "    }\n",
       "\n",
       "    .dataframe thead th {\n",
       "        text-align: right;\n",
       "    }\n",
       "</style>\n",
       "<table border=\"1\" class=\"dataframe\">\n",
       "  <thead>\n",
       "    <tr style=\"text-align: right;\">\n",
       "      <th></th>\n",
       "      <th>count</th>\n",
       "    </tr>\n",
       "  </thead>\n",
       "  <tbody>\n",
       "    <tr>\n",
       "      <th>0</th>\n",
       "      <td>50974</td>\n",
       "    </tr>\n",
       "  </tbody>\n",
       "</table>\n",
       "</div>"
      ],
      "text/plain": [
       "   count\n",
       "0  50974"
      ]
     },
     "execution_count": 21,
     "metadata": {},
     "output_type": "execute_result"
    }
   ],
   "source": [
    "sql = '''\n",
    "\n",
    "select count(1) \n",
    "from congestion.network_links_24_4\n",
    "    '''\n",
    "with con : \n",
    "    nodes = pandasql.read_sql(sql, connection_engine) \n",
    "nodes.head()  "
   ]
  },
  {
   "cell_type": "markdown",
   "id": "2c63b719-d123-4df7-be9e-70d562c4dcd6",
   "metadata": {},
   "source": [
    "a bunch of them are duplicate, where???\n",
    "- fixed, now only 1, which is correct. "
   ]
  },
  {
   "cell_type": "code",
   "execution_count": 22,
   "id": "6b4d12d7-9541-43fb-af22-df031ee94d75",
   "metadata": {},
   "outputs": [
    {
     "data": {
      "text/html": [
       "<div>\n",
       "<style scoped>\n",
       "    .dataframe tbody tr th:only-of-type {\n",
       "        vertical-align: middle;\n",
       "    }\n",
       "\n",
       "    .dataframe tbody tr th {\n",
       "        vertical-align: top;\n",
       "    }\n",
       "\n",
       "    .dataframe thead th {\n",
       "        text-align: right;\n",
       "    }\n",
       "</style>\n",
       "<table border=\"1\" class=\"dataframe\">\n",
       "  <thead>\n",
       "    <tr style=\"text-align: right;\">\n",
       "      <th></th>\n",
       "      <th>count</th>\n",
       "    </tr>\n",
       "  </thead>\n",
       "  <tbody>\n",
       "    <tr>\n",
       "      <th>0</th>\n",
       "      <td>50973</td>\n",
       "    </tr>\n",
       "  </tbody>\n",
       "</table>\n",
       "</div>"
      ],
      "text/plain": [
       "   count\n",
       "0  50973"
      ]
     },
     "execution_count": 22,
     "metadata": {},
     "output_type": "execute_result"
    }
   ],
   "source": [
    "sql = '''\n",
    "select count(1) \n",
    "from (select distinct link_dir from congestion.network_links_24_4)a\n",
    "    '''\n",
    "with con : \n",
    "    nodes = pandasql.read_sql(sql, connection_engine) \n",
    "nodes.head()  "
   ]
  }
 ],
 "metadata": {
  "kernelspec": {
   "display_name": "Python 3 (ipykernel)",
   "language": "python",
   "name": "python3"
  },
  "language_info": {
   "codemirror_mode": {
    "name": "ipython",
    "version": 3
   },
   "file_extension": ".py",
   "mimetype": "text/x-python",
   "name": "python",
   "nbconvert_exporter": "python",
   "pygments_lexer": "ipython3",
   "version": "3.10.12"
  }
 },
 "nbformat": 4,
 "nbformat_minor": 5
}
