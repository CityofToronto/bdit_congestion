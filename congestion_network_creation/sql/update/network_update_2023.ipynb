{
 "cells": [
  {
   "cell_type": "markdown",
   "id": "50331395-6c92-4036-bc7d-161e9393383f",
   "metadata": {},
   "source": [
    "# Map version update 2023"
   ]
  },
  {
   "cell_type": "code",
   "execution_count": 1,
   "id": "b2b45c31-2da7-4325-aca1-235e8927c2b5",
   "metadata": {},
   "outputs": [
    {
     "name": "stderr",
     "output_type": "stream",
     "text": [
      "/etc/jupyterhub/.venv/lib/python3.6/site-packages/geopandas/_compat.py:110: UserWarning: The Shapely GEOS version (3.8.0-CAPI-1.13.1 ) is incompatible with the GEOS version PyGEOS was compiled with (3.10.1-CAPI-1.16.0). Conversions between both will be slow.\n",
      "  shapely_geos_version, geos_capi_version_string\n"
     ]
    }
   ],
   "source": [
    "import configparser\n",
    "from pathlib import Path\n",
    "import pandas as pd\n",
    "import pandas.io.sql as pandasql\n",
    "from psycopg2 import connect\n",
    "import matplotlib.ticker as ticker\n",
    "import matplotlib.dates as mdates\n",
    "from matplotlib.ticker import (MultipleLocator, FormatStrFormatter,\n",
    "                               AutoMinorLocator, PercentFormatter)\n",
    "import numpy\n",
    "from psycopg2.extras import execute_values\n",
    "from datetime import datetime\n",
    "import matplotlib as mpl\n",
    "import numpy as np\n",
    "\n",
    "import matplotlib.pyplot as plt\n",
    "import seaborn as sns\n",
    "import geopandas as gpd\n",
    "from IPython.display import HTML\n",
    "import matplotlib.patches as patches\n",
    "CONFIG = configparser.ConfigParser()\n",
    "CONFIG.read(str(Path.home().joinpath('db.cfg')))\n",
    "from itertools import combinations, chain\n",
    "dbset = CONFIG['DBSETTINGS']\n",
    "con = connect(**dbset)"
   ]
  },
  {
   "cell_type": "markdown",
   "id": "c014c128-fa4a-4970-8fc5-cf5750e19f17",
   "metadata": {},
   "source": [
    "## Find out how many link_dir changed in the new map version"
   ]
  },
  {
   "cell_type": "markdown",
   "id": "37cf0640-5c7a-4c73-beaa-e28e311a8c47",
   "metadata": {},
   "source": [
    "2329 links changed in the new map version."
   ]
  },
  {
   "cell_type": "code",
   "execution_count": 5,
   "id": "37186129-a65b-4109-8be5-1d11b5c2cfc3",
   "metadata": {
    "jupyter": {
     "source_hidden": true
    },
    "tags": []
   },
   "outputs": [
    {
     "data": {
      "text/html": [
       "<div>\n",
       "<style scoped>\n",
       "    .dataframe tbody tr th:only-of-type {\n",
       "        vertical-align: middle;\n",
       "    }\n",
       "\n",
       "    .dataframe tbody tr th {\n",
       "        vertical-align: top;\n",
       "    }\n",
       "\n",
       "    .dataframe thead th {\n",
       "        text-align: right;\n",
       "    }\n",
       "</style>\n",
       "<table border=\"1\" class=\"dataframe\">\n",
       "  <thead>\n",
       "    <tr style=\"text-align: right;\">\n",
       "      <th></th>\n",
       "      <th>count</th>\n",
       "    </tr>\n",
       "  </thead>\n",
       "  <tbody>\n",
       "    <tr>\n",
       "      <th>0</th>\n",
       "      <td>2329</td>\n",
       "    </tr>\n",
       "  </tbody>\n",
       "</table>\n",
       "</div>"
      ],
      "text/plain": [
       "   count\n",
       "0   2329"
      ]
     },
     "execution_count": 5,
     "metadata": {},
     "output_type": "execute_result"
    }
   ],
   "source": [
    "num_links = '''\n",
    "WITH temp AS (\n",
    "select link_dir from congestion.network_links_22_2\n",
    "except \n",
    "select link_dir from here.routing_streets_23_1 )\n",
    "SELECT count(1) from temp\n",
    "'''\n",
    "num_links = pandasql.read_sql(num_links, con)\n",
    "\n",
    "num_links"
   ]
  },
  {
   "cell_type": "markdown",
   "id": "9d32b61e-c69b-4996-b7cd-b12a7a4baae2",
   "metadata": {},
   "source": [
    "## Find out how many segment_id needs to be updated"
   ]
  },
  {
   "cell_type": "markdown",
   "id": "338e10b8-5c82-4dfa-8d0a-b8b093dacec7",
   "metadata": {},
   "source": [
    "178 segments in the congestion network needs to be updated."
   ]
  },
  {
   "cell_type": "code",
   "execution_count": 6,
   "id": "833a9881-2c94-4009-9f6d-131177d26c92",
   "metadata": {
    "jupyter": {
     "source_hidden": true
    },
    "tags": []
   },
   "outputs": [
    {
     "data": {
      "text/html": [
       "<div>\n",
       "<style scoped>\n",
       "    .dataframe tbody tr th:only-of-type {\n",
       "        vertical-align: middle;\n",
       "    }\n",
       "\n",
       "    .dataframe tbody tr th {\n",
       "        vertical-align: top;\n",
       "    }\n",
       "\n",
       "    .dataframe thead th {\n",
       "        text-align: right;\n",
       "    }\n",
       "</style>\n",
       "<table border=\"1\" class=\"dataframe\">\n",
       "  <thead>\n",
       "    <tr style=\"text-align: right;\">\n",
       "      <th></th>\n",
       "      <th>count</th>\n",
       "    </tr>\n",
       "  </thead>\n",
       "  <tbody>\n",
       "    <tr>\n",
       "      <th>0</th>\n",
       "      <td>178</td>\n",
       "    </tr>\n",
       "  </tbody>\n",
       "</table>\n",
       "</div>"
      ],
      "text/plain": [
       "   count\n",
       "0    178"
      ]
     },
     "execution_count": 6,
     "metadata": {},
     "output_type": "execute_result"
    }
   ],
   "source": [
    "num_links = '''\n",
    "with changed_links AS (\n",
    "\tselect link_dir from congestion.network_links_21_1\n",
    "\texcept \n",
    "\tselect link_dir from here.routing_streets_22_2)\n",
    "\t\n",
    "select count(distinct segment_id) from congestion.network_links_21_1 \n",
    "inner join changed_links using (link_dir)\n",
    "'''\n",
    "num_links = pandasql.read_sql(num_links, con)\n",
    "\n",
    "num_links"
   ]
  },
  {
   "cell_type": "markdown",
   "id": "3440a529-abf1-41fb-81d5-5b00e7977441",
   "metadata": {},
   "source": [
    "## Find out if any segments are affected by node_id changes"
   ]
  },
  {
   "cell_type": "markdown",
   "id": "11527f51-234e-413b-bcdb-1a6dc3b5d48d",
   "metadata": {},
   "source": [
    "Nothing! network nodes stay the same this time as well."
   ]
  },
  {
   "cell_type": "code",
   "execution_count": 8,
   "id": "fe9ceebf-094e-4c35-925b-ac104e6a1996",
   "metadata": {},
   "outputs": [
    {
     "data": {
      "text/html": [
       "<div>\n",
       "<style scoped>\n",
       "    .dataframe tbody tr th:only-of-type {\n",
       "        vertical-align: middle;\n",
       "    }\n",
       "\n",
       "    .dataframe tbody tr th {\n",
       "        vertical-align: top;\n",
       "    }\n",
       "\n",
       "    .dataframe thead th {\n",
       "        text-align: right;\n",
       "    }\n",
       "</style>\n",
       "<table border=\"1\" class=\"dataframe\">\n",
       "  <thead>\n",
       "    <tr style=\"text-align: right;\">\n",
       "      <th></th>\n",
       "      <th>segment_id</th>\n",
       "      <th>start_vid</th>\n",
       "      <th>end_vid</th>\n",
       "      <th>geom</th>\n",
       "      <th>total_length</th>\n",
       "      <th>highway</th>\n",
       "      <th>direction</th>\n",
       "      <th>node_id</th>\n",
       "    </tr>\n",
       "  </thead>\n",
       "  <tbody>\n",
       "  </tbody>\n",
       "</table>\n",
       "</div>"
      ],
      "text/plain": [
       "Empty DataFrame\n",
       "Columns: [segment_id, start_vid, end_vid, geom, total_length, highway, direction, node_id]\n",
       "Index: []"
      ]
     },
     "execution_count": 8,
     "metadata": {},
     "output_type": "execute_result"
    }
   ],
   "source": [
    "\n",
    "num_links = '''\n",
    "select * from congestion.network_segments\n",
    "inner join (select node_id from congestion.network_nodes\n",
    "\t\t\texcept \n",
    "\t\t\tselect node_id from here.routing_nodes_23_1 )a on start_vid = node_id or end_vid = node_id\n",
    "'''\n",
    "num_links = pandasql.read_sql(num_links, con)\n",
    "\n",
    "num_links"
   ]
  },
  {
   "cell_type": "markdown",
   "id": "0b4b8292-c524-4af7-ad98-0121dd784c23",
   "metadata": {},
   "source": [
    "## Find out how many new traffic signals have been added"
   ]
  },
  {
   "cell_type": "code",
   "execution_count": null,
   "id": "1e48eec5-49e6-4752-856f-9080853c8715",
   "metadata": {},
   "outputs": [],
   "source": []
  }
 ],
 "metadata": {
  "kernelspec": {
   "display_name": "Python 3",
   "language": "python",
   "name": "python3"
  },
  "language_info": {
   "codemirror_mode": {
    "name": "ipython",
    "version": 3
   },
   "file_extension": ".py",
   "mimetype": "text/x-python",
   "name": "python",
   "nbconvert_exporter": "python",
   "pygments_lexer": "ipython3",
   "version": "3.6.9"
  }
 },
 "nbformat": 4,
 "nbformat_minor": 5
}
