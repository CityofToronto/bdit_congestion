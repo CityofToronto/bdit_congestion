{
 "cells": [
  {
   "cell_type": "markdown",
   "id": "60e90ab6-321d-4f76-a6f9-7a0daee1804d",
   "metadata": {},
   "source": [
    "# Map geometry changes"
   ]
  },
  {
   "cell_type": "markdown",
   "id": "64f5ea2c-d6d7-4776-b127-dcd5a5febab3",
   "metadata": {},
   "source": [
    "Investigation on inconsistent geometry between versions detailed in issue #75."
   ]
  },
  {
   "cell_type": "code",
   "execution_count": 9,
   "id": "d0c008c0-c07f-4a54-b130-3f0d46d9548c",
   "metadata": {},
   "outputs": [],
   "source": [
    "from psycopg2 import connect\n",
    "from psycopg2 import sql\n",
    "from psycopg2.extras import execute_values\n",
    "from pathlib import Path\n",
    "import pandas as pd\n",
    "import geopandas as gpd\n",
    "import pandas.io.sql as pandasql\n",
    "import configparser\n",
    "import matplotlib.pyplot as plt\n",
    "from sqlalchemy import create_engine\n",
    "from sqlalchemy.engine import URL\n",
    "CONFIG = configparser.ConfigParser()\n",
    "CONFIG.read(str(Path.home().joinpath('db.cfg')))\n",
    "dbset = CONFIG['DBSETTINGS']\n",
    "con = connect(**dbset)\n",
    "connection_engine = create_engine(\n",
    "    URL.create(\n",
    "        drivername = \"postgresql\",\n",
    "        host = CONFIG['DBSETTINGS']['host'],\n",
    "        database = CONFIG['DBSETTINGS']['database'],\n",
    "        username = CONFIG['DBSETTINGS']['user'],\n",
    "        password = CONFIG['DBSETTINGS']['password']))\n",
    "cur = connection_engine.raw_connection().cursor()"
   ]
  },
  {
   "cell_type": "markdown",
   "id": "197843d0-2098-4b2a-b8fd-bbe876a6c736",
   "metadata": {},
   "source": [
    "There are 43504 links that has the same link_dir as the previous version"
   ]
  },
  {
   "cell_type": "code",
   "execution_count": 3,
   "id": "8d60fe67-24f7-4891-a37a-4ccb1ce9f3a2",
   "metadata": {},
   "outputs": [
    {
     "data": {
      "text/html": [
       "<div>\n",
       "<style scoped>\n",
       "    .dataframe tbody tr th:only-of-type {\n",
       "        vertical-align: middle;\n",
       "    }\n",
       "\n",
       "    .dataframe tbody tr th {\n",
       "        vertical-align: top;\n",
       "    }\n",
       "\n",
       "    .dataframe thead th {\n",
       "        text-align: right;\n",
       "    }\n",
       "</style>\n",
       "<table border=\"1\" class=\"dataframe\">\n",
       "  <thead>\n",
       "    <tr style=\"text-align: right;\">\n",
       "      <th></th>\n",
       "      <th>count</th>\n",
       "    </tr>\n",
       "  </thead>\n",
       "  <tbody>\n",
       "    <tr>\n",
       "      <th>0</th>\n",
       "      <td>43504</td>\n",
       "    </tr>\n",
       "  </tbody>\n",
       "</table>\n",
       "</div>"
      ],
      "text/plain": [
       "   count\n",
       "0  43504"
      ]
     },
     "execution_count": 3,
     "metadata": {},
     "output_type": "execute_result"
    }
   ],
   "source": [
    "sql = '''\n",
    "select count(1) from congestion.network_links_23_4\n",
    "inner join congestion.network_links_22_2 using (link_dir)\n",
    "'''\n",
    "with con : \n",
    "    nodes = pandasql.read_sql(sql, connection_engine) \n",
    "nodes.head()  "
   ]
  },
  {
   "cell_type": "markdown",
   "id": "69b97079-d30f-4087-bea2-039da9371a04",
   "metadata": {},
   "source": [
    "There are 4701 link_dirs (about 11%) with different geometries."
   ]
  },
  {
   "cell_type": "code",
   "execution_count": 7,
   "id": "35730929-eeca-4963-aa2a-8eacbba146f0",
   "metadata": {},
   "outputs": [
    {
     "data": {
      "text/html": [
       "<div>\n",
       "<style scoped>\n",
       "    .dataframe tbody tr th:only-of-type {\n",
       "        vertical-align: middle;\n",
       "    }\n",
       "\n",
       "    .dataframe tbody tr th {\n",
       "        vertical-align: top;\n",
       "    }\n",
       "\n",
       "    .dataframe thead th {\n",
       "        text-align: right;\n",
       "    }\n",
       "</style>\n",
       "<table border=\"1\" class=\"dataframe\">\n",
       "  <thead>\n",
       "    <tr style=\"text-align: right;\">\n",
       "      <th></th>\n",
       "      <th>count</th>\n",
       "    </tr>\n",
       "  </thead>\n",
       "  <tbody>\n",
       "    <tr>\n",
       "      <th>0</th>\n",
       "      <td>4701</td>\n",
       "    </tr>\n",
       "  </tbody>\n",
       "</table>\n",
       "</div>"
      ],
      "text/plain": [
       "   count\n",
       "0   4701"
      ]
     },
     "execution_count": 7,
     "metadata": {},
     "output_type": "execute_result"
    }
   ],
   "source": [
    "sql = '''\n",
    "-- Find how many link has the same geometry using ST_Equals\n",
    "\n",
    "select count(1) from congestion.network_links_23_4_geom v23\n",
    "inner join congestion.network_links_22_2 v22 using (link_dir)\n",
    "where not ST_Equals(v22.geom,v23.geom) \n",
    "'''\n",
    "with con : \n",
    "    nodes = pandasql.read_sql(sql, connection_engine) \n",
    "nodes.head()  "
   ]
  },
  {
   "cell_type": "markdown",
   "id": "a43af630-5aba-4c29-b2f5-4c6d4aa3829d",
   "metadata": {},
   "source": [
    "There are located around here, the highway is showing up a bit, as well as Finch and Leslie, Weston Rd, and Eglinton Ave."
   ]
  },
  {
   "cell_type": "code",
   "execution_count": 12,
   "id": "76e03b1c-d119-48e7-9411-fb1b23927a4d",
   "metadata": {
    "jupyter": {
     "source_hidden": true
    }
   },
   "outputs": [
    {
     "name": "stderr",
     "output_type": "stream",
     "text": [
      "/data/jupyterhub/.venv/lib/python3.10/site-packages/geopandas/io/sql.py:170: UserWarning: pandas only supports SQLAlchemy connectable (engine/connection) or database string URI or sqlite3 DBAPI2 connection. Other DBAPI2 objects are not tested. Please consider using SQLAlchemy.\n",
      "  df = pd.read_sql(\n"
     ]
    }
   ],
   "source": [
    "new_links = '''\n",
    "select link_dir, gis.geopandas_transform(v23.geom) as geom \n",
    "from congestion.network_links_23_4_geom v23\n",
    "inner join congestion.network_links_22_2 v22 using (link_dir)\n",
    "where not ST_Equals(v22.geom,v23.geom)   \n",
    "                '''\n",
    "new_links = gpd.GeoDataFrame.from_postgis(new_links, con, geom_col='geom')\n",
    "new_links = new_links.to_crs('epsg:26917')"
   ]
  },
  {
   "cell_type": "code",
   "execution_count": 16,
   "id": "ce292910-054e-49d9-b373-022492d6944a",
   "metadata": {},
   "outputs": [
    {
     "data": {
      "text/plain": [
       "<Axes: >"
      ]
     },
     "execution_count": 16,
     "metadata": {},
     "output_type": "execute_result"
    },
    {
     "data": {
      "image/png": "[encoded data removed]",
      "text/plain": [
       "<Figure size 640x480 with 1 Axes>"
      ]
     },
     "metadata": {},
     "output_type": "display_data"
    }
   ],
   "source": [
    "new_links.plot(column = 'link_dir')"
   ]
  },
  {
   "cell_type": "markdown",
   "id": "5855a922-5094-4ebe-a33e-9cf7523d47a8",
   "metadata": {},
   "source": [
    "Only 115 segments has a length difference more than 5m. "
   ]
  },
  {
   "cell_type": "code",
   "execution_count": 20,
   "id": "b09ffb45-3370-4fb7-b68b-a30e88cefaab",
   "metadata": {},
   "outputs": [
    {
     "data": {
      "text/html": [
       "<div>\n",
       "<style scoped>\n",
       "    .dataframe tbody tr th:only-of-type {\n",
       "        vertical-align: middle;\n",
       "    }\n",
       "\n",
       "    .dataframe tbody tr th {\n",
       "        vertical-align: top;\n",
       "    }\n",
       "\n",
       "    .dataframe thead th {\n",
       "        text-align: right;\n",
       "    }\n",
       "</style>\n",
       "<table border=\"1\" class=\"dataframe\">\n",
       "  <thead>\n",
       "    <tr style=\"text-align: right;\">\n",
       "      <th></th>\n",
       "      <th>count</th>\n",
       "    </tr>\n",
       "  </thead>\n",
       "  <tbody>\n",
       "    <tr>\n",
       "      <th>0</th>\n",
       "      <td>218</td>\n",
       "    </tr>\n",
       "  </tbody>\n",
       "</table>\n",
       "</div>"
      ],
      "text/plain": [
       "   count\n",
       "0    218"
      ]
     },
     "execution_count": 20,
     "metadata": {},
     "output_type": "execute_result"
    }
   ],
   "source": [
    "sql = '''\n",
    "select count(1)\n",
    "from congestion.network_segments v22\n",
    "inner join congestion.network_segments_23_4_geom v23 using (segment_id)\n",
    "where abs(v23.total_length -  v22.total_length) >5\n",
    "'''\n",
    "with con : \n",
    "    nodes = pandasql.read_sql(sql, connection_engine) \n",
    "nodes.head()  "
   ]
  },
  {
   "cell_type": "markdown",
   "id": "77915a08-e8b0-4ce2-9104-59de1dffbaad",
   "metadata": {},
   "source": [
    "## Validate by routing and checking ST_isvalid"
   ]
  },
  {
   "cell_type": "code",
   "execution_count": null,
   "id": "33ac621e-5ef2-4c2a-ae0e-b61e51a2cef8",
   "metadata": {},
   "outputs": [],
   "source": [
    "'''\n",
    "with affected as (\n",
    "\tselect v22.segment_id, v22.start_vid, v22.end_vid, v22.direction\n",
    "\tfrom congestion.network_segments v22\n",
    "\tinner join congestion.network_segments_23_4_geom v23 using (segment_id)\n",
    "\twhere abs(v23.total_length -  v22.total_length) > 5)\n",
    "\n",
    ", validate_nodes AS (\n",
    "\tSELECT affected.segment_id, affected.start_vid, affected.end_vid, re.start_vid as source, rere.end_vid  as target\n",
    "\tfrom affected \n",
    "\tleft join congestion.network_segments_23_4_geom re on affected.start_vid = re.end_vid\n",
    "\tleft join congestion.network_segments_23_4_geom rere on affected.end_vid = rere.start_vid\n",
    "\twhere affected.direction = re.direction and affected.direction = rere.direction\n",
    "\torder by affected.segment_id)\n",
    "\n",
    "select validate_nodes.segment_id as test_id, \n",
    "\t\tvalidate_nodes.start_vid, validate_nodes.end_vid, \n",
    "\t\tarray_agg(edge) AS segments, \n",
    "\t\tST_isvalid(ST_linemerge(ST_Union(geom))), \n",
    "\t\tST_linemerge(ST_Union(geom)) AS geom \n",
    "from validate_nodes\n",
    ", LATERAL pgr_dijkstra('SELECT segment_id as id, start_vid::int as source, end_vid::int as target, \n",
    "\t\t\t\t\t   st_length(st_transform(geom, 2952)) as cost \n",
    "\t\t\t\t\t\tFROM congestion.network_segments_23_4_geom\n",
    "\t\t\t\t\t   ',\n",
    "\t\t\t\tsource, target) results\n",
    "INNER JOIN congestion.network_segments_23_4_geom ON segment_id = edge\n",
    "group by validate_nodes.segment_id, validate_nodes.start_vid, validate_nodes.end_vid\n",
    "'''"
   ]
  },
  {
   "cell_type": "markdown",
   "id": "6e0eb383-bf79-4dea-9dd4-f09347d01238",
   "metadata": {},
   "source": [
    "All 177 segments that got routed has a valid geometry. Looking at the map, as geometries of the link_dir swifted, the nodes geometry swifted as well, the resulted segments at the end is still routable, just looks a little different. For example:"
   ]
  },
  {
   "cell_type": "markdown",
   "id": "a92e1703-3aa2-4b9b-91c6-43ee2c55a6a4",
   "metadata": {},
   "source": [
    "![image](https://github.com/CityofToronto/bdit_congestion/assets/46324452/6c6f9ad7-8682-4666-ad87-a686a4fd74ce)\n",
    "![image](https://github.com/CityofToronto/bdit_congestion/assets/46324452/1884bbd7-3ebd-498d-9269-ebcf50ec65ee)\r\n"
   ]
  },
  {
   "cell_type": "markdown",
   "id": "7ba30ae6-b43c-40e8-9f6b-d8ea454674e1",
   "metadata": {},
   "source": [
    "Now on to the ones that did not get routed, there are 46.\n",
    "\n",
    "Looks totally fine. They likely did not get routed because I added a clause where the adjacent segments for routing has to have the same direction, and these segments' adjacent segmetns often does not have the same direction.\n",
    "\n",
    "![image](https://github.com/CityofToronto/bdit_congestion/assets/46324452/7c1ef0d6-7a21-49b8-b64a-f8e2a8c8e999)\r\n",
    "![image](https://github.com/CityofToronto/bdit_congestion/assets/46324452/6a22b414-cd60-49d9-b2df-f48861f50d23)\r\n"
   ]
  }
 ],
 "metadata": {
  "kernelspec": {
   "display_name": "Python 3 (ipykernel)",
   "language": "python",
   "name": "python3"
  },
  "language_info": {
   "codemirror_mode": {
    "name": "ipython",
    "version": 3
   },
   "file_extension": ".py",
   "mimetype": "text/x-python",
   "name": "python",
   "nbconvert_exporter": "python",
   "pygments_lexer": "ipython3",
   "version": "3.10.12"
  }
 },
 "nbformat": 4,
 "nbformat_minor": 5
}
